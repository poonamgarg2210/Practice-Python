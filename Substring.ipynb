{
 "cells": [
  {
   "cell_type": "code",
   "execution_count": null,
   "id": "a320d6f0-57b6-4350-b7ff-cea86702ab95",
   "metadata": {},
   "outputs": [],
   "source": [
    "syntax = string[start:end:step]"
   ]
  },
  {
   "cell_type": "code",
   "execution_count": null,
   "id": "6d29103d-ff81-4305-9f80-476da23f3fae",
   "metadata": {},
   "outputs": [],
   "source": [
    "# start= the starting index of substring. the character at this index is included in the substring.\n",
    "# end = the terminating index of substring. the character at this index is not included in the substring.\n",
    "# step= every step character after the current character to be included. The default value is 1. "
   ]
  },
  {
   "cell_type": "code",
   "execution_count": null,
   "id": "0fe0533d-0836-4c0b-87d8-00c386250c14",
   "metadata": {},
   "outputs": [],
   "source": []
  },
  {
   "cell_type": "code",
   "execution_count": null,
   "id": "b37c5d8a-f16c-468f-ac41-cbbf1673b9ad",
   "metadata": {},
   "outputs": [],
   "source": [
    "# 1. Get the first 5 character of the string "
   ]
  },
  {
   "cell_type": "code",
   "execution_count": 2,
   "id": "26101fcd-f146-4579-a472-4b935b8c711e",
   "metadata": {},
   "outputs": [
    {
     "name": "stdout",
     "output_type": "stream",
     "text": [
      "Poona\n"
     ]
    }
   ],
   "source": [
    "string = \"PoonamGarg\"\n",
    "print(string[0:5])"
   ]
  },
  {
   "cell_type": "code",
   "execution_count": 3,
   "id": "62e754fc-982a-497f-b290-762cbae8a458",
   "metadata": {},
   "outputs": [
    {
     "name": "stdout",
     "output_type": "stream",
     "text": [
      "Poona\n"
     ]
    }
   ],
   "source": [
    "print(string[:5])"
   ]
  },
  {
   "cell_type": "code",
   "execution_count": null,
   "id": "9843e695-3138-4104-acad-9022364c8f4d",
   "metadata": {},
   "outputs": [],
   "source": [
    "# 2. Get a substring 4 characters long, starting from the 3rd character of the string."
   ]
  },
  {
   "cell_type": "code",
   "execution_count": 4,
   "id": "c7a05400-aba8-4c70-aada-bf9351d2a194",
   "metadata": {},
   "outputs": [
    {
     "name": "stdout",
     "output_type": "stream",
     "text": [
      "onam\n"
     ]
    }
   ],
   "source": [
    "string = \"PoonamGarg\"\n",
    "print(string[2:6])"
   ]
  },
  {
   "cell_type": "code",
   "execution_count": null,
   "id": "31365ebb-c07a-4268-b182-6fdb1d4613cc",
   "metadata": {},
   "outputs": [],
   "source": [
    "# 3.Get the last character of the string"
   ]
  },
  {
   "cell_type": "code",
   "execution_count": 5,
   "id": "c412e70a-6252-48aa-ad8c-2920f9c63585",
   "metadata": {},
   "outputs": [
    {
     "name": "stdout",
     "output_type": "stream",
     "text": [
      "g\n"
     ]
    }
   ],
   "source": [
    "string = \"PoonamGarg\"\n",
    "print(string[-1])"
   ]
  },
  {
   "cell_type": "code",
   "execution_count": null,
   "id": "9d30ddd4-0dd3-4dee-9aaf-581b68faadd1",
   "metadata": {},
   "outputs": [],
   "source": [
    "# 4. Get the last 5 characters of a string"
   ]
  },
  {
   "cell_type": "code",
   "execution_count": 7,
   "id": "9acf62b2-09c0-48ed-8d75-c2788eb82ee2",
   "metadata": {},
   "outputs": [
    {
     "name": "stdout",
     "output_type": "stream",
     "text": [
      "mGarg\n"
     ]
    }
   ],
   "source": [
    "string = \"PoonamGarg\"\n",
    "print(string[-5:])"
   ]
  },
  {
   "cell_type": "code",
   "execution_count": null,
   "id": "74ad11b1-72bb-4a33-ac37-a7b8299c8481",
   "metadata": {},
   "outputs": [],
   "source": [
    "# 5. Get a substring which contains all characters except the last 4 characters and the 1st character"
   ]
  },
  {
   "cell_type": "code",
   "execution_count": 8,
   "id": "db22c0b9-52ba-46b5-9d07-d972a282e49a",
   "metadata": {},
   "outputs": [
    {
     "name": "stdout",
     "output_type": "stream",
     "text": [
      "oonam\n"
     ]
    }
   ],
   "source": [
    "string = \"PoonamGarg\"\n",
    "print(string[1:-4])"
   ]
  },
  {
   "cell_type": "code",
   "execution_count": null,
   "id": "4890a054-abf8-4f4b-900b-a741f4185988",
   "metadata": {},
   "outputs": [],
   "source": [
    "# 6. Get every other character from a string"
   ]
  },
  {
   "cell_type": "code",
   "execution_count": 9,
   "id": "3f0b2fe2-d7dc-410b-8371-76304072a0e2",
   "metadata": {},
   "outputs": [
    {
     "name": "stdout",
     "output_type": "stream",
     "text": [
      "PoaGr\n"
     ]
    }
   ],
   "source": [
    "string = \"PoonamGarg\"\n",
    "print(string[::2])"
   ]
  },
  {
   "cell_type": "code",
   "execution_count": null,
   "id": "43448f9f-afc5-456f-acd6-17a966bb1f03",
   "metadata": {},
   "outputs": [],
   "source": []
  },
  {
   "cell_type": "code",
   "execution_count": 3,
   "id": "6f6c3281-c9e6-4579-a454-89f1d2432c92",
   "metadata": {},
   "outputs": [
    {
     "data": {
      "text/plain": [
       "'Rahul janghu'"
      ]
     },
     "execution_count": 3,
     "metadata": {},
     "output_type": "execute_result"
    }
   ],
   "source": [
    "name = \"rahul janghu\"\n",
    "name.capitalize()"
   ]
  },
  {
   "cell_type": "code",
   "execution_count": null,
   "id": "bc002fdd-2028-49dd-bacd-90512a272575",
   "metadata": {},
   "outputs": [],
   "source": []
  },
  {
   "cell_type": "code",
   "execution_count": null,
   "id": "12ed2bba-1b2a-4ff9-a006-0fa4c52deeb7",
   "metadata": {},
   "outputs": [],
   "source": []
  }
 ],
 "metadata": {
  "kernelspec": {
   "display_name": "Python 3 (ipykernel)",
   "language": "python",
   "name": "python3"
  },
  "language_info": {
   "codemirror_mode": {
    "name": "ipython",
    "version": 3
   },
   "file_extension": ".py",
   "mimetype": "text/x-python",
   "name": "python",
   "nbconvert_exporter": "python",
   "pygments_lexer": "ipython3",
   "version": "3.11.5"
  }
 },
 "nbformat": 4,
 "nbformat_minor": 5
}
