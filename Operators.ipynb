{
 "cells": [
  {
   "cell_type": "code",
   "execution_count": null,
   "id": "c7219934-b16c-463b-82f3-377155d2ea0d",
   "metadata": {},
   "outputs": [],
   "source": [
    "# Comparison Operators \n",
    "== Equal\n",
    "!= Not Equal \n",
    "> Greater than\n",
    "< Less Than \n",
    ">= Greater than or equal to\n",
    "<= Less than or equal to"
   ]
  },
  {
   "cell_type": "code",
   "execution_count": 1,
   "id": "2a5f8679-e7a3-4c57-906f-119d72c7a8c8",
   "metadata": {
    "tags": []
   },
   "outputs": [
    {
     "ename": "SyntaxError",
     "evalue": "cannot assign to literal here. Maybe you meant '==' instead of '='? (1637406045.py, line 1)",
     "output_type": "error",
     "traceback": [
      "\u001b[1;36m  Cell \u001b[1;32mIn[1], line 1\u001b[1;36m\u001b[0m\n\u001b[1;33m    10 = 10\u001b[0m\n\u001b[1;37m    ^\u001b[0m\n\u001b[1;31mSyntaxError\u001b[0m\u001b[1;31m:\u001b[0m cannot assign to literal here. Maybe you meant '==' instead of '='?\n"
     ]
    }
   ],
   "source": [
    "10 = 10 "
   ]
  },
  {
   "cell_type": "code",
   "execution_count": 2,
   "id": "90a011d0-08c3-4ac1-8b80-c3c64fae6a17",
   "metadata": {
    "tags": []
   },
   "outputs": [
    {
     "data": {
      "text/plain": [
       "True"
      ]
     },
     "execution_count": 2,
     "metadata": {},
     "output_type": "execute_result"
    }
   ],
   "source": [
    "10==10"
   ]
  },
  {
   "cell_type": "code",
   "execution_count": 3,
   "id": "8b753a60-8ff0-492c-82e0-bda39ed0ac5f",
   "metadata": {
    "tags": []
   },
   "outputs": [
    {
     "data": {
      "text/plain": [
       "True"
      ]
     },
     "execution_count": 3,
     "metadata": {},
     "output_type": "execute_result"
    }
   ],
   "source": [
    "10!=50"
   ]
  },
  {
   "cell_type": "code",
   "execution_count": 7,
   "id": "ba275d43-d136-44ea-a84b-937621957103",
   "metadata": {
    "tags": []
   },
   "outputs": [
    {
     "data": {
      "text/plain": [
       "False"
      ]
     },
     "execution_count": 7,
     "metadata": {},
     "output_type": "execute_result"
    }
   ],
   "source": [
    "10==50"
   ]
  },
  {
   "cell_type": "code",
   "execution_count": 6,
   "id": "30d65564-8696-438f-bd9a-420079b2fd5f",
   "metadata": {
    "tags": []
   },
   "outputs": [
    {
     "data": {
      "text/plain": [
       "False"
      ]
     },
     "execution_count": 6,
     "metadata": {},
     "output_type": "execute_result"
    }
   ],
   "source": [
    "'vanila' == 'chocolate'"
   ]
  },
  {
   "cell_type": "code",
   "execution_count": 8,
   "id": "58fc0ee3-1432-4aa8-a256-bca71af08d50",
   "metadata": {
    "tags": []
   },
   "outputs": [
    {
     "data": {
      "text/plain": [
       "True"
      ]
     },
     "execution_count": 8,
     "metadata": {},
     "output_type": "execute_result"
    }
   ],
   "source": [
    "'vanila'!= 'choclate'"
   ]
  },
  {
   "cell_type": "code",
   "execution_count": 9,
   "id": "34b27bea-35a7-47ed-bd9f-1298129fc1b2",
   "metadata": {
    "tags": []
   },
   "outputs": [
    {
     "data": {
      "text/plain": [
       "False"
      ]
     },
     "execution_count": 9,
     "metadata": {},
     "output_type": "execute_result"
    }
   ],
   "source": [
    "x='vanila'\n",
    "y='chocolate'\n",
    "x==y"
   ]
  },
  {
   "cell_type": "code",
   "execution_count": 10,
   "id": "8cdbc79a-01d5-4dab-908e-296d074ba35e",
   "metadata": {
    "tags": []
   },
   "outputs": [
    {
     "data": {
      "text/plain": [
       "True"
      ]
     },
     "execution_count": 10,
     "metadata": {},
     "output_type": "execute_result"
    }
   ],
   "source": [
    "x='vanila'\n",
    "y='chocolate'\n",
    "x!=y"
   ]
  },
  {
   "cell_type": "code",
   "execution_count": null,
   "id": "e8e71004-61ca-4e35-8c8f-0ffede3d6e40",
   "metadata": {},
   "outputs": [],
   "source": [
    "# Logical Operators \n",
    "and\n",
    "or\n",
    "not\n"
   ]
  },
  {
   "cell_type": "code",
   "execution_count": 12,
   "id": "1201f816-f087-41e4-9441-9e119e3b9e3f",
   "metadata": {
    "tags": []
   },
   "outputs": [
    {
     "data": {
      "text/plain": [
       "False"
      ]
     },
     "execution_count": 12,
     "metadata": {},
     "output_type": "execute_result"
    }
   ],
   "source": [
    "(10 > 50) and (50 > 10)"
   ]
  },
  {
   "cell_type": "code",
   "execution_count": 13,
   "id": "2a5c669f-e5d1-4bdf-9906-62995abe0676",
   "metadata": {
    "tags": []
   },
   "outputs": [
    {
     "data": {
      "text/plain": [
       "True"
      ]
     },
     "execution_count": 13,
     "metadata": {},
     "output_type": "execute_result"
    }
   ],
   "source": [
    "(10 > 50) or (50 > 10)"
   ]
  },
  {
   "cell_type": "code",
   "execution_count": 14,
   "id": "57c814a5-cae7-4647-9f79-ba38b6560fcf",
   "metadata": {
    "tags": []
   },
   "outputs": [
    {
     "data": {
      "text/plain": [
       "True"
      ]
     },
     "execution_count": 14,
     "metadata": {},
     "output_type": "execute_result"
    }
   ],
   "source": [
    "('vanila' > 'Chocolate') or (50 > 10) #because V>C in alphabets "
   ]
  },
  {
   "cell_type": "code",
   "execution_count": 15,
   "id": "63d574a3-78d2-426c-8a34-2aee1bf0275b",
   "metadata": {
    "tags": []
   },
   "outputs": [
    {
     "data": {
      "text/plain": [
       "False"
      ]
     },
     "execution_count": 15,
     "metadata": {},
     "output_type": "execute_result"
    }
   ],
   "source": [
    "not(50 > 10)"
   ]
  },
  {
   "cell_type": "code",
   "execution_count": null,
   "id": "d187f54d-5241-45bb-982f-a3f1550491af",
   "metadata": {},
   "outputs": [],
   "source": [
    "# Membership Operators\n",
    "in\n",
    "not in "
   ]
  },
  {
   "cell_type": "code",
   "execution_count": 17,
   "id": "47dbd9d3-bad0-460f-89ea-a83742db71e6",
   "metadata": {
    "tags": []
   },
   "outputs": [
    {
     "data": {
      "text/plain": [
       "True"
      ]
     },
     "execution_count": 17,
     "metadata": {},
     "output_type": "execute_result"
    }
   ],
   "source": [
    "ice_cream = 'I love ice cream'\n",
    "'love' in ice_cream"
   ]
  },
  {
   "cell_type": "code",
   "execution_count": 18,
   "id": "b920e9ba-a72b-4f95-b1eb-5a9119acaca4",
   "metadata": {
    "tags": []
   },
   "outputs": [
    {
     "data": {
      "text/plain": [
       "True"
      ]
     },
     "execution_count": 18,
     "metadata": {},
     "output_type": "execute_result"
    }
   ],
   "source": [
    "ice_cream = 'I love ice cream'\n",
    "'love' in 'I love ice cream'"
   ]
  },
  {
   "cell_type": "code",
   "execution_count": 20,
   "id": "bb467e2c-85b3-493f-9575-f7b087f8d18d",
   "metadata": {
    "tags": []
   },
   "outputs": [
    {
     "data": {
      "text/plain": [
       "False"
      ]
     },
     "execution_count": 20,
     "metadata": {},
     "output_type": "execute_result"
    }
   ],
   "source": [
    "scoops = [1.2,3,4,5]\n",
    "2 in scoops"
   ]
  },
  {
   "cell_type": "code",
   "execution_count": 21,
   "id": "e52e509a-a86a-4c74-864d-c98228779e64",
   "metadata": {
    "tags": []
   },
   "outputs": [
    {
     "data": {
      "text/plain": [
       "False"
      ]
     },
     "execution_count": 21,
     "metadata": {},
     "output_type": "execute_result"
    }
   ],
   "source": [
    "scoops = [1.2,3,4,5]\n",
    "6 in scoops"
   ]
  },
  {
   "cell_type": "code",
   "execution_count": 22,
   "id": "d33825db-0cfe-4d97-9f3e-6cf820357601",
   "metadata": {
    "tags": []
   },
   "outputs": [
    {
     "data": {
      "text/plain": [
       "True"
      ]
     },
     "execution_count": 22,
     "metadata": {},
     "output_type": "execute_result"
    }
   ],
   "source": [
    "scoops = [1.2,3,4,5]\n",
    "wanted_scoops = 8\n",
    "wanted_scoops not in scoops\n"
   ]
  },
  {
   "cell_type": "code",
   "execution_count": 23,
   "id": "17a41d2e-0320-44ef-b093-d5cf88196dfb",
   "metadata": {
    "tags": []
   },
   "outputs": [
    {
     "data": {
      "text/plain": [
       "False"
      ]
     },
     "execution_count": 23,
     "metadata": {},
     "output_type": "execute_result"
    }
   ],
   "source": [
    "scoops = [1.2,3,4,5]\n",
    "wanted_scoops = 8\n",
    "wanted_scoops in scoops\n"
   ]
  },
  {
   "cell_type": "code",
   "execution_count": null,
   "id": "98ff72b0-11af-4d48-a3eb-fd34b0748d67",
   "metadata": {},
   "outputs": [],
   "source": [
    "#Arithmetic Operators"
   ]
  },
  {
   "cell_type": "code",
   "execution_count": null,
   "id": "0ca4014a-55dc-4de3-aa09-d87601fc4ea5",
   "metadata": {},
   "outputs": [],
   "source": [
    "# These operators allow us to perform arithmetic operations in python "
   ]
  },
  {
   "cell_type": "code",
   "execution_count": null,
   "id": "1c5e5d4b-f8d6-4eea-aae0-afd49fa1d0a9",
   "metadata": {},
   "outputs": [],
   "source": [
    "# Addition\n",
    "# Subtraction\n",
    "# Division\n",
    "# Mod (%)\n",
    "# Multiplication\n",
    "# Floor division (//)\n",
    "# To the power (**)\n"
   ]
  },
  {
   "cell_type": "code",
   "execution_count": 3,
   "id": "84342361-b606-43d9-bf01-829ad6cd6b33",
   "metadata": {},
   "outputs": [
    {
     "data": {
      "text/plain": [
       "8"
      ]
     },
     "execution_count": 3,
     "metadata": {},
     "output_type": "execute_result"
    }
   ],
   "source": [
    "a = 5\n",
    "b = 3\n",
    "a + b"
   ]
  },
  {
   "cell_type": "code",
   "execution_count": 4,
   "id": "18010bd6-688c-4923-abd6-7a29581d0048",
   "metadata": {},
   "outputs": [
    {
     "data": {
      "text/plain": [
       "2"
      ]
     },
     "execution_count": 4,
     "metadata": {},
     "output_type": "execute_result"
    }
   ],
   "source": [
    "a - b"
   ]
  },
  {
   "cell_type": "code",
   "execution_count": null,
   "id": "41d27b04-2d71-4bfd-a793-8a06b3b9fe3b",
   "metadata": {},
   "outputs": [],
   "source": [
    "# Division operator will always yield Float value "
   ]
  },
  {
   "cell_type": "code",
   "execution_count": 6,
   "id": "15be1341-19de-48eb-905d-3942c43caf2a",
   "metadata": {},
   "outputs": [
    {
     "data": {
      "text/plain": [
       "1.6666666666666667"
      ]
     },
     "execution_count": 6,
     "metadata": {},
     "output_type": "execute_result"
    }
   ],
   "source": [
    "a/b"
   ]
  },
  {
   "cell_type": "code",
   "execution_count": 7,
   "id": "42ebb851-af8d-4703-bf27-e68368ca815a",
   "metadata": {},
   "outputs": [
    {
     "data": {
      "text/plain": [
       "1.0"
      ]
     },
     "execution_count": 7,
     "metadata": {},
     "output_type": "execute_result"
    }
   ],
   "source": [
    "5/5"
   ]
  },
  {
   "cell_type": "code",
   "execution_count": 8,
   "id": "8a50a030-19a6-4616-9003-e6f1210a7620",
   "metadata": {},
   "outputs": [
    {
     "data": {
      "text/plain": [
       "15"
      ]
     },
     "execution_count": 8,
     "metadata": {},
     "output_type": "execute_result"
    }
   ],
   "source": [
    "a*b"
   ]
  },
  {
   "cell_type": "code",
   "execution_count": 9,
   "id": "e72499c0-6b8a-4dcb-8e74-100a4c805b99",
   "metadata": {},
   "outputs": [
    {
     "data": {
      "text/plain": [
       "-2"
      ]
     },
     "execution_count": 9,
     "metadata": {},
     "output_type": "execute_result"
    }
   ],
   "source": [
    "b-a"
   ]
  },
  {
   "cell_type": "code",
   "execution_count": 10,
   "id": "7466681d-f020-4c69-852b-4b732d1c22be",
   "metadata": {},
   "outputs": [
    {
     "data": {
      "text/plain": [
       "3.5"
      ]
     },
     "execution_count": 10,
     "metadata": {},
     "output_type": "execute_result"
    }
   ],
   "source": [
    "2.5+1"
   ]
  },
  {
   "cell_type": "code",
   "execution_count": 11,
   "id": "593e5fde-1317-48fd-b652-927b08be7843",
   "metadata": {},
   "outputs": [
    {
     "data": {
      "text/plain": [
       "2.0"
      ]
     },
     "execution_count": 11,
     "metadata": {},
     "output_type": "execute_result"
    }
   ],
   "source": [
    "1.0+1.0"
   ]
  },
  {
   "cell_type": "code",
   "execution_count": null,
   "id": "2b283371-50f1-4ce2-a32c-412cbb330769",
   "metadata": {},
   "outputs": [],
   "source": [
    "#String concatenation"
   ]
  },
  {
   "cell_type": "code",
   "execution_count": 13,
   "id": "c15ab6c3-5cbd-421c-91ee-864b4396274d",
   "metadata": {},
   "outputs": [
    {
     "name": "stdout",
     "output_type": "stream",
     "text": [
      "rahuljanghu\n"
     ]
    }
   ],
   "source": [
    "first = \"rahul\"\n",
    "last = \"janghu\"\n",
    "print(first + last)"
   ]
  },
  {
   "cell_type": "code",
   "execution_count": 14,
   "id": "0d628f99-f37c-4575-8e6b-1cdac4ca7424",
   "metadata": {},
   "outputs": [
    {
     "data": {
      "text/plain": [
       "str"
      ]
     },
     "execution_count": 14,
     "metadata": {},
     "output_type": "execute_result"
    }
   ],
   "source": [
    "type(\"1\")"
   ]
  },
  {
   "cell_type": "code",
   "execution_count": 15,
   "id": "51618df0-1d86-45e9-9019-46c9a76ea633",
   "metadata": {},
   "outputs": [
    {
     "name": "stdout",
     "output_type": "stream",
     "text": [
      "11\n"
     ]
    }
   ],
   "source": [
    "print(\"1\" + \"1\")"
   ]
  },
  {
   "cell_type": "code",
   "execution_count": null,
   "id": "d85e1464-ae15-4ac5-a6ce-1744362d4034",
   "metadata": {},
   "outputs": [],
   "source": [
    "# subtraction(-) is not supported in case of string \n"
   ]
  },
  {
   "cell_type": "code",
   "execution_count": 16,
   "id": "1bada62d-80dc-4ae8-8939-425a437307e8",
   "metadata": {},
   "outputs": [
    {
     "ename": "TypeError",
     "evalue": "unsupported operand type(s) for -: 'str' and 'str'",
     "output_type": "error",
     "traceback": [
      "\u001b[0;31m---------------------------------------------------------------------------\u001b[0m",
      "\u001b[0;31mTypeError\u001b[0m                                 Traceback (most recent call last)",
      "Cell \u001b[0;32mIn[16], line 1\u001b[0m\n\u001b[0;32m----> 1\u001b[0m \u001b[43mfirst\u001b[49m\u001b[43m \u001b[49m\u001b[38;5;241;43m-\u001b[39;49m\u001b[43m \u001b[49m\u001b[43mlast\u001b[49m\n",
      "\u001b[0;31mTypeError\u001b[0m: unsupported operand type(s) for -: 'str' and 'str'"
     ]
    }
   ],
   "source": [
    "first - last"
   ]
  },
  {
   "cell_type": "code",
   "execution_count": null,
   "id": "465fa710-fa4f-4903-a9e5-fd71bc3bebf3",
   "metadata": {},
   "outputs": [],
   "source": [
    "# Multiply (*) can be done with a number. two strings cant be multiplied.\n"
   ]
  },
  {
   "cell_type": "code",
   "execution_count": 17,
   "id": "16379104-1856-462f-bf28-e9e02f65786e",
   "metadata": {},
   "outputs": [
    {
     "data": {
      "text/plain": [
       "'rahulrahulrahul'"
      ]
     },
     "execution_count": 17,
     "metadata": {},
     "output_type": "execute_result"
    }
   ],
   "source": [
    "first * 3"
   ]
  },
  {
   "cell_type": "code",
   "execution_count": 18,
   "id": "b3b6eff8-3e23-4f67-b84a-7e17ece7cc76",
   "metadata": {},
   "outputs": [
    {
     "ename": "TypeError",
     "evalue": "can't multiply sequence by non-int of type 'str'",
     "output_type": "error",
     "traceback": [
      "\u001b[0;31m---------------------------------------------------------------------------\u001b[0m",
      "\u001b[0;31mTypeError\u001b[0m                                 Traceback (most recent call last)",
      "Cell \u001b[0;32mIn[18], line 1\u001b[0m\n\u001b[0;32m----> 1\u001b[0m \u001b[43mfirst\u001b[49m\u001b[43m \u001b[49m\u001b[38;5;241;43m*\u001b[39;49m\u001b[43m \u001b[49m\u001b[43mfirst\u001b[49m \n",
      "\u001b[0;31mTypeError\u001b[0m: can't multiply sequence by non-int of type 'str'"
     ]
    }
   ],
   "source": [
    "first * first "
   ]
  },
  {
   "cell_type": "code",
   "execution_count": null,
   "id": "7fe36123-bac2-4745-8c7a-cf9e2e9efd79",
   "metadata": {},
   "outputs": [],
   "source": [
    "# Modulus operator(%) = it will give remainder"
   ]
  },
  {
   "cell_type": "code",
   "execution_count": 19,
   "id": "4853d022-91ba-447b-94d4-2aae0747e002",
   "metadata": {},
   "outputs": [
    {
     "name": "stdout",
     "output_type": "stream",
     "text": [
      "5 3\n"
     ]
    }
   ],
   "source": [
    "print(a,b)"
   ]
  },
  {
   "cell_type": "code",
   "execution_count": 20,
   "id": "a30c7063-91a6-4cf5-9553-6debc37eba6a",
   "metadata": {},
   "outputs": [
    {
     "name": "stdout",
     "output_type": "stream",
     "text": [
      "2\n"
     ]
    }
   ],
   "source": [
    "print(a%b)"
   ]
  },
  {
   "cell_type": "code",
   "execution_count": 21,
   "id": "daf1e91b-427a-4139-bf15-77bf7761839f",
   "metadata": {},
   "outputs": [
    {
     "name": "stdout",
     "output_type": "stream",
     "text": [
      "0\n"
     ]
    }
   ],
   "source": [
    "print(10%10)"
   ]
  },
  {
   "cell_type": "code",
   "execution_count": null,
   "id": "c005bc71-d103-4a77-baba-8bccb6b4c11c",
   "metadata": {},
   "outputs": [],
   "source": [
    "# Floor division operator(//) = The result is floored to the nearest smaller integer.\n"
   ]
  },
  {
   "cell_type": "code",
   "execution_count": 22,
   "id": "5b2e10ab-3b50-470c-ac83-176cd833479e",
   "metadata": {},
   "outputs": [
    {
     "name": "stdout",
     "output_type": "stream",
     "text": [
      "5 3\n"
     ]
    }
   ],
   "source": [
    "print(a,b)"
   ]
  },
  {
   "cell_type": "code",
   "execution_count": 23,
   "id": "bee48458-c924-4fc3-ab4c-0c8ff3bb14fe",
   "metadata": {},
   "outputs": [
    {
     "name": "stdout",
     "output_type": "stream",
     "text": [
      "1\n"
     ]
    }
   ],
   "source": [
    "print(a//b)"
   ]
  },
  {
   "cell_type": "code",
   "execution_count": null,
   "id": "1c6aede5-2283-40e9-a4b8-2d69a008843e",
   "metadata": {},
   "outputs": [],
   "source": [
    "# To the floor operator (**)= Accepts two values base and power \n"
   ]
  },
  {
   "cell_type": "code",
   "execution_count": 24,
   "id": "d7e6365f-1259-4979-991d-6e33f20a973e",
   "metadata": {},
   "outputs": [
    {
     "name": "stdout",
     "output_type": "stream",
     "text": [
      "5 3\n"
     ]
    }
   ],
   "source": [
    "print(a,b)"
   ]
  },
  {
   "cell_type": "code",
   "execution_count": 25,
   "id": "c1fb9d61-5ee2-4509-ab8e-082baeecd3e0",
   "metadata": {},
   "outputs": [
    {
     "name": "stdout",
     "output_type": "stream",
     "text": [
      "125\n"
     ]
    }
   ],
   "source": [
    "print(a**b)"
   ]
  },
  {
   "cell_type": "code",
   "execution_count": 26,
   "id": "54d19867-dbd6-441a-9058-f6fe98d20144",
   "metadata": {},
   "outputs": [
    {
     "name": "stdout",
     "output_type": "stream",
     "text": [
      "8\n"
     ]
    }
   ],
   "source": [
    "print (2**3)"
   ]
  },
  {
   "cell_type": "code",
   "execution_count": 27,
   "id": "a0e9217e-a9ff-4db0-8d60-d7f808efdc44",
   "metadata": {},
   "outputs": [
    {
     "name": "stdout",
     "output_type": "stream",
     "text": [
      "1024\n"
     ]
    }
   ],
   "source": [
    "print(4**5)"
   ]
  },
  {
   "cell_type": "code",
   "execution_count": null,
   "id": "ea52e558-4e95-4b88-b18d-c3deec0355ac",
   "metadata": {},
   "outputs": [],
   "source": []
  },
  {
   "cell_type": "code",
   "execution_count": null,
   "id": "99c20f70-8c5f-40b1-a11e-b3869d2a9ee3",
   "metadata": {},
   "outputs": [],
   "source": [
    "#Assignment Operators"
   ]
  },
  {
   "cell_type": "code",
   "execution_count": null,
   "id": "2a46af81-baea-437d-86a5-b848092cbe16",
   "metadata": {},
   "outputs": [],
   "source": [
    "# =\n",
    "# -=\n",
    "# +=\n",
    "# /=\n",
    "# *="
   ]
  },
  {
   "cell_type": "code",
   "execution_count": null,
   "id": "b9156e2c-0120-4093-a824-7800744449b5",
   "metadata": {},
   "outputs": [],
   "source": [
    "a = 5 \n"
   ]
  },
  {
   "cell_type": "code",
   "execution_count": 28,
   "id": "500ecbe4-70df-48f1-831e-a9321f654c5f",
   "metadata": {},
   "outputs": [
    {
     "name": "stdout",
     "output_type": "stream",
     "text": [
      "8\n"
     ]
    }
   ],
   "source": [
    "a = a+3\n",
    "print(a)"
   ]
  },
  {
   "cell_type": "code",
   "execution_count": 30,
   "id": "c7c104f6-1b70-41b8-881b-adaf5ee364b4",
   "metadata": {},
   "outputs": [
    {
     "name": "stdout",
     "output_type": "stream",
     "text": [
      "8\n"
     ]
    }
   ],
   "source": [
    "# a = a + 3 is equal to a += 3\n",
    "a = 5 \n",
    "a += 3\n",
    "print(a)"
   ]
  },
  {
   "cell_type": "code",
   "execution_count": 36,
   "id": "566077c8-f106-4cbb-8f98-e16145f11909",
   "metadata": {},
   "outputs": [
    {
     "name": "stdout",
     "output_type": "stream",
     "text": [
      "2\n"
     ]
    }
   ],
   "source": [
    "a = 5 \n",
    "a -= 3\n",
    "print(a)"
   ]
  },
  {
   "cell_type": "code",
   "execution_count": 35,
   "id": "dbe6d6ea-cd91-42b1-ac14-43b9e548f688",
   "metadata": {},
   "outputs": [
    {
     "name": "stdout",
     "output_type": "stream",
     "text": [
      "1.6666666666666667\n"
     ]
    }
   ],
   "source": [
    "a = 5 \n",
    "a /= 3 \n",
    "print(a)"
   ]
  },
  {
   "cell_type": "code",
   "execution_count": 34,
   "id": "ebf67784-39ca-4ac9-b025-74eb807a3b4f",
   "metadata": {},
   "outputs": [
    {
     "name": "stdout",
     "output_type": "stream",
     "text": [
      "15\n"
     ]
    }
   ],
   "source": [
    "a = 5\n",
    "a *= 3\n",
    "print(a)"
   ]
  },
  {
   "cell_type": "code",
   "execution_count": null,
   "id": "85f8cd35-c15b-448c-b9f6-8fedc81279c5",
   "metadata": {},
   "outputs": [],
   "source": []
  },
  {
   "cell_type": "code",
   "execution_count": 14,
   "id": "c7f72d04-f705-4cee-9f3b-bff74a3ba149",
   "metadata": {},
   "outputs": [
    {
     "name": "stdout",
     "output_type": "stream",
     "text": [
      "1\n"
     ]
    }
   ],
   "source": [
    "a = 5\n",
    "a &=3\n",
    "print(a)"
   ]
  },
  {
   "cell_type": "code",
   "execution_count": 15,
   "id": "717c6b73-4916-4eaa-8bcf-6b85673bf613",
   "metadata": {},
   "outputs": [
    {
     "name": "stdout",
     "output_type": "stream",
     "text": [
      "7\n"
     ]
    }
   ],
   "source": [
    "a = 5 \n",
    "a |= 3\n",
    "print(a)"
   ]
  },
  {
   "cell_type": "code",
   "execution_count": 16,
   "id": "b2f9523e-289b-4d6c-bbe5-cfe605ee0d86",
   "metadata": {},
   "outputs": [
    {
     "name": "stdout",
     "output_type": "stream",
     "text": [
      "6\n"
     ]
    }
   ],
   "source": [
    "a = 5 \n",
    "a ^= 3\n",
    "print(a)"
   ]
  },
  {
   "cell_type": "code",
   "execution_count": 17,
   "id": "1a185097-4bfd-4c84-8e5a-5b5f0edfb14b",
   "metadata": {},
   "outputs": [
    {
     "name": "stdout",
     "output_type": "stream",
     "text": [
      "40\n"
     ]
    }
   ],
   "source": [
    "a = 5 \n",
    "a <<= 3\n",
    "print(a)"
   ]
  },
  {
   "cell_type": "code",
   "execution_count": 18,
   "id": "a028f54a-a2c2-40e7-8607-7216deda6c73",
   "metadata": {},
   "outputs": [
    {
     "name": "stdout",
     "output_type": "stream",
     "text": [
      "0\n"
     ]
    }
   ],
   "source": [
    "a = 5 \n",
    "a >>= 3\n",
    "print(a)"
   ]
  },
  {
   "cell_type": "code",
   "execution_count": null,
   "id": "e503ac65-40b9-416b-90c1-bf9cba885cb5",
   "metadata": {},
   "outputs": [],
   "source": []
  },
  {
   "cell_type": "code",
   "execution_count": null,
   "id": "fbb643c6-52a0-43c5-8b73-7ec40220ce81",
   "metadata": {},
   "outputs": [],
   "source": [
    "# Logical Operators "
   ]
  },
  {
   "cell_type": "code",
   "execution_count": null,
   "id": "5da37c8c-63f6-4c1d-a4ef-cf38e0cc512a",
   "metadata": {},
   "outputs": [],
   "source": [
    "# and\n",
    "# or\n",
    "# not"
   ]
  },
  {
   "cell_type": "code",
   "execution_count": null,
   "id": "6e468b49-0131-41c0-abe7-cdff60c1816e",
   "metadata": {},
   "outputs": [],
   "source": [
    "# these works on boolean values and output is also boolean value i.e. True or False "
   ]
  },
  {
   "cell_type": "code",
   "execution_count": null,
   "id": "fae23a3f-7c9a-49b0-8cca-10fa9d07ac39",
   "metadata": {},
   "outputs": [],
   "source": [
    "# and "
   ]
  },
  {
   "cell_type": "code",
   "execution_count": 1,
   "id": "5f49e5b0-0337-400f-9c82-c466034cd99d",
   "metadata": {},
   "outputs": [
    {
     "data": {
      "text/plain": [
       "True"
      ]
     },
     "execution_count": 1,
     "metadata": {},
     "output_type": "execute_result"
    }
   ],
   "source": [
    "True and True "
   ]
  },
  {
   "cell_type": "code",
   "execution_count": 2,
   "id": "ed8413b9-8c44-40b1-895f-f829c59f41df",
   "metadata": {},
   "outputs": [
    {
     "data": {
      "text/plain": [
       "False"
      ]
     },
     "execution_count": 2,
     "metadata": {},
     "output_type": "execute_result"
    }
   ],
   "source": [
    "True and False "
   ]
  },
  {
   "cell_type": "code",
   "execution_count": 3,
   "id": "a627a979-ba38-4aac-a356-c614f2ebbd3e",
   "metadata": {},
   "outputs": [
    {
     "data": {
      "text/plain": [
       "False"
      ]
     },
     "execution_count": 3,
     "metadata": {},
     "output_type": "execute_result"
    }
   ],
   "source": [
    "False and True "
   ]
  },
  {
   "cell_type": "code",
   "execution_count": 4,
   "id": "2d83584a-4a24-4f2f-a8e2-7f420f9d1dc3",
   "metadata": {},
   "outputs": [
    {
     "data": {
      "text/plain": [
       "False"
      ]
     },
     "execution_count": 4,
     "metadata": {},
     "output_type": "execute_result"
    }
   ],
   "source": [
    "False and False "
   ]
  },
  {
   "cell_type": "code",
   "execution_count": 5,
   "id": "b9e8c0b3-ee62-42f2-b6ee-95799d7a700d",
   "metadata": {},
   "outputs": [
    {
     "data": {
      "text/plain": [
       "False"
      ]
     },
     "execution_count": 5,
     "metadata": {},
     "output_type": "execute_result"
    }
   ],
   "source": [
    "2>3"
   ]
  },
  {
   "cell_type": "code",
   "execution_count": 6,
   "id": "b098ffdc-97cc-4a45-8f6c-9c04b6559bfb",
   "metadata": {},
   "outputs": [
    {
     "data": {
      "text/plain": [
       "True"
      ]
     },
     "execution_count": 6,
     "metadata": {},
     "output_type": "execute_result"
    }
   ],
   "source": [
    "3>2"
   ]
  },
  {
   "cell_type": "code",
   "execution_count": 7,
   "id": "64bc45f2-9dec-4a05-9ec1-84997bd13c5f",
   "metadata": {},
   "outputs": [
    {
     "data": {
      "text/plain": [
       "False"
      ]
     },
     "execution_count": 7,
     "metadata": {},
     "output_type": "execute_result"
    }
   ],
   "source": [
    "2>3 and 3>2"
   ]
  },
  {
   "cell_type": "code",
   "execution_count": 8,
   "id": "91936f8a-6fd6-43ce-a49d-8dcfab9b8417",
   "metadata": {},
   "outputs": [
    {
     "data": {
      "text/plain": [
       "True"
      ]
     },
     "execution_count": 8,
     "metadata": {},
     "output_type": "execute_result"
    }
   ],
   "source": [
    "4>3 and 3>2"
   ]
  },
  {
   "cell_type": "code",
   "execution_count": null,
   "id": "faaf3ec2-ceb5-4a36-93a4-903b05fc7023",
   "metadata": {},
   "outputs": [],
   "source": []
  },
  {
   "cell_type": "code",
   "execution_count": null,
   "id": "af2408c2-469a-4975-ade1-ddac4b2f3941",
   "metadata": {},
   "outputs": [],
   "source": [
    "# or "
   ]
  },
  {
   "cell_type": "code",
   "execution_count": 9,
   "id": "86ab9b46-15c1-44c9-8cb3-8ac1b9417b99",
   "metadata": {},
   "outputs": [
    {
     "data": {
      "text/plain": [
       "True"
      ]
     },
     "execution_count": 9,
     "metadata": {},
     "output_type": "execute_result"
    }
   ],
   "source": [
    "True or True "
   ]
  },
  {
   "cell_type": "code",
   "execution_count": 10,
   "id": "2c863097-5048-4dc1-8b4b-341723deeff4",
   "metadata": {},
   "outputs": [
    {
     "data": {
      "text/plain": [
       "True"
      ]
     },
     "execution_count": 10,
     "metadata": {},
     "output_type": "execute_result"
    }
   ],
   "source": [
    "True or True "
   ]
  },
  {
   "cell_type": "code",
   "execution_count": 11,
   "id": "dac6bfa3-82c7-4ef2-9c6e-f87557e23f73",
   "metadata": {},
   "outputs": [
    {
     "data": {
      "text/plain": [
       "True"
      ]
     },
     "execution_count": 11,
     "metadata": {},
     "output_type": "execute_result"
    }
   ],
   "source": [
    "True or True "
   ]
  },
  {
   "cell_type": "code",
   "execution_count": 12,
   "id": "ddde167d-2e8e-4d42-90db-b52992ee0e9b",
   "metadata": {},
   "outputs": [
    {
     "data": {
      "text/plain": [
       "False"
      ]
     },
     "execution_count": 12,
     "metadata": {},
     "output_type": "execute_result"
    }
   ],
   "source": [
    "False or False "
   ]
  },
  {
   "cell_type": "code",
   "execution_count": 13,
   "id": "424f3cab-dcc1-4e84-94c3-82ff711be33c",
   "metadata": {},
   "outputs": [
    {
     "data": {
      "text/plain": [
       "True"
      ]
     },
     "execution_count": 13,
     "metadata": {},
     "output_type": "execute_result"
    }
   ],
   "source": [
    "3>2"
   ]
  },
  {
   "cell_type": "markdown",
   "id": "3e10b544-79c6-4ac7-8c05-4e4888d31e4b",
   "metadata": {
    "jp-MarkdownHeadingCollapsed": true
   },
   "source": []
  },
  {
   "cell_type": "code",
   "execution_count": 14,
   "id": "5b9d9396-e491-4a33-8655-d2cc7f665c25",
   "metadata": {},
   "outputs": [
    {
     "data": {
      "text/plain": [
       "True"
      ]
     },
     "execution_count": 14,
     "metadata": {},
     "output_type": "execute_result"
    }
   ],
   "source": [
    "2<3"
   ]
  },
  {
   "cell_type": "code",
   "execution_count": 15,
   "id": "06e0dcaf-5d33-4423-9a87-cbcbc296d999",
   "metadata": {},
   "outputs": [
    {
     "data": {
      "text/plain": [
       "True"
      ]
     },
     "execution_count": 15,
     "metadata": {},
     "output_type": "execute_result"
    }
   ],
   "source": [
    "3>2 or 2<3"
   ]
  },
  {
   "cell_type": "code",
   "execution_count": null,
   "id": "dbeeec9c-7c06-45ea-82e5-7c3764a37618",
   "metadata": {},
   "outputs": [],
   "source": []
  },
  {
   "cell_type": "code",
   "execution_count": null,
   "id": "45b37bf9-8ba8-47e6-8cb9-8ae2f49fd3d4",
   "metadata": {},
   "outputs": [],
   "source": [
    "# not - it takes only one argument"
   ]
  },
  {
   "cell_type": "code",
   "execution_count": 16,
   "id": "e118bed7-9a53-4d2c-9669-120976a9dc89",
   "metadata": {},
   "outputs": [
    {
     "data": {
      "text/plain": [
       "False"
      ]
     },
     "execution_count": 16,
     "metadata": {},
     "output_type": "execute_result"
    }
   ],
   "source": [
    "not True"
   ]
  },
  {
   "cell_type": "code",
   "execution_count": 17,
   "id": "2593d196-1fe4-46b2-aa78-c2df13d34dc0",
   "metadata": {},
   "outputs": [
    {
     "data": {
      "text/plain": [
       "True"
      ]
     },
     "execution_count": 17,
     "metadata": {},
     "output_type": "execute_result"
    }
   ],
   "source": [
    "not False"
   ]
  },
  {
   "cell_type": "code",
   "execution_count": 18,
   "id": "b545bae3-5266-45af-a394-d155349186b4",
   "metadata": {},
   "outputs": [
    {
     "ename": "SyntaxError",
     "evalue": "invalid syntax (3971080124.py, line 1)",
     "output_type": "error",
     "traceback": [
      "\u001b[0;36m  Cell \u001b[0;32mIn[18], line 1\u001b[0;36m\u001b[0m\n\u001b[0;31m    True not True\u001b[0m\n\u001b[0m             ^\u001b[0m\n\u001b[0;31mSyntaxError\u001b[0m\u001b[0;31m:\u001b[0m invalid syntax\n"
     ]
    }
   ],
   "source": [
    "True not True "
   ]
  },
  {
   "cell_type": "code",
   "execution_count": 19,
   "id": "0f499551-3984-4071-afba-866489f507a7",
   "metadata": {},
   "outputs": [
    {
     "data": {
      "text/plain": [
       "False"
      ]
     },
     "execution_count": 19,
     "metadata": {},
     "output_type": "execute_result"
    }
   ],
   "source": [
    "2 > 3 "
   ]
  },
  {
   "cell_type": "code",
   "execution_count": 20,
   "id": "f06e9622-ef1f-469d-9bf3-cd1c5a21eb51",
   "metadata": {},
   "outputs": [
    {
     "data": {
      "text/plain": [
       "True"
      ]
     },
     "execution_count": 20,
     "metadata": {},
     "output_type": "execute_result"
    }
   ],
   "source": [
    "not 2 > 3"
   ]
  },
  {
   "cell_type": "code",
   "execution_count": 21,
   "id": "d601ba95-a495-44ef-8957-2d89b8e0407b",
   "metadata": {},
   "outputs": [
    {
     "data": {
      "text/plain": [
       "True"
      ]
     },
     "execution_count": 21,
     "metadata": {},
     "output_type": "execute_result"
    }
   ],
   "source": [
    "3 > 2 "
   ]
  },
  {
   "cell_type": "code",
   "execution_count": 22,
   "id": "53ce1e9c-19c5-4bcb-bcc3-d015ec254d92",
   "metadata": {},
   "outputs": [
    {
     "data": {
      "text/plain": [
       "False"
      ]
     },
     "execution_count": 22,
     "metadata": {},
     "output_type": "execute_result"
    }
   ],
   "source": [
    "not 3 > 2"
   ]
  },
  {
   "cell_type": "code",
   "execution_count": null,
   "id": "214cf822-2b47-4c64-a1d1-5cd7d8c51c8f",
   "metadata": {},
   "outputs": [],
   "source": []
  },
  {
   "cell_type": "code",
   "execution_count": null,
   "id": "75c565a8-ab1f-4153-a754-2bd968753af4",
   "metadata": {},
   "outputs": [],
   "source": [
    "# Special Operators "
   ]
  },
  {
   "cell_type": "code",
   "execution_count": null,
   "id": "3d79884d-10f3-48d7-ae0e-8154f6fb6d64",
   "metadata": {},
   "outputs": [],
   "source": [
    "# in\n",
    "# is"
   ]
  },
  {
   "cell_type": "code",
   "execution_count": null,
   "id": "eb705432-192e-4272-b245-56d7ac007eb3",
   "metadata": {},
   "outputs": [],
   "source": [
    "#in - Also known as membership operator - tells you if an object is part of other object or not "
   ]
  },
  {
   "cell_type": "code",
   "execution_count": 2,
   "id": "8b4f0ef1-fdc7-4a6f-a1d7-007556ff5be9",
   "metadata": {},
   "outputs": [
    {
     "data": {
      "text/plain": [
       "True"
      ]
     },
     "execution_count": 2,
     "metadata": {},
     "output_type": "execute_result"
    }
   ],
   "source": [
    "name = \"Poonam Garg\"\n",
    "\"P\" in name "
   ]
  },
  {
   "cell_type": "code",
   "execution_count": 3,
   "id": "153dd5eb-f085-4197-8edb-752b1cfc31d0",
   "metadata": {},
   "outputs": [
    {
     "data": {
      "text/plain": [
       "False"
      ]
     },
     "execution_count": 3,
     "metadata": {},
     "output_type": "execute_result"
    }
   ],
   "source": [
    "\"p\" in name "
   ]
  },
  {
   "cell_type": "code",
   "execution_count": 4,
   "id": "0669fcc2-cedd-4051-a85c-8568b6ab6f69",
   "metadata": {},
   "outputs": [
    {
     "data": {
      "text/plain": [
       "True"
      ]
     },
     "execution_count": 4,
     "metadata": {},
     "output_type": "execute_result"
    }
   ],
   "source": [
    "\"Poonam\" in name"
   ]
  },
  {
   "cell_type": "code",
   "execution_count": 5,
   "id": "02e7fb06-15c4-4d2c-b4c0-b83cfa03b2d7",
   "metadata": {},
   "outputs": [
    {
     "data": {
      "text/plain": [
       "False"
      ]
     },
     "execution_count": 5,
     "metadata": {},
     "output_type": "execute_result"
    }
   ],
   "source": [
    "\"nampoo\" in name"
   ]
  },
  {
   "cell_type": "code",
   "execution_count": 6,
   "id": "d4f23f1e-d805-44fd-bb83-9665b54bf25b",
   "metadata": {},
   "outputs": [
    {
     "data": {
      "text/plain": [
       "True"
      ]
     },
     "execution_count": 6,
     "metadata": {},
     "output_type": "execute_result"
    }
   ],
   "source": [
    "\"a\" in name "
   ]
  },
  {
   "cell_type": "code",
   "execution_count": null,
   "id": "2ef00c0b-090d-46a1-b45b-a84125ee81c2",
   "metadata": {},
   "outputs": [],
   "source": []
  },
  {
   "cell_type": "code",
   "execution_count": null,
   "id": "ce21d958-0829-431e-b8ad-aad11a251b1d",
   "metadata": {},
   "outputs": [],
   "source": [
    "# is - tell you if both the objects are at same memory location ?\n"
   ]
  },
  {
   "cell_type": "code",
   "execution_count": null,
   "id": "2e131465-955d-4b11-9384-4c1dadfeec74",
   "metadata": {},
   "outputs": [],
   "source": [
    "# if id(one object) == id(second object)"
   ]
  },
  {
   "cell_type": "code",
   "execution_count": 7,
   "id": "eac38399-85c8-412c-9f98-08ed3e39686b",
   "metadata": {},
   "outputs": [
    {
     "name": "stdout",
     "output_type": "stream",
     "text": [
      "4409011752 4409011752\n"
     ]
    }
   ],
   "source": [
    "a = 5\n",
    "b = 5\n",
    "print(id(a), id(b))"
   ]
  },
  {
   "cell_type": "code",
   "execution_count": 8,
   "id": "f146fe04-0f48-4b97-a323-cef709e6b23e",
   "metadata": {},
   "outputs": [
    {
     "data": {
      "text/plain": [
       "True"
      ]
     },
     "execution_count": 8,
     "metadata": {},
     "output_type": "execute_result"
    }
   ],
   "source": [
    "a is b "
   ]
  },
  {
   "cell_type": "code",
   "execution_count": 9,
   "id": "7a51db2d-8525-45b4-a9c5-59287d44fc05",
   "metadata": {},
   "outputs": [
    {
     "name": "stdout",
     "output_type": "stream",
     "text": [
      "4409012680 4409013032\n"
     ]
    }
   ],
   "source": [
    "a = 34 \n",
    "b = 45 \n",
    "print(id(a), id(b))"
   ]
  },
  {
   "cell_type": "code",
   "execution_count": 10,
   "id": "f0ee7038-d756-4f0b-828f-0be170857303",
   "metadata": {},
   "outputs": [
    {
     "data": {
      "text/plain": [
       "False"
      ]
     },
     "execution_count": 10,
     "metadata": {},
     "output_type": "execute_result"
    }
   ],
   "source": [
    "a is b "
   ]
  },
  {
   "cell_type": "code",
   "execution_count": null,
   "id": "59ee5094-8944-47cd-a4af-729b86298431",
   "metadata": {},
   "outputs": [],
   "source": []
  },
  {
   "cell_type": "code",
   "execution_count": 11,
   "id": "c7fbe4c6-9cb3-4e92-a21d-1a8844f8441b",
   "metadata": {},
   "outputs": [
    {
     "name": "stdout",
     "output_type": "stream",
     "text": [
      "1\n"
     ]
    }
   ],
   "source": [
    "print(0 or 1)"
   ]
  }
 ],
 "metadata": {
  "kernelspec": {
   "display_name": "Python 3 (ipykernel)",
   "language": "python",
   "name": "python3"
  },
  "language_info": {
   "codemirror_mode": {
    "name": "ipython",
    "version": 3
   },
   "file_extension": ".py",
   "mimetype": "text/x-python",
   "name": "python",
   "nbconvert_exporter": "python",
   "pygments_lexer": "ipython3",
   "version": "3.11.5"
  }
 },
 "nbformat": 4,
 "nbformat_minor": 5
}
