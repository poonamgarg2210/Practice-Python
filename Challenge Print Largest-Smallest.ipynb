{
 "cells": [
  {
   "cell_type": "markdown",
   "id": "205c825c-6bcd-4d54-b5e2-3c530143d5c6",
   "metadata": {},
   "source": [
    "Find maximum in a list \n",
    "1. Given marks of students in a classs. Find topper of the class.\n",
    "2. Consider that list is not empty."
   ]
  },
  {
   "cell_type": "code",
   "execution_count": null,
   "id": "5603372a-588e-41b8-af9e-416fee30787f",
   "metadata": {},
   "outputs": [],
   "source": [
    "marks = [ 90, 30, 100, 50, 80, 95]"
   ]
  },
  {
   "cell_type": "code",
   "execution_count": null,
   "id": "eee18cba-23c3-460f-a83a-603747d15126",
   "metadata": {},
   "outputs": [],
   "source": [
    "# first go through all the elements \n",
    "# lets assume first element [0] is highest, later check with other elements\n",
    "# update highest "
   ]
  },
  {
   "cell_type": "code",
   "execution_count": 2,
   "id": "80639244-4731-45f7-87f8-590bf441f6b3",
   "metadata": {},
   "outputs": [
    {
     "name": "stdout",
     "output_type": "stream",
     "text": [
      "100\n"
     ]
    }
   ],
   "source": [
    "marks = [ 90, 30, 100, 50, 80, 95]\n",
    "highest = marks[0]\n",
    "for i in marks:\n",
    "    if i > highest:\n",
    "        highest = i \n",
    "print(highest)"
   ]
  },
  {
   "cell_type": "code",
   "execution_count": null,
   "id": "789c084b-fe49-4907-9b2b-511ff3881e97",
   "metadata": {},
   "outputs": [],
   "source": [
    "# another way (simple) way to solve this :\n",
    "# max function "
   ]
  },
  {
   "cell_type": "code",
   "execution_count": 3,
   "id": "f7d1229a-90aa-4cd1-8945-14867c3667e2",
   "metadata": {},
   "outputs": [
    {
     "data": {
      "text/plain": [
       "100"
      ]
     },
     "execution_count": 3,
     "metadata": {},
     "output_type": "execute_result"
    }
   ],
   "source": [
    "marks = [ 90, 30, 100, 50, 80, 95]\n",
    "max(marks)"
   ]
  },
  {
   "cell_type": "code",
   "execution_count": null,
   "id": "6d3ad64d-bf81-42e2-825b-e05fc759ca9d",
   "metadata": {},
   "outputs": [],
   "source": []
  },
  {
   "cell_type": "markdown",
   "id": "5595e87f-ffd5-4672-8657-75f76527d848",
   "metadata": {},
   "source": [
    "Find minimum in a list \n",
    "1. Given marks of students in a classs.\n",
    "2. Consider that list is not empty."
   ]
  },
  {
   "cell_type": "code",
   "execution_count": 5,
   "id": "32179c63-6f38-430a-8572-33c929538e9e",
   "metadata": {},
   "outputs": [
    {
     "name": "stdout",
     "output_type": "stream",
     "text": [
      "30\n"
     ]
    }
   ],
   "source": [
    "marks = [90, 30, 100, 50, 80, 95]\n",
    "smallest = marks[0]\n",
    "for i in marks:\n",
    "    if i < smallest:\n",
    "        smallest = i\n",
    "print(smallest)        \n"
   ]
  },
  {
   "cell_type": "code",
   "execution_count": 6,
   "id": "34fb9225-ca72-457c-b6bf-b54d8b1d2c45",
   "metadata": {},
   "outputs": [
    {
     "data": {
      "text/plain": [
       "30"
      ]
     },
     "execution_count": 6,
     "metadata": {},
     "output_type": "execute_result"
    }
   ],
   "source": [
    "marks = [90, 30, 100, 50, 80, 95]\n",
    "min(marks)"
   ]
  },
  {
   "cell_type": "code",
   "execution_count": null,
   "id": "30681004-06a0-494a-8e4a-71f8cf8c26bd",
   "metadata": {},
   "outputs": [],
   "source": []
  }
 ],
 "metadata": {
  "kernelspec": {
   "display_name": "Python 3 (ipykernel)",
   "language": "python",
   "name": "python3"
  },
  "language_info": {
   "codemirror_mode": {
    "name": "ipython",
    "version": 3
   },
   "file_extension": ".py",
   "mimetype": "text/x-python",
   "name": "python",
   "nbconvert_exporter": "python",
   "pygments_lexer": "ipython3",
   "version": "3.11.5"
  }
 },
 "nbformat": 4,
 "nbformat_minor": 5
}
