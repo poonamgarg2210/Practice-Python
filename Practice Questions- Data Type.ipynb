{
 "cells": [
  {
   "cell_type": "code",
   "execution_count": null,
   "id": "5c02fd93",
   "metadata": {},
   "outputs": [],
   "source": [
    "Q1: Write a Python program to add two integers and print the result.\n"
   ]
  },
  {
   "cell_type": "code",
   "execution_count": 1,
   "id": "c0b79e32",
   "metadata": {},
   "outputs": [
    {
     "name": "stdout",
     "output_type": "stream",
     "text": [
      "3\n"
     ]
    }
   ],
   "source": [
    "a= 1\n",
    "b= 2\n",
    "print(a+b)"
   ]
  },
  {
   "cell_type": "code",
   "execution_count": null,
   "id": "e6d5568f",
   "metadata": {},
   "outputs": [],
   "source": [
    "Q2: Create a variable and assign a string to it. Print the data type of the variable.\n"
   ]
  },
  {
   "cell_type": "code",
   "execution_count": 2,
   "id": "cd3c9cbb",
   "metadata": {},
   "outputs": [
    {
     "data": {
      "text/plain": [
       "str"
      ]
     },
     "execution_count": 2,
     "metadata": {},
     "output_type": "execute_result"
    }
   ],
   "source": [
    "a= 'Poonam'\n",
    "type(a)"
   ]
  },
  {
   "cell_type": "code",
   "execution_count": null,
   "id": "46dab0d5",
   "metadata": {},
   "outputs": [],
   "source": [
    "Q3: Write a Python program to concatenate two strings.\n"
   ]
  },
  {
   "cell_type": "code",
   "execution_count": 4,
   "id": "4f94e98f",
   "metadata": {},
   "outputs": [
    {
     "name": "stdout",
     "output_type": "stream",
     "text": [
      "Poonam loves ice cream\n"
     ]
    }
   ],
   "source": [
    "a= 'Poonam'\n",
    "b= ' loves ice cream'\n",
    "print(a+b)"
   ]
  },
  {
   "cell_type": "code",
   "execution_count": null,
   "id": "285462ff",
   "metadata": {},
   "outputs": [],
   "source": [
    "Q4: Create a list with five elements and print its data type.\n"
   ]
  },
  {
   "cell_type": "code",
   "execution_count": 5,
   "id": "ae67ca3b",
   "metadata": {},
   "outputs": [
    {
     "data": {
      "text/plain": [
       "list"
      ]
     },
     "execution_count": 5,
     "metadata": {},
     "output_type": "execute_result"
    }
   ],
   "source": [
    "a= [1,2,'vanila','chocolate',5]\n",
    "type(a)"
   ]
  },
  {
   "cell_type": "code",
   "execution_count": null,
   "id": "1777d666",
   "metadata": {},
   "outputs": [],
   "source": [
    "Q5: Write a Python program to find the length of a given list.\n"
   ]
  },
  {
   "cell_type": "code",
   "execution_count": 9,
   "id": "021f654d",
   "metadata": {},
   "outputs": [
    {
     "name": "stdout",
     "output_type": "stream",
     "text": [
      "5\n"
     ]
    }
   ],
   "source": [
    "a= [1,2,'vanila','chocolate',5]\n",
    "length = len(a)\n",
    "print(length)\n"
   ]
  },
  {
   "cell_type": "code",
   "execution_count": null,
   "id": "85334dca",
   "metadata": {},
   "outputs": [],
   "source": [
    "Q6: Create a tuple with three elements and print its data type.\n"
   ]
  },
  {
   "cell_type": "code",
   "execution_count": 11,
   "id": "9b16d4db",
   "metadata": {},
   "outputs": [
    {
     "data": {
      "text/plain": [
       "tuple"
      ]
     },
     "execution_count": 11,
     "metadata": {},
     "output_type": "execute_result"
    }
   ],
   "source": [
    "Scoop = ('Vanila', 'Butterscotch', 'Chocolate')\n",
    "type(Scoop)"
   ]
  },
  {
   "cell_type": "code",
   "execution_count": null,
   "id": "e15b5612",
   "metadata": {},
   "outputs": [],
   "source": [
    "Q7:  Write a Python program to check if a given element is present in a list.\n"
   ]
  },
  {
   "cell_type": "code",
   "execution_count": 33,
   "id": "528bdbc5",
   "metadata": {},
   "outputs": [
    {
     "name": "stdout",
     "output_type": "stream",
     "text": [
      "Number found at position:  2\n"
     ]
    }
   ],
   "source": [
    "a= [1,2,'vanila','chocolate',5]\n",
    "Number_to_search = 2\n",
    "number = 0\n",
    "sizeoflist = len(a)\n",
    "while number < sizeoflist:    \n",
    "    if a[number]== Number_to_search:\n",
    "        print(\"Number found at position: \",number+1)\n",
    "        break;\n",
    "    else :\n",
    "        number = number+1\n",
    "        continue\n",
    "    \n",
    "    "
   ]
  },
  {
   "cell_type": "code",
   "execution_count": null,
   "id": "18577b2a",
   "metadata": {},
   "outputs": [],
   "source": [
    "Q8: Create a dictionary with three key-value pairs and print its data type.\n"
   ]
  },
  {
   "cell_type": "code",
   "execution_count": 1,
   "id": "2eaba7af",
   "metadata": {},
   "outputs": [
    {
     "data": {
      "text/plain": [
       "dict"
      ]
     },
     "execution_count": 1,
     "metadata": {},
     "output_type": "execute_result"
    }
   ],
   "source": [
    "dict_cream = {'name' : 'Poonam', 'Weekly intake' : 3, 'favourite ice creams': 'chocolate'}\n",
    "type(dict_cream)\n"
   ]
  },
  {
   "cell_type": "code",
   "execution_count": null,
   "id": "6b4ee435",
   "metadata": {},
   "outputs": [],
   "source": [
    "Q9: Write a Python program to access a specific element in a tuple.\n"
   ]
  },
  {
   "cell_type": "code",
   "execution_count": 12,
   "id": "7908efa1",
   "metadata": {},
   "outputs": [
    {
     "name": "stdout",
     "output_type": "stream",
     "text": [
      "Vanila\n"
     ]
    }
   ],
   "source": [
    "tuple_Scoop = ('Vanila', 'Butterscotch', 'Chocolate')\n",
    "print(tuple_Scoop[0])\n"
   ]
  },
  {
   "cell_type": "code",
   "execution_count": null,
   "id": "24384650",
   "metadata": {},
   "outputs": [],
   "source": [
    "Q10: Create a set with some elements and print its data type.\n"
   ]
  },
  {
   "cell_type": "code",
   "execution_count": 14,
   "id": "24e6f6bb",
   "metadata": {},
   "outputs": [
    {
     "data": {
      "text/plain": [
       "set"
      ]
     },
     "execution_count": 14,
     "metadata": {},
     "output_type": "execute_result"
    }
   ],
   "source": [
    "Set_scoop = {'Vanila', 'Butterscotch', 'Chocolate'}\n",
    "type(Set_scoop)"
   ]
  },
  {
   "cell_type": "code",
   "execution_count": null,
   "id": "080074e8",
   "metadata": {},
   "outputs": [],
   "source": [
    "Q11: Write a Python program to check if a given key exists in a dictionary.\n"
   ]
  },
  {
   "cell_type": "code",
   "execution_count": 17,
   "id": "dd0b0407",
   "metadata": {},
   "outputs": [
    {
     "name": "stdout",
     "output_type": "stream",
     "text": [
      "key is present\n"
     ]
    }
   ],
   "source": [
    "dict_cream = {'name' : 'Poonam', 'Weekly intake' : 3, 'favourite ice creams': 'chocolate'}\n",
    "key_to_check = 'name'\n",
    "\n",
    "if key_to_check in dict_cream:\n",
    "    print('key is present')\n",
    "    "
   ]
  },
  {
   "cell_type": "code",
   "execution_count": null,
   "id": "997ecb31",
   "metadata": {},
   "outputs": [],
   "source": [
    "Q12: Convert an integer to a string and print its data type.\n"
   ]
  },
  {
   "cell_type": "code",
   "execution_count": 29,
   "id": "27e3c2d1",
   "metadata": {},
   "outputs": [
    {
     "data": {
      "text/plain": [
       "str"
      ]
     },
     "execution_count": 29,
     "metadata": {},
     "output_type": "execute_result"
    }
   ],
   "source": [
    "num = 10\n",
    "conv_to_str = str(num)\n",
    "type(conv_to_str)"
   ]
  },
  {
   "cell_type": "code",
   "execution_count": null,
   "id": "46f7ef8e",
   "metadata": {},
   "outputs": [],
   "source": [
    "Q13: Convert a float to an integer and print its data type.\n"
   ]
  },
  {
   "cell_type": "code",
   "execution_count": 28,
   "id": "a49f5dbf",
   "metadata": {},
   "outputs": [
    {
     "data": {
      "text/plain": [
       "int"
      ]
     },
     "execution_count": 28,
     "metadata": {},
     "output_type": "execute_result"
    }
   ],
   "source": [
    "num = 10.3\n",
    "conv_to_int = int(num)\n",
    "type(conv_to_int)"
   ]
  },
  {
   "cell_type": "code",
   "execution_count": null,
   "id": "94a699f0",
   "metadata": {},
   "outputs": [],
   "source": [
    "Q14: Convert a string to a list and print its data type.\n"
   ]
  },
  {
   "cell_type": "code",
   "execution_count": 27,
   "id": "1ff323d6",
   "metadata": {},
   "outputs": [
    {
     "data": {
      "text/plain": [
       "list"
      ]
     },
     "execution_count": 27,
     "metadata": {},
     "output_type": "execute_result"
    }
   ],
   "source": [
    "string = \"Hello World\"\n",
    "conv_to_list = list(string)\n",
    "type(conv_to_list)\n"
   ]
  },
  {
   "cell_type": "code",
   "execution_count": 23,
   "id": "c43d4c21",
   "metadata": {},
   "outputs": [
    {
     "name": "stdout",
     "output_type": "stream",
     "text": [
      "['H', 'e', 'l', 'l', 'o', ' ', 'W', 'o', 'r', 'l', 'd']\n"
     ]
    }
   ],
   "source": [
    "print(conv_to_list)"
   ]
  },
  {
   "cell_type": "code",
   "execution_count": null,
   "id": "4b734dec",
   "metadata": {},
   "outputs": [],
   "source": [
    "Q15: Convert a list to a tuple and print its data type.\n"
   ]
  },
  {
   "cell_type": "code",
   "execution_count": 26,
   "id": "f426b71a",
   "metadata": {},
   "outputs": [
    {
     "data": {
      "text/plain": [
       "tuple"
      ]
     },
     "execution_count": 26,
     "metadata": {},
     "output_type": "execute_result"
    }
   ],
   "source": [
    "sample_list = ['Hello', 'World', 2]\n",
    "conv_to_tuple = tuple(sample_list)\n",
    "type(conv_to_tuple)\n"
   ]
  },
  {
   "cell_type": "code",
   "execution_count": 31,
   "id": "22921c3a",
   "metadata": {},
   "outputs": [
    {
     "name": "stdout",
     "output_type": "stream",
     "text": [
      "('Hello', 'World', 2)\n"
     ]
    }
   ],
   "source": [
    "print(conv_to_tuple)"
   ]
  },
  {
   "cell_type": "code",
   "execution_count": null,
   "id": "c55e3d34",
   "metadata": {},
   "outputs": [],
   "source": [
    "Q16: Convert a tuple to a set and print its data type.\n"
   ]
  },
  {
   "cell_type": "code",
   "execution_count": 30,
   "id": "eeec5937",
   "metadata": {},
   "outputs": [
    {
     "data": {
      "text/plain": [
       "set"
      ]
     },
     "execution_count": 30,
     "metadata": {},
     "output_type": "execute_result"
    }
   ],
   "source": [
    "sample_tuple = ('Hello', 'World', 2)\n",
    "conv_to_set = set(sample_tuple)\n",
    "type(conv_to_set)\n"
   ]
  },
  {
   "cell_type": "code",
   "execution_count": 32,
   "id": "23584338",
   "metadata": {},
   "outputs": [
    {
     "name": "stdout",
     "output_type": "stream",
     "text": [
      "{2, 'World', 'Hello'}\n"
     ]
    }
   ],
   "source": [
    "print(conv_to_set)"
   ]
  },
  {
   "cell_type": "code",
   "execution_count": null,
   "id": "7868ba05",
   "metadata": {},
   "outputs": [],
   "source": [
    "Q17: Convert a set to a list and print its data type.\n"
   ]
  },
  {
   "cell_type": "code",
   "execution_count": 33,
   "id": "0f887137",
   "metadata": {},
   "outputs": [
    {
     "data": {
      "text/plain": [
       "list"
      ]
     },
     "execution_count": 33,
     "metadata": {},
     "output_type": "execute_result"
    }
   ],
   "source": [
    "sample_set = {'Hello', 'World', 2}\n",
    "conv_to_list = list(sample_set)\n",
    "type(conv_to_list)\n"
   ]
  },
  {
   "cell_type": "code",
   "execution_count": 34,
   "id": "bb201c8d",
   "metadata": {},
   "outputs": [
    {
     "name": "stdout",
     "output_type": "stream",
     "text": [
      "[2, 'World', 'Hello']\n"
     ]
    }
   ],
   "source": [
    "print(conv_to_list)"
   ]
  },
  {
   "cell_type": "code",
   "execution_count": null,
   "id": "e648045f",
   "metadata": {},
   "outputs": [],
   "source": [
    "Q18: Convert a dictionary's keys to a list and print its data type.\n"
   ]
  },
  {
   "cell_type": "code",
   "execution_count": 36,
   "id": "af38d210",
   "metadata": {},
   "outputs": [
    {
     "data": {
      "text/plain": [
       "list"
      ]
     },
     "execution_count": 36,
     "metadata": {},
     "output_type": "execute_result"
    }
   ],
   "source": [
    "sample_dict = {'name' : 'Poonam', 'Weekly intake' : 3, 'favourite ice creams': 'chocolate'}\n",
    "conv_keys_to_list = list(sample_dict.keys())\n",
    "type(conv_keys_to_list)\n"
   ]
  },
  {
   "cell_type": "code",
   "execution_count": 37,
   "id": "85663eaf",
   "metadata": {},
   "outputs": [
    {
     "name": "stdout",
     "output_type": "stream",
     "text": [
      "['name', 'Weekly intake', 'favourite ice creams']\n"
     ]
    }
   ],
   "source": [
    "print(conv_keys_to_list)"
   ]
  },
  {
   "cell_type": "code",
   "execution_count": null,
   "id": "5eb92dcc",
   "metadata": {},
   "outputs": [],
   "source": [
    "Q19: Write a Python program to create a new list by repeating the elements of an existing list five times.\n"
   ]
  },
  {
   "cell_type": "code",
   "execution_count": 40,
   "id": "b142e01e",
   "metadata": {},
   "outputs": [
    {
     "name": "stdout",
     "output_type": "stream",
     "text": [
      "['Hello', 'World', 2, 'Hello', 'World', 2, 'Hello', 'World', 2, 'Hello', 'World', 2, 'Hello', 'World', 2]\n"
     ]
    }
   ],
   "source": [
    "sample_list = ['Hello', 'World', 2]\n",
    "sample_list_5times = sample_list*5\n",
    "print(sample_list_5times)\n"
   ]
  },
  {
   "cell_type": "code",
   "execution_count": null,
   "id": "68e22e40",
   "metadata": {},
   "outputs": [],
   "source": [
    "Q20: Write a Python program to merge two dictionaries into a new dictionary.\n"
   ]
  },
  {
   "cell_type": "code",
   "execution_count": 51,
   "id": "4c53c0ef",
   "metadata": {},
   "outputs": [
    {
     "name": "stdout",
     "output_type": "stream",
     "text": [
      "{'name': 'poonam', 'weekly intake': 3, 'favourite ice cream': 'chocolate', 'name1': 'Jalaj', 'weekly intake1': 2, 'favourite ice cream1': 'Butter Scotch'}\n"
     ]
    }
   ],
   "source": [
    "dict_1 = {'name': 'poonam', 'weekly intake':3, 'favourite ice cream': 'chocolate'}\n",
    "dict_2 = {'name1': 'Jalaj', 'weekly intake1':2, 'favourite ice cream1': 'Butter Scotch'}\n",
    "merged_dict = {**dict_1, **dict_2}\n",
    "print(merged_dict)\n"
   ]
  },
  {
   "cell_type": "code",
   "execution_count": null,
   "id": "3562b0fb",
   "metadata": {},
   "outputs": [],
   "source": [
    "Q21: Write a Python program to remove a specific element from a list.\n"
   ]
  },
  {
   "cell_type": "code",
   "execution_count": 52,
   "id": "bbc477f0",
   "metadata": {},
   "outputs": [
    {
     "name": "stdout",
     "output_type": "stream",
     "text": [
      "{'name': 'poonam', 'favourite ice cream': 'chocolate'}\n"
     ]
    }
   ],
   "source": [
    "sample_dict = {'name': 'poonam', 'weekly intake':3, 'favourite ice cream': 'chocolate'}\n",
    "del sample_dict['weekly intake']\n",
    "print(sample_dict)\n"
   ]
  },
  {
   "cell_type": "code",
   "execution_count": null,
   "id": "675448b3",
   "metadata": {},
   "outputs": [],
   "source": [
    "Q22: Write a Python program to remove all occurrences of a specific element from a list.\n"
   ]
  },
  {
   "cell_type": "code",
   "execution_count": null,
   "id": "7c22a9a8",
   "metadata": {},
   "outputs": [],
   "source": [
    "a= [1,2,3,'vanila','chocolate',5,1,2]\n",
    "Number_to_search = 2\n",
    "number = 0\n",
    "sizeoflist = len(a)\n",
    "print(sizeoflist)\n",
    "\n",
    "while number < sizeoflist:    \n",
    "    if a[number]== Number_to_search:\n",
    "        del a[number]\n",
    "        print(\"current number is :\", number)\n",
    "        number = number+1\n",
    "    else:\n",
    "        continue"
   ]
  },
  {
   "cell_type": "code",
   "execution_count": null,
   "id": "d2046541",
   "metadata": {},
   "outputs": [],
   "source": [
    "Q23: Write a Python program to sort a list of integers in ascending order.\n"
   ]
  },
  {
   "cell_type": "code",
   "execution_count": 93,
   "id": "f97e2326",
   "metadata": {},
   "outputs": [
    {
     "name": "stdout",
     "output_type": "stream",
     "text": [
      "None\n",
      "[1, 2, 2, 3, 5, 5, 7, 8, 9]\n"
     ]
    }
   ],
   "source": [
    "numbers = [1,2,5,7,9,3,5,8,2]\n",
    "print(numbers.sort())\n",
    "print(numbers)"
   ]
  },
  {
   "cell_type": "code",
   "execution_count": 94,
   "id": "7e5fe02a",
   "metadata": {
    "scrolled": true
   },
   "outputs": [
    {
     "ename": "SyntaxError",
     "evalue": "invalid syntax (1665296477.py, line 1)",
     "output_type": "error",
     "traceback": [
      "\u001b[1;36m  Cell \u001b[1;32mIn[94], line 1\u001b[1;36m\u001b[0m\n\u001b[1;33m    Q24: Write a Python program to find the minimum and maximum values in a list.\u001b[0m\n\u001b[1;37m               ^\u001b[0m\n\u001b[1;31mSyntaxError\u001b[0m\u001b[1;31m:\u001b[0m invalid syntax\n"
     ]
    }
   ],
   "source": [
    "Q24: Write a Python program to find the minimum and maximum values in a list.\n"
   ]
  },
  {
   "cell_type": "code",
   "execution_count": 95,
   "id": "81e2b9f2",
   "metadata": {
    "scrolled": true
   },
   "outputs": [
    {
     "name": "stdout",
     "output_type": "stream",
     "text": [
      "0\n"
     ]
    }
   ],
   "source": [
    "numbers = [1,2,5,6,8,0,12,4]\n",
    "print(min(numbers))"
   ]
  },
  {
   "cell_type": "code",
   "execution_count": 87,
   "id": "4d13367d",
   "metadata": {},
   "outputs": [
    {
     "name": "stdout",
     "output_type": "stream",
     "text": [
      "12\n"
     ]
    }
   ],
   "source": [
    "numbers = [1,2,5,6,8,0,12,4]\n",
    "print(max(numbers))"
   ]
  },
  {
   "cell_type": "code",
   "execution_count": null,
   "id": "d1e760e9",
   "metadata": {},
   "outputs": [],
   "source": [
    "Q25: Write a Python program to check if a given list is empty.\n"
   ]
  },
  {
   "cell_type": "code",
   "execution_count": 67,
   "id": "396d6f92",
   "metadata": {},
   "outputs": [
    {
     "name": "stdout",
     "output_type": "stream",
     "text": [
      "list is not empty\n"
     ]
    }
   ],
   "source": [
    "smaple_list = ['Hello', 'world', 2]\n",
    "if len(sample_list) == 0:\n",
    "    print(\"list is empty\")\n",
    "else:\n",
    "    print(\"list is not empty\")"
   ]
  },
  {
   "cell_type": "code",
   "execution_count": null,
   "id": "d16e2c0d",
   "metadata": {},
   "outputs": [],
   "source": [
    "Q26: Write a Python program to check If a given Tuple Is empty.\n"
   ]
  },
  {
   "cell_type": "code",
   "execution_count": 71,
   "id": "f5272aaf",
   "metadata": {},
   "outputs": [
    {
     "name": "stdout",
     "output_type": "stream",
     "text": [
      "tuple is not empty\n"
     ]
    }
   ],
   "source": [
    "sample_tuple = ('Hello', 'world', 2)\n",
    "if len(sample_tuple) == 0:\n",
    "    print(\"tuple is empty\")\n",
    "else:\n",
    "    print(\"tuple is not empty\")"
   ]
  },
  {
   "cell_type": "code",
   "execution_count": null,
   "id": "12b7865b",
   "metadata": {},
   "outputs": [],
   "source": [
    "Q27: Write a Python program to check if a given set is empty.\n"
   ]
  },
  {
   "cell_type": "code",
   "execution_count": 72,
   "id": "7034e1b3",
   "metadata": {},
   "outputs": [
    {
     "name": "stdout",
     "output_type": "stream",
     "text": [
      "set is not empty\n"
     ]
    }
   ],
   "source": [
    "sample_set = {'Hello', 'world', 2}\n",
    "if len(sample_set) == 0:\n",
    "    print(\"set is empty\")\n",
    "else:\n",
    "    print(\"set is not empty\")"
   ]
  },
  {
   "cell_type": "code",
   "execution_count": null,
   "id": "5810d533",
   "metadata": {},
   "outputs": [],
   "source": [
    "Q28: Write a Python program to check if a given dictionary is empty.\n"
   ]
  },
  {
   "cell_type": "code",
   "execution_count": 73,
   "id": "4113f51a",
   "metadata": {},
   "outputs": [
    {
     "name": "stdout",
     "output_type": "stream",
     "text": [
      "dict is not empty\n"
     ]
    }
   ],
   "source": [
    "sample_dict = {'name': 'poonam', 'weekly intake':3, 'favourite ice cream': 'chocolate'}\n",
    "if len(sample_dict) == 0:\n",
    "    print(\"dict is empty\")\n",
    "else:\n",
    "    print(\"dict is not empty\")"
   ]
  },
  {
   "cell_type": "code",
   "execution_count": null,
   "id": "e90946c3",
   "metadata": {},
   "outputs": [],
   "source": [
    "Q29:Write a Python program to perform element-wise addition of two lists.\n"
   ]
  },
  {
   "cell_type": "code",
   "execution_count": null,
   "id": "0ffc55e5",
   "metadata": {},
   "outputs": [],
   "source": []
  },
  {
   "cell_type": "code",
   "execution_count": null,
   "id": "7c071b6d",
   "metadata": {},
   "outputs": [],
   "source": [
    "Q30: Write a Python program to count the number of occurrences of a specific element in a list.\n"
   ]
  },
  {
   "cell_type": "code",
   "execution_count": null,
   "id": "02e6c6f2",
   "metadata": {},
   "outputs": [],
   "source": []
  },
  {
   "cell_type": "code",
   "execution_count": null,
   "id": "22803739",
   "metadata": {},
   "outputs": [],
   "source": []
  },
  {
   "cell_type": "code",
   "execution_count": null,
   "id": "1b6e2f0d",
   "metadata": {},
   "outputs": [],
   "source": []
  },
  {
   "cell_type": "code",
   "execution_count": null,
   "id": "4f1ca276",
   "metadata": {},
   "outputs": [],
   "source": []
  },
  {
   "cell_type": "code",
   "execution_count": null,
   "id": "a05ab861",
   "metadata": {},
   "outputs": [],
   "source": []
  },
  {
   "cell_type": "code",
   "execution_count": null,
   "id": "53e601f8",
   "metadata": {},
   "outputs": [],
   "source": []
  },
  {
   "cell_type": "code",
   "execution_count": null,
   "id": "ba70f710",
   "metadata": {},
   "outputs": [],
   "source": []
  },
  {
   "cell_type": "code",
   "execution_count": null,
   "id": "32ed0bda",
   "metadata": {},
   "outputs": [],
   "source": []
  }
 ],
 "metadata": {
  "kernelspec": {
   "display_name": "Python 3 (ipykernel)",
   "language": "python",
   "name": "python3"
  },
  "language_info": {
   "codemirror_mode": {
    "name": "ipython",
    "version": 3
   },
   "file_extension": ".py",
   "mimetype": "text/x-python",
   "name": "python",
   "nbconvert_exporter": "python",
   "pygments_lexer": "ipython3",
   "version": "3.11.3"
  }
 },
 "nbformat": 4,
 "nbformat_minor": 5
}
