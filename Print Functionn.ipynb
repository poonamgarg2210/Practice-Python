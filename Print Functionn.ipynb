{
 "cells": [
  {
   "cell_type": "code",
   "execution_count": null,
   "id": "628dc115-18cb-4235-96dc-5a59b5472bcd",
   "metadata": {},
   "outputs": [],
   "source": [
    "# Print functions"
   ]
  },
  {
   "cell_type": "code",
   "execution_count": null,
   "id": "dae29ddc-cf8a-4fee-98bd-13fce5a762ca",
   "metadata": {},
   "outputs": [],
   "source": [
    "#by default inbuilt functions for print"
   ]
  },
  {
   "cell_type": "code",
   "execution_count": 1,
   "id": "a89fbf11-904c-4496-8e8a-20f22684d449",
   "metadata": {},
   "outputs": [
    {
     "data": {
      "text/plain": [
       "\u001b[0;31mSignature:\u001b[0m \u001b[0mprint\u001b[0m\u001b[0;34m(\u001b[0m\u001b[0;34m*\u001b[0m\u001b[0margs\u001b[0m\u001b[0;34m,\u001b[0m \u001b[0msep\u001b[0m\u001b[0;34m=\u001b[0m\u001b[0;34m' '\u001b[0m\u001b[0;34m,\u001b[0m \u001b[0mend\u001b[0m\u001b[0;34m=\u001b[0m\u001b[0;34m'\\n'\u001b[0m\u001b[0;34m,\u001b[0m \u001b[0mfile\u001b[0m\u001b[0;34m=\u001b[0m\u001b[0;32mNone\u001b[0m\u001b[0;34m,\u001b[0m \u001b[0mflush\u001b[0m\u001b[0;34m=\u001b[0m\u001b[0;32mFalse\u001b[0m\u001b[0;34m)\u001b[0m\u001b[0;34m\u001b[0m\u001b[0;34m\u001b[0m\u001b[0m\n",
       "\u001b[0;31mDocstring:\u001b[0m\n",
       "Prints the values to a stream, or to sys.stdout by default.\n",
       "\n",
       "sep\n",
       "  string inserted between values, default a space.\n",
       "end\n",
       "  string appended after the last value, default a newline.\n",
       "file\n",
       "  a file-like object (stream); defaults to the current sys.stdout.\n",
       "flush\n",
       "  whether to forcibly flush the stream.\n",
       "\u001b[0;31mType:\u001b[0m      builtin_function_or_method"
      ]
     },
     "metadata": {},
     "output_type": "display_data"
    }
   ],
   "source": [
    "print?"
   ]
  },
  {
   "cell_type": "code",
   "execution_count": null,
   "id": "d8637972-d55b-4022-8fd6-99e60f00e3c4",
   "metadata": {},
   "outputs": [],
   "source": [
    "# separate objects with space operator sep=' '\n",
    "# first print function ends and start next print function in next line end='\\n'\n",
    "#'\\n' = next line "
   ]
  },
  {
   "cell_type": "code",
   "execution_count": null,
   "id": "8bab1876-b7ac-47d3-b650-81643d076f80",
   "metadata": {},
   "outputs": [],
   "source": []
  },
  {
   "cell_type": "code",
   "execution_count": null,
   "id": "2a7f936d-c5bb-4742-9b86-de227bc601e7",
   "metadata": {},
   "outputs": [],
   "source": [
    "# changing default values of seperators "
   ]
  },
  {
   "cell_type": "code",
   "execution_count": 2,
   "id": "9b3abc4a-d171-4687-a96c-fd0f91b6db2d",
   "metadata": {},
   "outputs": [
    {
     "name": "stdout",
     "output_type": "stream",
     "text": [
      "rahul 26\n",
      "rohit 24\n"
     ]
    }
   ],
   "source": [
    "print (\"rahul\", 26)\n",
    "print(\"rohit\", 24)"
   ]
  },
  {
   "cell_type": "code",
   "execution_count": 4,
   "id": "380c2a01-f243-4407-aea0-e26d6c1f7a03",
   "metadata": {},
   "outputs": [
    {
     "name": "stdout",
     "output_type": "stream",
     "text": [
      "rahul 26 rohit 24\n"
     ]
    }
   ],
   "source": [
    "print (\"rahul\", 26, end=' ')\n",
    "print (\"rohit\", 24)"
   ]
  },
  {
   "cell_type": "code",
   "execution_count": null,
   "id": "dd4fd833-9c37-441d-99b4-d594692c64fa",
   "metadata": {},
   "outputs": [],
   "source": [
    "#in the above print function, we have used end with space after first print function so next line function will not be applied "
   ]
  },
  {
   "cell_type": "code",
   "execution_count": null,
   "id": "4e98518a-1a43-44cd-b369-166bd1284b4b",
   "metadata": {},
   "outputs": [],
   "source": [
    "#another example "
   ]
  },
  {
   "cell_type": "code",
   "execution_count": 6,
   "id": "64214739-e767-4ec4-84f0-8e82540e0e93",
   "metadata": {},
   "outputs": [
    {
     "name": "stdout",
     "output_type": "stream",
     "text": [
      "rahul 26 -> rohit 24\n"
     ]
    }
   ],
   "source": [
    "print (\"rahul\", 26, end=' -> ')\n",
    "print (\"rohit\", 24)"
   ]
  },
  {
   "cell_type": "code",
   "execution_count": null,
   "id": "5a2e2fb5-2bae-4f9c-ba6f-8bf10b8e1e3c",
   "metadata": {},
   "outputs": [],
   "source": [
    "#in the above print function, we have used end with (->) after first print function so next line function will not be applied "
   ]
  },
  {
   "cell_type": "code",
   "execution_count": null,
   "id": "6237eadb-13f6-4594-aaab-ee3272ab5713",
   "metadata": {},
   "outputs": [],
   "source": [
    "# another example "
   ]
  },
  {
   "cell_type": "code",
   "execution_count": 7,
   "id": "0c140dc5-50b4-4804-a49f-855a7667eef3",
   "metadata": {},
   "outputs": [
    {
     "name": "stdout",
     "output_type": "stream",
     "text": [
      "rahul\n",
      "26 -> rohit 24\n"
     ]
    }
   ],
   "source": [
    "print (\"rahul\", 26, sep=\"\\n\", end=' -> ')\n",
    "print (\"rohit\", 24)"
   ]
  },
  {
   "cell_type": "code",
   "execution_count": null,
   "id": "eb27f697-adb4-4239-b986-92428a5ddccf",
   "metadata": {},
   "outputs": [],
   "source": [
    "#in the above print function, we have used seperate with new line (\\n) after rahul and end with (->) after first printing rahul"
   ]
  },
  {
   "cell_type": "code",
   "execution_count": null,
   "id": "739db1f8-e8c7-4644-8e4f-59e1ed2adab5",
   "metadata": {},
   "outputs": [],
   "source": []
  },
  {
   "cell_type": "code",
   "execution_count": null,
   "id": "bc823ccc-fae8-4309-84ac-9f28e30437ca",
   "metadata": {},
   "outputs": [],
   "source": []
  },
  {
   "cell_type": "code",
   "execution_count": null,
   "id": "43a4a13f-c589-45bc-bb95-1004aefdd873",
   "metadata": {},
   "outputs": [],
   "source": []
  }
 ],
 "metadata": {
  "kernelspec": {
   "display_name": "Python 3 (ipykernel)",
   "language": "python",
   "name": "python3"
  },
  "language_info": {
   "codemirror_mode": {
    "name": "ipython",
    "version": 3
   },
   "file_extension": ".py",
   "mimetype": "text/x-python",
   "name": "python",
   "nbconvert_exporter": "python",
   "pygments_lexer": "ipython3",
   "version": "3.11.5"
  }
 },
 "nbformat": 4,
 "nbformat_minor": 5
}
