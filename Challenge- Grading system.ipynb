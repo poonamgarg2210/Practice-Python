{
 "cells": [
  {
   "cell_type": "markdown",
   "id": "ad32fab4-7ad7-4546-b3aa-763859e4cbcf",
   "metadata": {},
   "source": [
    "Grading System\n",
    "\n",
    "1. A: marks equal and above 90\n",
    "2. B: marks equal to 80 and less than 90\n",
    "3. C: marks equal to 70 and less than 80\n",
    "4. D: marks equal to 60 and less than 70\n",
    "5. E: Less than 60\n",
    "   "
   ]
  },
  {
   "cell_type": "code",
   "execution_count": 3,
   "id": "7331db6c-697f-43f9-a2ad-232185fa3dad",
   "metadata": {},
   "outputs": [
    {
     "name": "stdin",
     "output_type": "stream",
     "text": [
      " 100\n"
     ]
    },
    {
     "name": "stdout",
     "output_type": "stream",
     "text": [
      "A Grade\n"
     ]
    }
   ],
   "source": [
    "marks = int(input())\n",
    "if marks >= 90 and marks <= 100:\n",
    "    print(\"A Grade\")\n",
    "elif marks >= 80 and marks < 90:\n",
    "    print(\"B Grade\")\n",
    "elif marks >= 70 and marks < 80:\n",
    "    print(\"C Grade\")\n",
    "elif marks >= 60 and marks < 70:\n",
    "    print(\"D Grade\")\n",
    "elif marks < 60:\n",
    "    print(\"E\")\n",
    "else:\n",
    "    print(\"Invalid\")    \n",
    "    "
   ]
  },
  {
   "cell_type": "code",
   "execution_count": null,
   "id": "4c75f23c-87ac-4ff2-a7ae-6248a58d143e",
   "metadata": {},
   "outputs": [],
   "source": []
  },
  {
   "cell_type": "code",
   "execution_count": null,
   "id": "08456e9b-d9cd-44cd-ba0c-2e5446b95d31",
   "metadata": {},
   "outputs": [],
   "source": []
  },
  {
   "cell_type": "code",
   "execution_count": null,
   "id": "d717ecdf-72da-419c-846a-b214a58e6fe3",
   "metadata": {},
   "outputs": [],
   "source": []
  },
  {
   "cell_type": "code",
   "execution_count": null,
   "id": "bf22a48f-2bc0-4d31-8dc2-6abd121813b3",
   "metadata": {},
   "outputs": [],
   "source": []
  },
  {
   "cell_type": "code",
   "execution_count": null,
   "id": "c4202337-e8f9-442b-9423-1bb40d39b73f",
   "metadata": {},
   "outputs": [],
   "source": []
  },
  {
   "cell_type": "code",
   "execution_count": null,
   "id": "051dc4e7-51bb-40ce-9e9a-afc9a59d83c8",
   "metadata": {},
   "outputs": [],
   "source": []
  }
 ],
 "metadata": {
  "kernelspec": {
   "display_name": "Python 3 (ipykernel)",
   "language": "python",
   "name": "python3"
  },
  "language_info": {
   "codemirror_mode": {
    "name": "ipython",
    "version": 3
   },
   "file_extension": ".py",
   "mimetype": "text/x-python",
   "name": "python",
   "nbconvert_exporter": "python",
   "pygments_lexer": "ipython3",
   "version": "3.11.5"
  }
 },
 "nbformat": 4,
 "nbformat_minor": 5
}
