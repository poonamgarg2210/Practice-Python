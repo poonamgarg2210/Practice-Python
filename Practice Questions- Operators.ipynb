{
 "cells": [
  {
   "cell_type": "code",
   "execution_count": null,
   "id": "f3b0ab4d",
   "metadata": {},
   "outputs": [],
   "source": [
    "Q1: Write a Python program to check if two numbers are equal using the == operator.\n"
   ]
  },
  {
   "cell_type": "code",
   "execution_count": 1,
   "id": "6967f78c",
   "metadata": {},
   "outputs": [
    {
     "data": {
      "text/plain": [
       "True"
      ]
     },
     "execution_count": 1,
     "metadata": {},
     "output_type": "execute_result"
    }
   ],
   "source": [
    "a = 10\n",
    "b = 10\n",
    "a == b"
   ]
  },
  {
   "cell_type": "code",
   "execution_count": null,
   "id": "4184c161",
   "metadata": {},
   "outputs": [],
   "source": [
    "Q2: Create a program to check if two strings are not equal using the != operator.\n"
   ]
  },
  {
   "cell_type": "code",
   "execution_count": 2,
   "id": "d89754df",
   "metadata": {},
   "outputs": [
    {
     "data": {
      "text/plain": [
       "True"
      ]
     },
     "execution_count": 2,
     "metadata": {},
     "output_type": "execute_result"
    }
   ],
   "source": [
    "a = 'poonam'\n",
    "b = 'jalaj'\n",
    "a != b"
   ]
  },
  {
   "cell_type": "code",
   "execution_count": null,
   "id": "2de43bf8",
   "metadata": {},
   "outputs": [],
   "source": [
    "Q3: Write a Python program to compare two numbers and check if the first number is greater than the second using the > operator.\n"
   ]
  },
  {
   "cell_type": "code",
   "execution_count": 3,
   "id": "60a6d2cd",
   "metadata": {},
   "outputs": [
    {
     "data": {
      "text/plain": [
       "True"
      ]
     },
     "execution_count": 3,
     "metadata": {},
     "output_type": "execute_result"
    }
   ],
   "source": [
    "a = 15\n",
    "b = 10\n",
    "a > b"
   ]
  },
  {
   "cell_type": "code",
   "execution_count": null,
   "id": "02b59ca8",
   "metadata": {},
   "outputs": [],
   "source": [
    "Q4: Create a program to compare two strings and check if the first string comes before the second one lexicographically using the < operator.\n"
   ]
  },
  {
   "cell_type": "code",
   "execution_count": 4,
   "id": "02a180b7",
   "metadata": {},
   "outputs": [
    {
     "data": {
      "text/plain": [
       "False"
      ]
     },
     "execution_count": 4,
     "metadata": {},
     "output_type": "execute_result"
    }
   ],
   "source": [
    "a = 'poonam'\n",
    "b = 'jalaj'\n",
    "a < b "
   ]
  },
  {
   "cell_type": "code",
   "execution_count": null,
   "id": "a76fcd45",
   "metadata": {},
   "outputs": [],
   "source": [
    "Q5: Write a Python program to compare two numbers and check if the first number is greater than or equal to the second using the >= operator.\n"
   ]
  },
  {
   "cell_type": "code",
   "execution_count": 5,
   "id": "5d34e276",
   "metadata": {},
   "outputs": [
    {
     "data": {
      "text/plain": [
       "True"
      ]
     },
     "execution_count": 5,
     "metadata": {},
     "output_type": "execute_result"
    }
   ],
   "source": [
    "a = 10\n",
    "b = 10\n",
    "a >= b"
   ]
  },
  {
   "cell_type": "code",
   "execution_count": null,
   "id": "9639fe9a",
   "metadata": {},
   "outputs": [],
   "source": [
    "Q6: Create a program to compare two strings and check if the first string comes after the second one lexicographically using the >= operator.\n"
   ]
  },
  {
   "cell_type": "code",
   "execution_count": 7,
   "id": "0c6f6713",
   "metadata": {},
   "outputs": [
    {
     "data": {
      "text/plain": [
       "True"
      ]
     },
     "execution_count": 7,
     "metadata": {},
     "output_type": "execute_result"
    }
   ],
   "source": [
    "a = 'poonam'\n",
    "b = 'jalaj'\n",
    "a >= b "
   ]
  },
  {
   "cell_type": "code",
   "execution_count": null,
   "id": "1d77c1e5",
   "metadata": {},
   "outputs": [],
   "source": [
    "Q7: Write a Python program to check if two boolean values are both True using the and operator.\n"
   ]
  },
  {
   "cell_type": "code",
   "execution_count": 15,
   "id": "14f648b8",
   "metadata": {},
   "outputs": [
    {
     "name": "stdout",
     "output_type": "stream",
     "text": [
      "condition not met\n"
     ]
    }
   ],
   "source": [
    "a = 50 > 10\n",
    "b = 10 > 40\n",
    "if (a == True and b == True):\n",
    "    print('condition met')\n",
    "else:\n",
    "    print('condition not met')\n"
   ]
  },
  {
   "cell_type": "code",
   "execution_count": null,
   "id": "a61179c4",
   "metadata": {},
   "outputs": [],
   "source": [
    "Q8: Create a program to check if at least one of two boolean values is True using the or operator.\n"
   ]
  },
  {
   "cell_type": "code",
   "execution_count": 19,
   "id": "bd07edf5",
   "metadata": {},
   "outputs": [
    {
     "name": "stdout",
     "output_type": "stream",
     "text": [
      "condition met\n"
     ]
    }
   ],
   "source": [
    "a = 50 > 10\n",
    "b = 10 > 40 \n",
    "if (a == True or b == True):\n",
    "    print('condition met')"
   ]
  },
  {
   "cell_type": "code",
   "execution_count": null,
   "id": "1eceefdf",
   "metadata": {},
   "outputs": [],
   "source": [
    "Q9: Write a Python program to negate a boolean value using the not operator.\n"
   ]
  },
  {
   "cell_type": "code",
   "execution_count": 35,
   "id": "3a49da48",
   "metadata": {},
   "outputs": [
    {
     "name": "stdout",
     "output_type": "stream",
     "text": [
      "False\n"
     ]
    }
   ],
   "source": [
    "a = 10 <20\n",
    "print(not(a))"
   ]
  },
  {
   "cell_type": "code",
   "execution_count": null,
   "id": "2d88bd38",
   "metadata": {},
   "outputs": [],
   "source": [
    "Q10:Create a program to check if a given number is between 10 and 20 (inclusive) using the and, >=, and <= operators.\n"
   ]
  },
  {
   "cell_type": "code",
   "execution_count": 30,
   "id": "33bdf7fe",
   "metadata": {},
   "outputs": [
    {
     "name": "stdout",
     "output_type": "stream",
     "text": [
      "the number is between 10 and 20\n"
     ]
    }
   ],
   "source": [
    "x = 15\n",
    "if x >= 10 and x <= 20:\n",
    "    print('the number is between 10 and 20')\n",
    "else:\n",
    "    print('the number is not between 10 and 20')"
   ]
  },
  {
   "cell_type": "code",
   "execution_count": null,
   "id": "e2e99a7a",
   "metadata": {},
   "outputs": [],
   "source": [
    "Q11: Write a Python program to check if a character is a vowel using the in operator with a string of vowels.\n"
   ]
  },
  {
   "cell_type": "code",
   "execution_count": 60,
   "id": "04c2764f",
   "metadata": {},
   "outputs": [
    {
     "name": "stdout",
     "output_type": "stream",
     "text": [
      "condition met\n"
     ]
    }
   ],
   "source": [
    "x = ('a', 'e', 'i', 'o', 'u')\n",
    "if ('a' in x):\n",
    "    print('condition met')"
   ]
  },
  {
   "cell_type": "code",
   "execution_count": null,
   "id": "a2f27c4c",
   "metadata": {},
   "outputs": [],
   "source": [
    "Q12: Create a program to check if a character is not a vowel using the not in operator with a string of vowels.\n"
   ]
  },
  {
   "cell_type": "code",
   "execution_count": 27,
   "id": "ac45ec1a",
   "metadata": {},
   "outputs": [
    {
     "name": "stdout",
     "output_type": "stream",
     "text": [
      "condition met\n"
     ]
    }
   ],
   "source": [
    "x = ('a', 'e', 'i', 'o', 'u')\n",
    "wanted_character = 'r'\n",
    "if wanted_character not in x:\n",
    "    print('condition met')"
   ]
  },
  {
   "cell_type": "code",
   "execution_count": null,
   "id": "a148e1c8",
   "metadata": {},
   "outputs": [],
   "source": [
    "Q13: Write a Python program to check if a number is either a multiple of 2 or a multiple of 3 using the or and % operators.\n"
   ]
  },
  {
   "cell_type": "code",
   "execution_count": 38,
   "id": "c39cfe9d",
   "metadata": {},
   "outputs": [
    {
     "name": "stdout",
     "output_type": "stream",
     "text": [
      "condition met\n"
     ]
    }
   ],
   "source": [
    "x = 20\n",
    "if (x%2 ==0 or x%3 ==0):\n",
    "    print('condition met')\n",
    "else:\n",
    "    print('condition not met')"
   ]
  },
  {
   "cell_type": "code",
   "execution_count": null,
   "id": "cf33e3d3",
   "metadata": {},
   "outputs": [],
   "source": [
    "Q14: Create a program to check if a year is a leap year using the and, or, and % operators.\n"
   ]
  },
  {
   "cell_type": "code",
   "execution_count": 44,
   "id": "d06044ca",
   "metadata": {},
   "outputs": [
    {
     "name": "stdout",
     "output_type": "stream",
     "text": [
      "Leap Year\n"
     ]
    }
   ],
   "source": [
    "year = 2024\n",
    "if (year%400 ==0 or (year%4 ==0 and year%100 !=0)):\n",
    "    print('Leap Year')\n",
    "else:\n",
    "    print('not a leap year')"
   ]
  },
  {
   "cell_type": "code",
   "execution_count": null,
   "id": "a391e92a",
   "metadata": {},
   "outputs": [],
   "source": [
    "Q15: Write a Python program to check if a given string is either \"cat\" or \"dog\" using the or operator.\n"
   ]
  },
  {
   "cell_type": "code",
   "execution_count": 39,
   "id": "2b8bf703",
   "metadata": {},
   "outputs": [
    {
     "name": "stdout",
     "output_type": "stream",
     "text": [
      "condition met\n"
     ]
    }
   ],
   "source": [
    "x = 'cat'\n",
    "if (x == 'cat' or x == 'dog'):\n",
    "    print('condition met')\n",
    "else:\n",
    "    print('condition not met')"
   ]
  },
  {
   "cell_type": "code",
   "execution_count": null,
   "id": "a97286eb",
   "metadata": {},
   "outputs": [],
   "source": [
    "Q16: Create a program to check if a given number is not between 30 and 50 (inclusive) using the not, >=, and <= operators.\n"
   ]
  },
  {
   "cell_type": "code",
   "execution_count": 45,
   "id": "da4acfae",
   "metadata": {},
   "outputs": [
    {
     "name": "stdout",
     "output_type": "stream",
     "text": [
      "the number is not between 30 and 50\n"
     ]
    }
   ],
   "source": [
    "x = 15\n",
    "if x >= 30 and x <= 50:\n",
    "    print('the number is between 30 and 50')\n",
    "else:\n",
    "    print('the number is not between 30 and 50')"
   ]
  },
  {
   "cell_type": "code",
   "execution_count": null,
   "id": "bc88567c",
   "metadata": {},
   "outputs": [],
   "source": [
    "Q17: Write a Python program to check if a given character is not a digit using the not in operator with a string of digits.\n"
   ]
  },
  {
   "cell_type": "code",
   "execution_count": 68,
   "id": "ee3627a6",
   "metadata": {},
   "outputs": [
    {
     "name": "stdout",
     "output_type": "stream",
     "text": [
      "given number is a digit\n"
     ]
    }
   ],
   "source": [
    "x = 0,1,2,3,4,5,6,7,8,9\n",
    "wanted_character = 4\n",
    "if (wanted_character not in x):\n",
    "    print('given number is not a digit')\n",
    "else:\n",
    "    print('given number is a digit')"
   ]
  },
  {
   "cell_type": "code",
   "execution_count": null,
   "id": "a634e60a",
   "metadata": {},
   "outputs": [],
   "source": [
    "Q18: Create a program to check if a list is empty using the not And in operators.\n"
   ]
  },
  {
   "cell_type": "code",
   "execution_count": 85,
   "id": "d46cef66",
   "metadata": {},
   "outputs": [
    {
     "name": "stdout",
     "output_type": "stream",
     "text": [
      "list is not empty\n"
     ]
    }
   ],
   "source": [
    "x = [1,2,5,7,8,9]\n",
    "if (x not in([], '')):\n",
    "    print('list is not empty')\n",
    "else:\n",
    "    print('list is empty')"
   ]
  },
  {
   "cell_type": "markdown",
   "id": "43e25c0d",
   "metadata": {},
   "source": [
    "Q19: Write a Python program to check if a list contains the element 42 using the in operator.\n"
   ]
  },
  {
   "cell_type": "code",
   "execution_count": 59,
   "id": "05acf73b",
   "metadata": {},
   "outputs": [
    {
     "name": "stdout",
     "output_type": "stream",
     "text": [
      "contains 42\n"
     ]
    }
   ],
   "source": [
    "Sample_list = [2,5,4,3,6,8,42]\n",
    "if ('42 in sample_list'):\n",
    "    print('contains 42')\n",
    "else:\n",
    "    print('does not contain 42')"
   ]
  },
  {
   "cell_type": "code",
   "execution_count": null,
   "id": "0517ece3",
   "metadata": {},
   "outputs": [],
   "source": [
    "Q20: Create a program to check if a list does not contain the element \"apple\" using the not in operator.\n"
   ]
  },
  {
   "cell_type": "code",
   "execution_count": 57,
   "id": "b89f7a9d",
   "metadata": {},
   "outputs": [
    {
     "name": "stdout",
     "output_type": "stream",
     "text": [
      "List contains apple\n"
     ]
    }
   ],
   "source": [
    "List_fruits = ['apple', 'water melon', 'grapes']\n",
    "if ('apple' not in List_fruits):\n",
    "    print('List does not contains apple')\n",
    "else:\n",
    "    print('List contains apple')"
   ]
  },
  {
   "cell_type": "code",
   "execution_count": null,
   "id": "a5cabd2c",
   "metadata": {},
   "outputs": [],
   "source": [
    "Q21: Write a Python program to check if both of the variables x and y are True using the and operator.\n"
   ]
  },
  {
   "cell_type": "code",
   "execution_count": 62,
   "id": "dafe0d7e",
   "metadata": {},
   "outputs": [
    {
     "name": "stdout",
     "output_type": "stream",
     "text": [
      "both are true\n"
     ]
    }
   ],
   "source": [
    "x = 3 > 2\n",
    "y = 5 < 10\n",
    "if (x == True and y == True):\n",
    "    print('both are true')\n",
    "else:\n",
    "    print('both are false')"
   ]
  },
  {
   "cell_type": "code",
   "execution_count": null,
   "id": "571fb360",
   "metadata": {},
   "outputs": [],
   "source": [
    "Q22: Create a program to check if either of the variables a and b is True using the or operator.\n"
   ]
  },
  {
   "cell_type": "code",
   "execution_count": 64,
   "id": "5b84bfed",
   "metadata": {},
   "outputs": [
    {
     "name": "stdout",
     "output_type": "stream",
     "text": [
      "either of the two is true\n"
     ]
    }
   ],
   "source": [
    "a = 3 > 2\n",
    "b = 5 > 10\n",
    "if (a == True or b == True):\n",
    "    print('either of the two is true')\n",
    "else:\n",
    "    print('both are false')"
   ]
  },
  {
   "cell_type": "code",
   "execution_count": null,
   "id": "04d47ad3",
   "metadata": {},
   "outputs": [],
   "source": [
    "Q23: Write a Python program to check if neither of the variables p and q is True using the not and and operators.\n"
   ]
  },
  {
   "cell_type": "code",
   "execution_count": 66,
   "id": "da3e7344",
   "metadata": {},
   "outputs": [
    {
     "name": "stdout",
     "output_type": "stream",
     "text": [
      "neither of the two is true\n"
     ]
    }
   ],
   "source": [
    "p = 1 > 2\n",
    "q = 5 > 10\n",
    "if (p != True and y != True):\n",
    "    print('both are true')\n",
    "else:\n",
    "    print('neither of the two is true')"
   ]
  },
  {
   "cell_type": "code",
   "execution_count": null,
   "id": "305d9c82",
   "metadata": {},
   "outputs": [],
   "source": [
    "Q24: Create a program to check if at least one of the variables m and n is not True using the not And or operators.\n"
   ]
  },
  {
   "cell_type": "code",
   "execution_count": 79,
   "id": "ea87f065",
   "metadata": {},
   "outputs": [
    {
     "name": "stdout",
     "output_type": "stream",
     "text": [
      "atleast one is true\n"
     ]
    }
   ],
   "source": [
    "m = 3 > 6\n",
    "n = 5 > 4\n",
    "if not(m == True or n == True):\n",
    "    print('both false')\n",
    "else:\n",
    "    print('atleast one is true')"
   ]
  },
  {
   "cell_type": "code",
   "execution_count": null,
   "id": "e12370ee",
   "metadata": {},
   "outputs": [],
   "source": [
    "Q25: Write a Python program to check if the character 'z' is present in a given string using the in operator.\n"
   ]
  },
  {
   "cell_type": "code",
   "execution_count": 55,
   "id": "c1d04a84",
   "metadata": {},
   "outputs": [
    {
     "name": "stdout",
     "output_type": "stream",
     "text": [
      "z is present\n"
     ]
    }
   ],
   "source": [
    "x = 'zebra is black or white'\n",
    "if ('z' in x):\n",
    "    print('z is present')\n",
    "else:\n",
    "    print('z is not present')"
   ]
  },
  {
   "cell_type": "code",
   "execution_count": null,
   "id": "6fcc2f48",
   "metadata": {},
   "outputs": [],
   "source": [
    "Q26: Create a program to check if the character 'x' is not present in a given string using the not in operator.\n"
   ]
  },
  {
   "cell_type": "code",
   "execution_count": 56,
   "id": "4cb1bf6c",
   "metadata": {},
   "outputs": [
    {
     "name": "stdout",
     "output_type": "stream",
     "text": [
      "x is not present\n"
     ]
    }
   ],
   "source": [
    "a = 'zebra is black or white'\n",
    "if ('x' in a):\n",
    "    print('x is present')\n",
    "else:\n",
    "    print('x is not present')"
   ]
  },
  {
   "cell_type": "code",
   "execution_count": null,
   "id": "70cd7d0b",
   "metadata": {},
   "outputs": [],
   "source": [
    "Q27: Write a Python program to check if the number 7 is greater than or equal to 10 and less than or equal to 20 using the and, >=, and <= operators.\n"
   ]
  },
  {
   "cell_type": "code",
   "execution_count": 48,
   "id": "cd280263",
   "metadata": {},
   "outputs": [
    {
     "name": "stdout",
     "output_type": "stream",
     "text": [
      "the number is not between 10 and 20\n"
     ]
    }
   ],
   "source": [
    "x = 7\n",
    "if x >= 10 and x <= 20:\n",
    "    print('the number is between 10 and 20')\n",
    "else:\n",
    "    print('the number is not between 10 and 20')"
   ]
  },
  {
   "cell_type": "code",
   "execution_count": null,
   "id": "2ea7a7da",
   "metadata": {},
   "outputs": [],
   "source": [
    "Q28: Create a program to check if a given string contains either \"hello\" or \"world\" using the or operator.\n"
   ]
  },
  {
   "cell_type": "code",
   "execution_count": 47,
   "id": "1eebf7fb",
   "metadata": {},
   "outputs": [
    {
     "name": "stdout",
     "output_type": "stream",
     "text": [
      "condition met\n"
     ]
    }
   ],
   "source": [
    "x = 'hello'\n",
    "if (x == 'hello' or x == 'world'):\n",
    "    print('condition met')\n",
    "else:\n",
    "    print('condition not met')"
   ]
  },
  {
   "cell_type": "code",
   "execution_count": null,
   "id": "2f73927d",
   "metadata": {},
   "outputs": [],
   "source": [
    "Q29: Write a Python program to check if the number 25 is not between 50 and 100 (inclusive) using the not, >=, and <= operators.\n"
   ]
  },
  {
   "cell_type": "code",
   "execution_count": 46,
   "id": "013efac4",
   "metadata": {},
   "outputs": [
    {
     "name": "stdout",
     "output_type": "stream",
     "text": [
      "the number is not between 50 and 100\n"
     ]
    }
   ],
   "source": [
    "x = 25\n",
    "if x >= 50 and x <= 100:\n",
    "    print('the number is between 50 and 100')\n",
    "else:\n",
    "    print('the number is not between 50 and 100')"
   ]
  },
  {
   "cell_type": "code",
   "execution_count": null,
   "id": "ebf69fa7",
   "metadata": {},
   "outputs": [],
   "source": [
    "Q30: Create a program to check if the list fruits does not contain the element \"banana\" using the not in operator.\n"
   ]
  },
  {
   "cell_type": "code",
   "execution_count": 54,
   "id": "ed35dd19",
   "metadata": {},
   "outputs": [
    {
     "name": "stdout",
     "output_type": "stream",
     "text": [
      "List does not contains banana\n"
     ]
    }
   ],
   "source": [
    "List_fruits = ['apple', 'water melon', 'grapes']\n",
    "if ('banana' not in List_fruits):\n",
    "    print('List does not contains banana')\n",
    "else:\n",
    "    print('List contains banana')"
   ]
  },
  {
   "cell_type": "code",
   "execution_count": null,
   "id": "2faca458",
   "metadata": {},
   "outputs": [],
   "source": [
    "Q31: Write Python code to add two numbers using the addition operator."
   ]
  },
  {
   "cell_type": "code",
   "execution_count": null,
   "id": "12510248",
   "metadata": {},
   "outputs": [],
   "source": [
    "How would you subtract one variable from another using the subtraction operator in Python?"
   ]
  },
  {
   "cell_type": "code",
   "execution_count": null,
   "id": "565aebf9-137e-4c57-8773-0ec78f77e90f",
   "metadata": {},
   "outputs": [],
   "source": [
    "Calculate the remainder when 17 is divided by 5 using the modulo operator."
   ]
  },
  {
   "cell_type": "code",
   "execution_count": null,
   "id": "23354808-2d5c-44a8-b0c4-1091703f3ea2",
   "metadata": {},
   "outputs": [],
   "source": [
    "Write a Python expression to raise 2 to the power of 3 using the exponentiation operator."
   ]
  },
  {
   "cell_type": "code",
   "execution_count": null,
   "id": "6ed45050-3e78-49b6-8d7d-0de9e35659ae",
   "metadata": {},
   "outputs": [],
   "source": [
    "Concatenate two strings, \"Hello\" and \"World,\" using the string concatenation operator."
   ]
  },
  {
   "cell_type": "code",
   "execution_count": null,
   "id": "47bf7d01-a666-4491-a8ad-6215b8431724",
   "metadata": {},
   "outputs": [],
   "source": [
    "Check if two variables, x and y, are equal using the equality operator."
   ]
  },
  {
   "cell_type": "code",
   "execution_count": null,
   "id": "cdfef09e-5185-4d70-9b62-5b22a3e4607e",
   "metadata": {},
   "outputs": [],
   "source": [
    "Write a Python condition to check if a number is even using the modulus operator."
   ]
  },
  {
   "cell_type": "code",
   "execution_count": null,
   "id": "2d2a708c-a1d1-444b-9a53-2e41a8f7bdf2",
   "metadata": {},
   "outputs": [],
   "source": [
    "Calculate the area of a rectangle with a width of 5 and a height of 10 using the multiplication operator.\n",
    "\n"
   ]
  },
  {
   "cell_type": "code",
   "execution_count": null,
   "id": "f1f97b38-8f32-4ed3-9bf4-8662cfd45317",
   "metadata": {},
   "outputs": [],
   "source": [
    "Use the logical 'and' operator to check if a number is both greater than 5 and less than 10.\n",
    "\n"
   ]
  },
  {
   "cell_type": "code",
   "execution_count": null,
   "id": "499b43f2",
   "metadata": {},
   "outputs": [],
   "source": [
    "How would you use the logical 'or' operator to check if a variable is either \"red\" or \"blue\"?\n",
    "\n"
   ]
  }
 ],
 "metadata": {
  "kernelspec": {
   "display_name": "Python 3 (ipykernel)",
   "language": "python",
   "name": "python3"
  },
  "language_info": {
   "codemirror_mode": {
    "name": "ipython",
    "version": 3
   },
   "file_extension": ".py",
   "mimetype": "text/x-python",
   "name": "python",
   "nbconvert_exporter": "python",
   "pygments_lexer": "ipython3",
   "version": "3.11.5"
  }
 },
 "nbformat": 4,
 "nbformat_minor": 5
}
