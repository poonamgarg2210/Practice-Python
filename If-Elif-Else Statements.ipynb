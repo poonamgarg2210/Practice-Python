{
 "cells": [
  {
   "cell_type": "code",
   "execution_count": null,
   "id": "70d1b78e-dc1d-4356-a5cd-cbea05004c81",
   "metadata": {},
   "outputs": [],
   "source": [
    "# If - Elif - Else Statements"
   ]
  },
  {
   "cell_type": "code",
   "execution_count": 5,
   "id": "3539826d-9b5e-4878-8885-f388fbbc9ce3",
   "metadata": {
    "tags": []
   },
   "outputs": [
    {
     "name": "stdout",
     "output_type": "stream",
     "text": [
      "It worked!\n"
     ]
    }
   ],
   "source": [
    "if 25 > 10:\n",
    "    print ('It worked!')"
   ]
  },
  {
   "cell_type": "code",
   "execution_count": 7,
   "id": "5647b0b6-5023-4e57-ba5a-1aff8658a31b",
   "metadata": {
    "tags": []
   },
   "outputs": [
    {
     "name": "stdout",
     "output_type": "stream",
     "text": [
      "It did not work...\n"
     ]
    }
   ],
   "source": [
    "if 25 < 10:\n",
    "    print ('It worked!')\n",
    "else:\n",
    "    print ('It did not work...')"
   ]
  },
  {
   "cell_type": "code",
   "execution_count": 8,
   "id": "24e2f1b9-875a-4891-ad31-0e5e56ae9a1c",
   "metadata": {
    "tags": []
   },
   "outputs": [
    {
     "name": "stdout",
     "output_type": "stream",
     "text": [
      "It worked!\n"
     ]
    }
   ],
   "source": [
    "if 25 > 10:\n",
    "    print ('It worked!')\n",
    "else:\n",
    "    print ('It did not work...')"
   ]
  },
  {
   "cell_type": "code",
   "execution_count": 9,
   "id": "ea099786-1730-4129-bbf0-840952584222",
   "metadata": {
    "tags": []
   },
   "outputs": [
    {
     "name": "stdout",
     "output_type": "stream",
     "text": [
      "elif worked!\n"
     ]
    }
   ],
   "source": [
    "if 25 < 10:\n",
    "    print ('It worked!')\n",
    "elif 25 < 30:\n",
    "    print ('elif worked!')\n",
    "else:\n",
    "    print ('It did not work...')"
   ]
  },
  {
   "cell_type": "code",
   "execution_count": 11,
   "id": "d0f5b606-2b30-4217-aa84-d5ed1cdea9ad",
   "metadata": {
    "tags": []
   },
   "outputs": [
    {
     "name": "stdout",
     "output_type": "stream",
     "text": [
      "elif 3 worked!\n"
     ]
    }
   ],
   "source": [
    "if 25 < 10:\n",
    "    print ('It worked!')\n",
    "elif 25 < 20:\n",
    "    print ('elif worked!')\n",
    "elif 25 < 21:\n",
    "    print ('elif 2 worked!')\n",
    "elif 25 < 40:\n",
    "    print ('elif 3 worked!')\n",
    "elif 25 < 50:\n",
    "    print ('elif 4 worked!')    \n",
    "else:\n",
    "    print ('It did not work...')"
   ]
  },
  {
   "cell_type": "code",
   "execution_count": 12,
   "id": "83aa7b5b-7138-4c31-9e39-31322784e5f4",
   "metadata": {
    "tags": []
   },
   "outputs": [
    {
     "name": "stdout",
     "output_type": "stream",
     "text": [
      "It worked!\n"
     ]
    }
   ],
   "source": [
    "if (25 < 10) or (1<3):\n",
    "    print ('It worked!')\n",
    "elif 25 < 20:\n",
    "    print ('elif worked!')\n",
    "elif 25 < 21:\n",
    "    print ('elif 2 worked!')\n",
    "elif 25 < 40:\n",
    "    print ('elif 3 worked!')\n",
    "elif 25 < 50:\n",
    "    print ('elif 4 worked!')    \n",
    "else:\n",
    "    print ('It did not work...')"
   ]
  },
  {
   "cell_type": "code",
   "execution_count": 13,
   "id": "40f89498-9c4c-4e2f-b6d3-c4231d114f74",
   "metadata": {
    "tags": []
   },
   "outputs": [
    {
     "name": "stdout",
     "output_type": "stream",
     "text": [
      "It did not work\n"
     ]
    }
   ],
   "source": [
    "print( 'It worked') if 10>30 else print( 'It did not work')"
   ]
  },
  {
   "cell_type": "code",
   "execution_count": 1,
   "id": "badfd8c5-0059-4457-892c-9cd5e4913e75",
   "metadata": {
    "tags": []
   },
   "outputs": [
    {
     "name": "stdout",
     "output_type": "stream",
     "text": [
      "It worked!\n",
      "This nested if statement worked\n"
     ]
    }
   ],
   "source": [
    "if (25 < 10) or (1<3):\n",
    "    print ('It worked!')\n",
    "if 10>5   :\n",
    "    print ('This nested if statement worked')\n",
    "elif 25 < 20:\n",
    "    print ('elif worked!')\n",
    "elif 25 < 21:\n",
    "    print ('elif 2 worked!')\n",
    "elif 25 < 40:\n",
    "    print ('elif 3 worked!')\n",
    "elif 25 < 50:\n",
    "    print ('elif 4 worked!')    \n",
    "else:\n",
    "    print ('It did not work...')"
   ]
  },
  {
   "cell_type": "code",
   "execution_count": null,
   "id": "0ed20de9-7e35-41c0-b271-85106b0f9017",
   "metadata": {},
   "outputs": [],
   "source": []
  },
  {
   "cell_type": "code",
   "execution_count": null,
   "id": "069d5d0f-0f29-4472-ba6d-a6ebfd1d8a4b",
   "metadata": {},
   "outputs": [],
   "source": [
    "# nested if else "
   ]
  },
  {
   "cell_type": "code",
   "execution_count": 2,
   "id": "f1f7a11d-b406-4b36-a292-8bed6ef16ebe",
   "metadata": {},
   "outputs": [
    {
     "name": "stdin",
     "output_type": "stream",
     "text": [
      " 20\n"
     ]
    },
    {
     "name": "stdout",
     "output_type": "stream",
     "text": [
      "you are eligible but drive slow\n"
     ]
    }
   ],
   "source": [
    "age = int(input())\n",
    "\n",
    "if age > 18:\n",
    "    if age >= 65:\n",
    "        print(\"take rest\")\n",
    "    else:\n",
    "        print(\"you are eligible but drive slow\")\n",
    "else:\n",
    "    print(\"you are not eligible\")"
   ]
  },
  {
   "cell_type": "code",
   "execution_count": 3,
   "id": "88dddfd1-9a38-4228-b68f-dcd80085458d",
   "metadata": {},
   "outputs": [
    {
     "name": "stdin",
     "output_type": "stream",
     "text": [
      " 68\n"
     ]
    },
    {
     "name": "stdout",
     "output_type": "stream",
     "text": [
      "take rest\n"
     ]
    }
   ],
   "source": [
    "age = int(input())\n",
    "\n",
    "if age > 18:\n",
    "    if age >= 65:\n",
    "        print(\"take rest\")\n",
    "    else:\n",
    "        print(\"you are eligible but drive slow\")\n",
    "else:\n",
    "    print(\"you are not eligible\")"
   ]
  },
  {
   "cell_type": "code",
   "execution_count": 4,
   "id": "33adcb55-0501-4f9b-bdb0-ff98e48a4d3a",
   "metadata": {},
   "outputs": [
    {
     "name": "stdin",
     "output_type": "stream",
     "text": [
      " 16\n"
     ]
    },
    {
     "name": "stdout",
     "output_type": "stream",
     "text": [
      "you are not eligible\n"
     ]
    }
   ],
   "source": [
    "age = int(input())\n",
    "\n",
    "if age > 18:\n",
    "    if age >= 65:\n",
    "        print(\"take rest\")\n",
    "    else:\n",
    "        print(\"you are eligible but drive slow\")\n",
    "else:\n",
    "    print(\"you are not eligible\")"
   ]
  },
  {
   "cell_type": "code",
   "execution_count": null,
   "id": "6a4021dc-8432-4caa-bb80-63eff514258c",
   "metadata": {},
   "outputs": [],
   "source": []
  },
  {
   "cell_type": "code",
   "execution_count": null,
   "id": "ff8afd00-aab8-4e6f-be9a-5881e2183128",
   "metadata": {},
   "outputs": [],
   "source": [
    "# if-elif-else statements - we cant use use if if two times "
   ]
  },
  {
   "cell_type": "code",
   "execution_count": 5,
   "id": "05e96c6b-b8fa-42e5-9f19-96b53ac590bd",
   "metadata": {},
   "outputs": [
    {
     "name": "stdin",
     "output_type": "stream",
     "text": [
      " 5\n"
     ]
    },
    {
     "name": "stdout",
     "output_type": "stream",
     "text": [
      "Positive\n",
      "Negative\n"
     ]
    }
   ],
   "source": [
    "num = int(input())\n",
    "if num > 0:\n",
    "    print(\"Positive\")\n",
    "if num == 0:\n",
    "    print(\"Zero\")\n",
    "else:\n",
    "    print(\"Negative\")"
   ]
  },
  {
   "cell_type": "code",
   "execution_count": 6,
   "id": "464c48bb-056f-4bbd-a371-c6956232e554",
   "metadata": {},
   "outputs": [
    {
     "name": "stdin",
     "output_type": "stream",
     "text": [
      " 50\n"
     ]
    },
    {
     "name": "stdout",
     "output_type": "stream",
     "text": [
      "Positive\n"
     ]
    }
   ],
   "source": [
    "num = int(input())\n",
    "if num > 0:\n",
    "    print(\"Positive\")\n",
    "elif num == 0:\n",
    "    print(\"Zero\")\n",
    "else:\n",
    "    print(\"Negative\")\n",
    "\n"
   ]
  },
  {
   "cell_type": "code",
   "execution_count": 7,
   "id": "93a58bb6-a0af-4b59-966a-4bb1f6713ced",
   "metadata": {},
   "outputs": [
    {
     "name": "stdin",
     "output_type": "stream",
     "text": [
      " -7\n"
     ]
    },
    {
     "name": "stdout",
     "output_type": "stream",
     "text": [
      "Negative\n"
     ]
    }
   ],
   "source": [
    "num = int(input())\n",
    "if num > 0:\n",
    "    print(\"Positive\")\n",
    "elif num == 0:\n",
    "    print(\"Zero\")\n",
    "else:\n",
    "    print(\"Negative\")\n"
   ]
  },
  {
   "cell_type": "code",
   "execution_count": 8,
   "id": "e0567070-a1b1-4a19-96f3-fe76863152d3",
   "metadata": {},
   "outputs": [
    {
     "name": "stdin",
     "output_type": "stream",
     "text": [
      " 0\n"
     ]
    },
    {
     "name": "stdout",
     "output_type": "stream",
     "text": [
      "Zero\n"
     ]
    }
   ],
   "source": [
    "num = int(input())\n",
    "if num > 0:\n",
    "    print(\"Positive\")\n",
    "elif num == 0:\n",
    "    print(\"Zero\")\n",
    "else:\n",
    "    print(\"Negative\")\n"
   ]
  },
  {
   "cell_type": "code",
   "execution_count": null,
   "id": "fd4bc1d8-4a06-48ac-b9b4-bcc0f73d375e",
   "metadata": {},
   "outputs": [],
   "source": []
  },
  {
   "cell_type": "code",
   "execution_count": 5,
   "id": "6cd06ee6-e80d-46d7-bce1-8ca4b9c7cb01",
   "metadata": {},
   "outputs": [
    {
     "name": "stdin",
     "output_type": "stream",
     "text": [
      " 2019\n"
     ]
    },
    {
     "name": "stdout",
     "output_type": "stream",
     "text": [
      "0\n"
     ]
    }
   ],
   "source": [
    "A = int(input())\n",
    "is_leap_year = (A % 400 == 0) or ((A % 4 == 0) and (A % 100 != 0))\n",
    "\n",
    "if is_leap_year == True:\n",
    "    print(1)\n",
    "else:\n",
    "    print(0)"
   ]
  },
  {
   "cell_type": "code",
   "execution_count": null,
   "id": "53c2b586-dc7c-468f-847a-536f59975b11",
   "metadata": {},
   "outputs": [],
   "source": []
  },
  {
   "cell_type": "code",
   "execution_count": null,
   "id": "153e3231-6285-4ba5-b9f1-9715b5dd7808",
   "metadata": {},
   "outputs": [],
   "source": []
  },
  {
   "cell_type": "code",
   "execution_count": null,
   "id": "9cf1bc10-1bb2-4c09-b435-f061bf922071",
   "metadata": {},
   "outputs": [],
   "source": []
  },
  {
   "cell_type": "code",
   "execution_count": null,
   "id": "2f34ded5-d04c-48f2-b018-b1cf0c576618",
   "metadata": {},
   "outputs": [],
   "source": []
  },
  {
   "cell_type": "code",
   "execution_count": null,
   "id": "3d2d5d91-084d-4bfc-8957-d7ec30b39d94",
   "metadata": {},
   "outputs": [],
   "source": []
  }
 ],
 "metadata": {
  "kernelspec": {
   "display_name": "Python 3 (ipykernel)",
   "language": "python",
   "name": "python3"
  },
  "language_info": {
   "codemirror_mode": {
    "name": "ipython",
    "version": 3
   },
   "file_extension": ".py",
   "mimetype": "text/x-python",
   "name": "python",
   "nbconvert_exporter": "python",
   "pygments_lexer": "ipython3",
   "version": "3.11.5"
  }
 },
 "nbformat": 4,
 "nbformat_minor": 5
}
