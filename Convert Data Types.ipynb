{
 "cells": [
  {
   "cell_type": "code",
   "execution_count": null,
   "id": "568e4c25",
   "metadata": {},
   "outputs": [],
   "source": [
    "# convert string to an integer"
   ]
  },
  {
   "cell_type": "code",
   "execution_count": 1,
   "id": "39122bc9",
   "metadata": {},
   "outputs": [
    {
     "data": {
      "text/plain": [
       "int"
      ]
     },
     "execution_count": 1,
     "metadata": {},
     "output_type": "execute_result"
    }
   ],
   "source": [
    "num_int = 7\n",
    "num_str = '7'\n",
    "num_str_conv = int(num_str)\n",
    "type(num_str_conv)"
   ]
  },
  {
   "cell_type": "code",
   "execution_count": 8,
   "id": "1cb3fc83",
   "metadata": {},
   "outputs": [
    {
     "name": "stdout",
     "output_type": "stream",
     "text": [
      "14\n"
     ]
    }
   ],
   "source": [
    "num_sum = num_int + num_str_conv\n",
    "print(num_sum)"
   ]
  },
  {
   "cell_type": "code",
   "execution_count": 9,
   "id": "41be9e29",
   "metadata": {},
   "outputs": [
    {
     "data": {
      "text/plain": [
       "int"
      ]
     },
     "execution_count": 9,
     "metadata": {},
     "output_type": "execute_result"
    }
   ],
   "source": [
    "type(num_sum)"
   ]
  },
  {
   "cell_type": "code",
   "execution_count": null,
   "id": "166e7133",
   "metadata": {},
   "outputs": [],
   "source": [
    "# conv List to tuple"
   ]
  },
  {
   "cell_type": "code",
   "execution_count": 10,
   "id": "c0736a34",
   "metadata": {},
   "outputs": [
    {
     "data": {
      "text/plain": [
       "list"
      ]
     },
     "execution_count": 10,
     "metadata": {},
     "output_type": "execute_result"
    }
   ],
   "source": [
    "List_type = [1,2,3]\n",
    "type(List_type)"
   ]
  },
  {
   "cell_type": "code",
   "execution_count": 14,
   "id": "513fee7b",
   "metadata": {},
   "outputs": [],
   "source": [
    "tuple(List_type)"
   ]
  },
  {
   "cell_type": "code",
   "execution_count": 15,
   "id": "59170e76",
   "metadata": {},
   "outputs": [
    {
     "data": {
      "text/plain": [
       "tuple"
      ]
     },
     "execution_count": 15,
     "metadata": {},
     "output_type": "execute_result"
    }
   ],
   "source": [
    "type(tuple(List_type))"
   ]
  },
  {
   "cell_type": "code",
   "execution_count": null,
   "id": "b2ffaade",
   "metadata": {},
   "outputs": [],
   "source": [
    "# List to Set - it will give only unique values because Set have unique values "
   ]
  },
  {
   "cell_type": "code",
   "execution_count": null,
   "id": "fc4c897b",
   "metadata": {},
   "outputs": [],
   "source": [
    "List_type = [1,2,3,3,2,1,2,3,2,1]\n"
   ]
  },
  {
   "cell_type": "code",
   "execution_count": 16,
   "id": "3b8fc6d0",
   "metadata": {},
   "outputs": [
    {
     "data": {
      "text/plain": [
       "{1, 2, 3}"
      ]
     },
     "execution_count": 16,
     "metadata": {},
     "output_type": "execute_result"
    }
   ],
   "source": [
    "set(List_type)"
   ]
  },
  {
   "cell_type": "code",
   "execution_count": 17,
   "id": "cd839439",
   "metadata": {},
   "outputs": [
    {
     "data": {
      "text/plain": [
       "set"
      ]
     },
     "execution_count": 17,
     "metadata": {},
     "output_type": "execute_result"
    }
   ],
   "source": [
    "type(set(List_type))"
   ]
  },
  {
   "cell_type": "code",
   "execution_count": null,
   "id": "db7c5dc5",
   "metadata": {},
   "outputs": [],
   "source": [
    "# Dictionary to List"
   ]
  },
  {
   "cell_type": "code",
   "execution_count": 21,
   "id": "95bf3040",
   "metadata": {},
   "outputs": [
    {
     "data": {
      "text/plain": [
       "dict_items([('name', 'Alex'), ('age', 30), ('hair', 'N/A')])"
      ]
     },
     "execution_count": 21,
     "metadata": {},
     "output_type": "execute_result"
    }
   ],
   "source": [
    "dict_type = {'name': 'Alex', 'age': 30, 'hair': 'N/A'}\n",
    "dict_type.items()"
   ]
  },
  {
   "cell_type": "code",
   "execution_count": 22,
   "id": "7ebb10db",
   "metadata": {},
   "outputs": [
    {
     "data": {
      "text/plain": [
       "dict_values(['Alex', 30, 'N/A'])"
      ]
     },
     "execution_count": 22,
     "metadata": {},
     "output_type": "execute_result"
    }
   ],
   "source": [
    "dict_type.values()"
   ]
  },
  {
   "cell_type": "code",
   "execution_count": 23,
   "id": "41329948",
   "metadata": {},
   "outputs": [
    {
     "data": {
      "text/plain": [
       "dict_keys(['name', 'age', 'hair'])"
      ]
     },
     "execution_count": 23,
     "metadata": {},
     "output_type": "execute_result"
    }
   ],
   "source": [
    "dict_type.keys()"
   ]
  },
  {
   "cell_type": "code",
   "execution_count": null,
   "id": "d9c15bdb",
   "metadata": {},
   "outputs": [],
   "source": [
    "#keys to list"
   ]
  },
  {
   "cell_type": "code",
   "execution_count": 25,
   "id": "49f1c5b4",
   "metadata": {},
   "outputs": [
    {
     "data": {
      "text/plain": [
       "['name', 'age', 'hair']"
      ]
     },
     "execution_count": 25,
     "metadata": {},
     "output_type": "execute_result"
    }
   ],
   "source": [
    "list(dict_type.keys())"
   ]
  },
  {
   "cell_type": "code",
   "execution_count": 26,
   "id": "b25ad767",
   "metadata": {},
   "outputs": [
    {
     "data": {
      "text/plain": [
       "list"
      ]
     },
     "execution_count": 26,
     "metadata": {},
     "output_type": "execute_result"
    }
   ],
   "source": [
    "type(list(dict_type.keys()))"
   ]
  },
  {
   "cell_type": "code",
   "execution_count": null,
   "id": "d99c8564",
   "metadata": {},
   "outputs": [],
   "source": [
    "#values to list"
   ]
  },
  {
   "cell_type": "code",
   "execution_count": 27,
   "id": "ab2ba0c3",
   "metadata": {},
   "outputs": [
    {
     "data": {
      "text/plain": [
       "['Alex', 30, 'N/A']"
      ]
     },
     "execution_count": 27,
     "metadata": {},
     "output_type": "execute_result"
    }
   ],
   "source": [
    "list(dict_type.values())"
   ]
  },
  {
   "cell_type": "code",
   "execution_count": 28,
   "id": "dd11a2be",
   "metadata": {},
   "outputs": [
    {
     "data": {
      "text/plain": [
       "list"
      ]
     },
     "execution_count": 28,
     "metadata": {},
     "output_type": "execute_result"
    }
   ],
   "source": [
    "type(list(dict_type.values()))"
   ]
  },
  {
   "cell_type": "code",
   "execution_count": null,
   "id": "62640fd7",
   "metadata": {},
   "outputs": [],
   "source": [
    "# long strings to list"
   ]
  },
  {
   "cell_type": "code",
   "execution_count": 29,
   "id": "bb7c9fba",
   "metadata": {},
   "outputs": [
    {
     "data": {
      "text/plain": [
       "['I', ' ', 'l', 'i', 'k', 'e', ' ', 't', 'o', ' ', 'p', 'a', 'r', 't', 'y']"
      ]
     },
     "execution_count": 29,
     "metadata": {},
     "output_type": "execute_result"
    }
   ],
   "source": [
    "long_str = 'I like to party'\n",
    "list(long_str)"
   ]
  },
  {
   "cell_type": "code",
   "execution_count": 30,
   "id": "7f2c1efd",
   "metadata": {},
   "outputs": [
    {
     "data": {
      "text/plain": [
       "list"
      ]
     },
     "execution_count": 30,
     "metadata": {},
     "output_type": "execute_result"
    }
   ],
   "source": [
    "type(list(long_str))"
   ]
  },
  {
   "cell_type": "code",
   "execution_count": null,
   "id": "f86d4d61",
   "metadata": {},
   "outputs": [],
   "source": [
    "# long strings to Set"
   ]
  },
  {
   "cell_type": "code",
   "execution_count": 31,
   "id": "1845d7b8",
   "metadata": {},
   "outputs": [
    {
     "data": {
      "text/plain": [
       "{' ', 'I', 'a', 'e', 'i', 'k', 'l', 'o', 'p', 'r', 't', 'y'}"
      ]
     },
     "execution_count": 31,
     "metadata": {},
     "output_type": "execute_result"
    }
   ],
   "source": [
    "long_str = 'I like to party'\n",
    "set(long_str)"
   ]
  },
  {
   "cell_type": "code",
   "execution_count": 32,
   "id": "cf3e742d",
   "metadata": {},
   "outputs": [
    {
     "data": {
      "text/plain": [
       "set"
      ]
     },
     "execution_count": 32,
     "metadata": {},
     "output_type": "execute_result"
    }
   ],
   "source": [
    "type(set(long_str))"
   ]
  },
  {
   "cell_type": "code",
   "execution_count": null,
   "id": "affc7f20",
   "metadata": {},
   "outputs": [],
   "source": []
  },
  {
   "cell_type": "code",
   "execution_count": null,
   "id": "8a426c92-f20d-44db-8a69-3a0eed183374",
   "metadata": {},
   "outputs": [],
   "source": []
  },
  {
   "cell_type": "code",
   "execution_count": null,
   "id": "bbb2b7da-f18f-4ab9-8e0d-004e205180ea",
   "metadata": {},
   "outputs": [],
   "source": []
  },
  {
   "cell_type": "code",
   "execution_count": null,
   "id": "ddd9e199-fe33-4ac5-9bff-379c8ae4b210",
   "metadata": {},
   "outputs": [],
   "source": []
  }
 ],
 "metadata": {
  "kernelspec": {
   "display_name": "Python 3 (ipykernel)",
   "language": "python",
   "name": "python3"
  },
  "language_info": {
   "codemirror_mode": {
    "name": "ipython",
    "version": 3
   },
   "file_extension": ".py",
   "mimetype": "text/x-python",
   "name": "python",
   "nbconvert_exporter": "python",
   "pygments_lexer": "ipython3",
   "version": "3.11.5"
  }
 },
 "nbformat": 4,
 "nbformat_minor": 5
}
