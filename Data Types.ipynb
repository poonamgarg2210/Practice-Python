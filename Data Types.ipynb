{
 "cells": [
  {
   "cell_type": "code",
   "execution_count": null,
   "id": "b2068b07-dbed-4f5f-8f44-c0922c6e10ce",
   "metadata": {},
   "outputs": [],
   "source": [
    "#Data Types in Python"
   ]
  },
  {
   "cell_type": "markdown",
   "id": "3c69518c-45a9-4b00-aeb3-59082e639831",
   "metadata": {},
   "source": [
    "#Data Types in Python"
   ]
  },
  {
   "cell_type": "code",
   "execution_count": null,
   "id": "360a572d-c48a-4deb-a16f-5d124e14fed1",
   "metadata": {},
   "outputs": [],
   "source": [
    "# 1. Numeric "
   ]
  },
  {
   "cell_type": "code",
   "execution_count": null,
   "id": "33194c8f-7549-4bb9-b1ce-a44125ac1144",
   "metadata": {},
   "outputs": [],
   "source": [
    "# a. Integer"
   ]
  },
  {
   "cell_type": "code",
   "execution_count": 2,
   "id": "e7998da3-d3c0-4a5c-9a3e-d0a63c6f415d",
   "metadata": {
    "tags": []
   },
   "outputs": [
    {
     "data": {
      "text/plain": [
       "int"
      ]
     },
     "execution_count": 2,
     "metadata": {},
     "output_type": "execute_result"
    }
   ],
   "source": [
    "type (-2+100)"
   ]
  },
  {
   "cell_type": "code",
   "execution_count": null,
   "id": "fec2b2e0-7c2d-45d9-bbb1-798678a9b085",
   "metadata": {},
   "outputs": [],
   "source": [
    "# b. Float (including decimal)"
   ]
  },
  {
   "cell_type": "code",
   "execution_count": 3,
   "id": "45e0ab20-c5a7-40ef-93e6-3a1a2f688acc",
   "metadata": {
    "tags": []
   },
   "outputs": [
    {
     "data": {
      "text/plain": [
       "float"
      ]
     },
     "execution_count": 3,
     "metadata": {},
     "output_type": "execute_result"
    }
   ],
   "source": [
    "type (-2+100.5)"
   ]
  },
  {
   "cell_type": "code",
   "execution_count": null,
   "id": "85d38773-48d8-4ddf-9d68-800909915fa6",
   "metadata": {},
   "outputs": [],
   "source": [
    "# c. Complex (imaginary numbers not often used. J is the only one which works)"
   ]
  },
  {
   "cell_type": "code",
   "execution_count": 4,
   "id": "6ec16f0a-c7d9-4471-81c0-4451aba2e51d",
   "metadata": {
    "tags": []
   },
   "outputs": [
    {
     "data": {
      "text/plain": [
       "complex"
      ]
     },
     "execution_count": 4,
     "metadata": {},
     "output_type": "execute_result"
    }
   ],
   "source": [
    "type (-2+100J)"
   ]
  },
  {
   "cell_type": "code",
   "execution_count": 5,
   "id": "5a2eaffd-6a44-4e4f-8885-8593aef4fe58",
   "metadata": {
    "tags": []
   },
   "outputs": [
    {
     "ename": "SyntaxError",
     "evalue": "invalid decimal literal (2420862836.py, line 1)",
     "output_type": "error",
     "traceback": [
      "\u001b[1;36m  Cell \u001b[1;32mIn[5], line 1\u001b[1;36m\u001b[0m\n\u001b[1;33m    type (2+100C)\u001b[0m\n\u001b[1;37m              ^\u001b[0m\n\u001b[1;31mSyntaxError\u001b[0m\u001b[1;31m:\u001b[0m invalid decimal literal\n"
     ]
    }
   ],
   "source": [
    "type (2+100C)"
   ]
  },
  {
   "cell_type": "code",
   "execution_count": null,
   "id": "a2046d3c-2dd7-4075-ac2e-8a1590248ff7",
   "metadata": {},
   "outputs": [],
   "source": [
    "# 2. Boolean Values "
   ]
  },
  {
   "cell_type": "code",
   "execution_count": null,
   "id": "73814724-0c4e-453b-8cf5-eae12ca50d07",
   "metadata": {},
   "outputs": [],
   "source": [
    "# a. True b. False"
   ]
  },
  {
   "cell_type": "code",
   "execution_count": 6,
   "id": "5cf67f1d-72b0-4b0e-89f4-3e6a427b87f4",
   "metadata": {
    "tags": []
   },
   "outputs": [
    {
     "data": {
      "text/plain": [
       "bool"
      ]
     },
     "execution_count": 6,
     "metadata": {},
     "output_type": "execute_result"
    }
   ],
   "source": [
    "type(True)"
   ]
  },
  {
   "cell_type": "code",
   "execution_count": 7,
   "id": "3d7a0c91-3efe-459b-9356-cb22d33ac7d6",
   "metadata": {
    "tags": []
   },
   "outputs": [
    {
     "data": {
      "text/plain": [
       "bool"
      ]
     },
     "execution_count": 7,
     "metadata": {},
     "output_type": "execute_result"
    }
   ],
   "source": [
    "type(False)"
   ]
  },
  {
   "cell_type": "code",
   "execution_count": 8,
   "id": "7faf2033-e86c-4d63-bb5c-72f6443e0598",
   "metadata": {
    "tags": []
   },
   "outputs": [
    {
     "data": {
      "text/plain": [
       "bool"
      ]
     },
     "execution_count": 8,
     "metadata": {},
     "output_type": "execute_result"
    }
   ],
   "source": [
    "type(1>5)"
   ]
  },
  {
   "cell_type": "code",
   "execution_count": 9,
   "id": "2d45713f-8eec-4d8f-b19f-85e483608298",
   "metadata": {
    "tags": []
   },
   "outputs": [
    {
     "data": {
      "text/plain": [
       "False"
      ]
     },
     "execution_count": 9,
     "metadata": {},
     "output_type": "execute_result"
    }
   ],
   "source": [
    "1>5"
   ]
  },
  {
   "cell_type": "code",
   "execution_count": 10,
   "id": "911761af-9eab-4236-878b-892d9eae3b3d",
   "metadata": {
    "tags": []
   },
   "outputs": [
    {
     "data": {
      "text/plain": [
       "True"
      ]
     },
     "execution_count": 10,
     "metadata": {},
     "output_type": "execute_result"
    }
   ],
   "source": [
    "1 == 1"
   ]
  },
  {
   "cell_type": "code",
   "execution_count": null,
   "id": "b79464e9-da2c-42b5-8219-0553f3976bb9",
   "metadata": {},
   "outputs": [],
   "source": [
    "# 3. Sequence "
   ]
  },
  {
   "cell_type": "code",
   "execution_count": null,
   "id": "c70d51e2-bd91-4d77-ba30-9ce21ec7fb30",
   "metadata": {},
   "outputs": [],
   "source": [
    "# a. Strings (it can be in single quotes, double quotes or triple quotes )"
   ]
  },
  {
   "cell_type": "code",
   "execution_count": 11,
   "id": "25f9bc60-f09d-4c3c-86e9-41344035a8c4",
   "metadata": {
    "tags": []
   },
   "outputs": [
    {
     "data": {
      "text/plain": [
       "'single quote'"
      ]
     },
     "execution_count": 11,
     "metadata": {},
     "output_type": "execute_result"
    }
   ],
   "source": [
    "'single quote'"
   ]
  },
  {
   "cell_type": "code",
   "execution_count": 12,
   "id": "788ac548-599d-4600-a8fc-b5a931665714",
   "metadata": {
    "tags": []
   },
   "outputs": [
    {
     "data": {
      "text/plain": [
       "'double quote'"
      ]
     },
     "execution_count": 12,
     "metadata": {},
     "output_type": "execute_result"
    }
   ],
   "source": [
    "\"double quote\" "
   ]
  },
  {
   "cell_type": "code",
   "execution_count": 15,
   "id": "15849b6e-d0c6-4d56-ae2f-2cdbae6f696f",
   "metadata": {
    "tags": []
   },
   "outputs": [
    {
     "data": {
      "text/plain": [
       "'\\nThe Ice Cream vanquished \\nmy longing for sweets,\\nupon this diet I look away,\\nit no longer exists on this day.\\n\\n'"
      ]
     },
     "execution_count": 15,
     "metadata": {},
     "output_type": "execute_result"
    }
   ],
   "source": [
    "\"\"\"\n",
    "The Ice Cream vanquished \n",
    "my longing for sweets,\n",
    "upon this diet I look away,\n",
    "it no longer exists on this day.\n",
    "\n",
    "\"\"\""
   ]
  },
  {
   "cell_type": "code",
   "execution_count": 16,
   "id": "d42f6e25-529c-475a-80b8-1e9e3dce6f68",
   "metadata": {
    "tags": []
   },
   "outputs": [
    {
     "name": "stdout",
     "output_type": "stream",
     "text": [
      "\n",
      "The Ice Cream vanquished \n",
      "my longing for sweets,\n",
      "upon this diet I look away,\n",
      "it no longer exists on this day.\n",
      "\n",
      "\n"
     ]
    }
   ],
   "source": [
    "multiline = \"\"\"\n",
    "The Ice Cream vanquished \n",
    "my longing for sweets,\n",
    "upon this diet I look away,\n",
    "it no longer exists on this day.\n",
    "\n",
    "\"\"\"\n",
    "\n",
    "print(multiline)"
   ]
  },
  {
   "cell_type": "code",
   "execution_count": null,
   "id": "7dae0fb1-23fc-49d7-9850-adc13c3090df",
   "metadata": {},
   "outputs": [],
   "source": []
  },
  {
   "cell_type": "code",
   "execution_count": 17,
   "id": "b4f1e36c-a522-4dfe-bac0-469dd52ff022",
   "metadata": {
    "tags": []
   },
   "outputs": [
    {
     "name": "stdout",
     "output_type": "stream",
     "text": [
      "Hello World\n"
     ]
    }
   ],
   "source": [
    "a = 'Hello World'\n",
    "\n",
    "print(a)"
   ]
  },
  {
   "cell_type": "code",
   "execution_count": 18,
   "id": "4ac726f2-1fbc-42f7-90fa-910b2b3bd241",
   "metadata": {
    "tags": []
   },
   "outputs": [
    {
     "name": "stdout",
     "output_type": "stream",
     "text": [
      "Hello\n"
     ]
    }
   ],
   "source": [
    "a = 'Hello World'\n",
    "\n",
    "print(a[:5])"
   ]
  },
  {
   "cell_type": "code",
   "execution_count": 19,
   "id": "b8d7be9a-4872-4f0b-a750-e331df082c03",
   "metadata": {
    "tags": []
   },
   "outputs": [
    {
     "name": "stdout",
     "output_type": "stream",
     "text": [
      " \n"
     ]
    }
   ],
   "source": [
    "a = 'Hello World'\n",
    "\n",
    "print(a[5])"
   ]
  },
  {
   "cell_type": "code",
   "execution_count": 20,
   "id": "c7001367-fba0-4bb9-af7b-d85d379a9cd7",
   "metadata": {
    "tags": []
   },
   "outputs": [
    {
     "name": "stdout",
     "output_type": "stream",
     "text": [
      "W\n"
     ]
    }
   ],
   "source": [
    "a = 'Hello World'\n",
    "\n",
    "print(a[6])"
   ]
  },
  {
   "cell_type": "code",
   "execution_count": 22,
   "id": "6fbc577e-11b7-4fdb-86ef-2d0c6816a492",
   "metadata": {
    "tags": []
   },
   "outputs": [
    {
     "name": "stdout",
     "output_type": "stream",
     "text": [
      "r\n"
     ]
    }
   ],
   "source": [
    "a = 'Hello World'\n",
    "\n",
    "print(a[-3])"
   ]
  },
  {
   "cell_type": "code",
   "execution_count": 24,
   "id": "d7569986-381f-4a93-bff6-b0dfbd9803ee",
   "metadata": {
    "tags": []
   },
   "outputs": [
    {
     "name": "stdout",
     "output_type": "stream",
     "text": [
      "llo W\n"
     ]
    }
   ],
   "source": [
    "a = 'Hello World'\n",
    "\n",
    "print(a[2:7])"
   ]
  },
  {
   "cell_type": "code",
   "execution_count": 25,
   "id": "c8549a1d-6921-4eae-8e90-cf94a8bf58b4",
   "metadata": {
    "tags": []
   },
   "outputs": [
    {
     "data": {
      "text/plain": [
       "'Hello WorldHello WorldHello World'"
      ]
     },
     "execution_count": 25,
     "metadata": {},
     "output_type": "execute_result"
    }
   ],
   "source": [
    "a*3"
   ]
  },
  {
   "cell_type": "code",
   "execution_count": 26,
   "id": "619be20a-9147-48ae-ab86-9384e5af2d7e",
   "metadata": {
    "tags": []
   },
   "outputs": [
    {
     "data": {
      "text/plain": [
       "'Hello WorldHello World'"
      ]
     },
     "execution_count": 26,
     "metadata": {},
     "output_type": "execute_result"
    }
   ],
   "source": [
    "a + a"
   ]
  },
  {
   "cell_type": "code",
   "execution_count": null,
   "id": "9b4700db-d706-4b64-a38c-17ba601accc2",
   "metadata": {},
   "outputs": [],
   "source": [
    "# Return the string without any whitespece at the beginning or the end "
   ]
  },
  {
   "cell_type": "code",
   "execution_count": 2,
   "id": "1ba8d93e-8cf7-41a3-9e21-0205d8b9f2bb",
   "metadata": {},
   "outputs": [
    {
     "name": "stdout",
     "output_type": "stream",
     "text": [
      "Hello World\n"
     ]
    }
   ],
   "source": [
    "a = \"Hello World\"\n",
    "print(a.strip())"
   ]
  },
  {
   "cell_type": "code",
   "execution_count": null,
   "id": "9afe8cc5-4a59-4c14-a7dc-f501105d8b89",
   "metadata": {},
   "outputs": [],
   "source": []
  },
  {
   "cell_type": "code",
   "execution_count": null,
   "id": "b8bdc719-219d-4aff-bf18-bcfc4a7af5b3",
   "metadata": {},
   "outputs": [],
   "source": [
    "# b. Lists  \n",
    "They can store multiple separate values \n",
    "You can put any type of data type in list not just string or number \n",
    "we can change the data i.e. add or remove the data from the list after we have created it\n",
    "[] - Means this is going to be a list \n",
    "() and {} - it can be any other data type"
   ]
  },
  {
   "cell_type": "code",
   "execution_count": 27,
   "id": "9d53ecf0-8ac7-421a-ac12-ce95dbc04368",
   "metadata": {
    "tags": []
   },
   "outputs": [
    {
     "data": {
      "text/plain": [
       "[1, 2, 3]"
      ]
     },
     "execution_count": 27,
     "metadata": {},
     "output_type": "execute_result"
    }
   ],
   "source": [
    "[1,2,3]"
   ]
  },
  {
   "cell_type": "code",
   "execution_count": 28,
   "id": "f43ba588-712a-4f75-a29f-f0ce1225d89c",
   "metadata": {
    "tags": []
   },
   "outputs": [
    {
     "data": {
      "text/plain": [
       "['cookie Dough', 'Straberry', 'Chocolate']"
      ]
     },
     "execution_count": 28,
     "metadata": {},
     "output_type": "execute_result"
    }
   ],
   "source": [
    "['cookie Dough', 'Straberry', 'Chocolate']  "
   ]
  },
  {
   "cell_type": "code",
   "execution_count": null,
   "id": "da18152e-d03e-44d4-8dde-57b90d03ad43",
   "metadata": {},
   "outputs": [],
   "source": [
    "# Creating list with different data types "
   ]
  },
  {
   "cell_type": "code",
   "execution_count": 29,
   "id": "8c5cd079-5440-463f-b9b4-4e23fb1435e6",
   "metadata": {
    "tags": []
   },
   "outputs": [
    {
     "data": {
      "text/plain": [
       "['Vanila', 3, ['Scoops', 'Spoon'], True]"
      ]
     },
     "execution_count": 29,
     "metadata": {},
     "output_type": "execute_result"
    }
   ],
   "source": [
    "['Vanila', 3, ['Scoops', 'Spoon'], True]"
   ]
  },
  {
   "cell_type": "code",
   "execution_count": null,
   "id": "1c4a4257-ca37-4702-b063-26e6cc2c072c",
   "metadata": {},
   "outputs": [],
   "source": [
    "# Changeble "
   ]
  },
  {
   "cell_type": "code",
   "execution_count": 31,
   "id": "a0b62878-c748-4fb7-85de-6ee46a1306fe",
   "metadata": {
    "tags": []
   },
   "outputs": [
    {
     "data": {
      "text/plain": [
       "['cookie Dough', 'Straberry', 'Chocolate', 'salted_caramel']"
      ]
     },
     "execution_count": 31,
     "metadata": {},
     "output_type": "execute_result"
    }
   ],
   "source": [
    "Ice_Cream = ['cookie Dough', 'Straberry', 'Chocolate']  \n",
    "\n",
    "Ice_Cream.append('salted_caramel')\n",
    "Ice_Cream"
   ]
  },
  {
   "cell_type": "code",
   "execution_count": null,
   "id": "62cbf571-bd4d-4687-bebc-89e7bf6038d2",
   "metadata": {},
   "outputs": [],
   "source": [
    "# Can replace by indexing "
   ]
  },
  {
   "cell_type": "code",
   "execution_count": 33,
   "id": "eb0780a8-e35a-4ff1-b87f-f66219a82685",
   "metadata": {
    "tags": []
   },
   "outputs": [
    {
     "data": {
      "text/plain": [
       "['Butter_pecan', 'Straberry', 'Chocolate', 'salted_caramel']"
      ]
     },
     "execution_count": 33,
     "metadata": {},
     "output_type": "execute_result"
    }
   ],
   "source": [
    "Ice_Cream [0] = 'Butter_pecan'\n",
    "\n",
    "Ice_Cream"
   ]
  },
  {
   "cell_type": "code",
   "execution_count": 35,
   "id": "0c387e06-87ce-4322-a3c3-c7814402d6b3",
   "metadata": {
    "tags": []
   },
   "outputs": [
    {
     "data": {
      "text/plain": [
       "3"
      ]
     },
     "execution_count": 35,
     "metadata": {},
     "output_type": "execute_result"
    }
   ],
   "source": [
    "nest_list = ['Vanila', 3, ['Scoops', 'Spoon'], True]\n",
    "\n",
    "nest_list[1]"
   ]
  },
  {
   "cell_type": "code",
   "execution_count": 36,
   "id": "45d17de0-e753-455f-8851-c6176f183046",
   "metadata": {
    "tags": []
   },
   "outputs": [
    {
     "data": {
      "text/plain": [
       "True"
      ]
     },
     "execution_count": 36,
     "metadata": {},
     "output_type": "execute_result"
    }
   ],
   "source": [
    "nest_list = ['Vanila', 3, ['Scoops', 'Spoon'], True]\n",
    "\n",
    "nest_list[3]"
   ]
  },
  {
   "cell_type": "code",
   "execution_count": 37,
   "id": "fa13ed25-7bd6-430e-99b1-70d7b9c4d810",
   "metadata": {
    "tags": []
   },
   "outputs": [
    {
     "data": {
      "text/plain": [
       "['Scoops', 'Spoon']"
      ]
     },
     "execution_count": 37,
     "metadata": {},
     "output_type": "execute_result"
    }
   ],
   "source": [
    "nest_list = ['Vanila', 3, ['Scoops', 'Spoon'], True]\n",
    "\n",
    "nest_list[2]"
   ]
  },
  {
   "cell_type": "code",
   "execution_count": 38,
   "id": "56e7b584-38c7-4994-8975-58a0c877c674",
   "metadata": {
    "tags": []
   },
   "outputs": [
    {
     "data": {
      "text/plain": [
       "'Spoon'"
      ]
     },
     "execution_count": 38,
     "metadata": {},
     "output_type": "execute_result"
    }
   ],
   "source": [
    "nest_list = ['Vanila', 3, ['Scoops', 'Spoon'], True]\n",
    "\n",
    "nest_list[2][1]"
   ]
  },
  {
   "cell_type": "code",
   "execution_count": null,
   "id": "7e90e3fc-6f24-47e3-9f91-94ca126a6f62",
   "metadata": {},
   "outputs": [],
   "source": [
    "# c. Tuples similar to list but \n",
    "-this is immutable that means it cant be modified or changes \n",
    "-it is used when data type is never going to change like city name,country name, location\n",
    "-can be indexed "
   ]
  },
  {
   "cell_type": "code",
   "execution_count": 39,
   "id": "ad8533cc-cc15-4cba-acc4-38a2c485158a",
   "metadata": {
    "tags": []
   },
   "outputs": [
    {
     "data": {
      "text/plain": [
       "tuple"
      ]
     },
     "execution_count": 39,
     "metadata": {},
     "output_type": "execute_result"
    }
   ],
   "source": [
    "tuple_scoop = (1,2,3,2,1)\n",
    "\n",
    "tuple_scoop\n",
    "\n",
    "type(tuple_scoop)"
   ]
  },
  {
   "cell_type": "code",
   "execution_count": 40,
   "id": "8017ea5c-515a-4f4a-8af4-c0e1c6fb91c2",
   "metadata": {
    "tags": []
   },
   "outputs": [
    {
     "ename": "AttributeError",
     "evalue": "'tuple' object has no attribute 'append'",
     "output_type": "error",
     "traceback": [
      "\u001b[1;31m---------------------------------------------------------------------------\u001b[0m",
      "\u001b[1;31mAttributeError\u001b[0m                            Traceback (most recent call last)",
      "Cell \u001b[1;32mIn[40], line 1\u001b[0m\n\u001b[1;32m----> 1\u001b[0m tuple_scoop\u001b[38;5;241m.\u001b[39mappend(\u001b[38;5;241m3\u001b[39m)\n",
      "\u001b[1;31mAttributeError\u001b[0m: 'tuple' object has no attribute 'append'"
     ]
    }
   ],
   "source": [
    "tuple_scoop.append(3)"
   ]
  },
  {
   "cell_type": "code",
   "execution_count": null,
   "id": "64a11c1e-064b-4f52-909d-bb1eba6fea1a",
   "metadata": {},
   "outputs": [],
   "source": [
    "# 4. Sets\n",
    "similar to a list in a tuple but they dont have any duplicate element \n",
    "values can not be accessed using index, it does not have index because, its actually unordered  "
   ]
  },
  {
   "cell_type": "code",
   "execution_count": 41,
   "id": "1278c10e-8def-477d-bc49-a877c5f72540",
   "metadata": {
    "tags": []
   },
   "outputs": [
    {
     "data": {
      "text/plain": [
       "set"
      ]
     },
     "execution_count": 41,
     "metadata": {},
     "output_type": "execute_result"
    }
   ],
   "source": [
    "daily_pints = {1,2,3}\n",
    "\n",
    "type(daily_pints)\n"
   ]
  },
  {
   "cell_type": "code",
   "execution_count": 42,
   "id": "0f6618ef-bdc6-4521-a99d-b2429476f6bd",
   "metadata": {
    "tags": []
   },
   "outputs": [
    {
     "name": "stdout",
     "output_type": "stream",
     "text": [
      "{1, 2, 3}\n"
     ]
    }
   ],
   "source": [
    "print(daily_pints)"
   ]
  },
  {
   "cell_type": "code",
   "execution_count": 44,
   "id": "46de96b1-35bc-4258-830a-3be9c5030406",
   "metadata": {
    "tags": []
   },
   "outputs": [
    {
     "name": "stdout",
     "output_type": "stream",
     "text": [
      "{1, 2, 3, 4, 5, 6, 7, 8, 31}\n"
     ]
    }
   ],
   "source": [
    "daily_pints_log = {1,2,3,4,5,6,7,8,3,31,2,5,6}\n",
    "print(daily_pints_log)\n"
   ]
  },
  {
   "cell_type": "code",
   "execution_count": null,
   "id": "51d8757f-ab55-47b8-84d9-453b60942079",
   "metadata": {},
   "outputs": [],
   "source": [
    "wifes_daily_pints_log = {1,3,5,7,3,24,5,7,3,2,0}"
   ]
  },
  {
   "cell_type": "code",
   "execution_count": 46,
   "id": "923547b9-465f-46e0-a71b-bf35aad2f7cb",
   "metadata": {
    "tags": []
   },
   "outputs": [
    {
     "name": "stdout",
     "output_type": "stream",
     "text": [
      "{0, 1, 2, 3, 4, 5, 6, 7, 8, 24, 31}\n"
     ]
    }
   ],
   "source": [
    "daily_pints_log = {1,2,3,4,5,6,7,8,3,31,2,5,6}\n",
    "wifes_daily_pints_log = {1,3,5,7,3,24,5,7,3,2,0}\n",
    "\n",
    "print(daily_pints_log | wifes_daily_pints_log)"
   ]
  },
  {
   "cell_type": "code",
   "execution_count": 47,
   "id": "af9e3e85-9790-4ff1-a205-67446048ad4a",
   "metadata": {
    "tags": []
   },
   "outputs": [
    {
     "name": "stdout",
     "output_type": "stream",
     "text": [
      "{1, 2, 3, 5, 7}\n"
     ]
    }
   ],
   "source": [
    "daily_pints_log = {1,2,3,4,5,6,7,8,3,31,2,5,6}\n",
    "wifes_daily_pints_log = {1,3,5,7,3,24,5,7,3,2,0}\n",
    "\n",
    "print(daily_pints_log & wifes_daily_pints_log)"
   ]
  },
  {
   "cell_type": "code",
   "execution_count": 48,
   "id": "7e329376-e8ee-4db6-8cbf-a78a9d60d1b8",
   "metadata": {
    "tags": []
   },
   "outputs": [
    {
     "name": "stdout",
     "output_type": "stream",
     "text": [
      "{8, 4, 6, 31}\n"
     ]
    }
   ],
   "source": [
    "daily_pints_log = {1,2,3,4,5,6,7,8,3,31,2,5,6}\n",
    "wifes_daily_pints_log = {1,3,5,7,3,24,5,7,3,2,0}\n",
    "\n",
    "print(daily_pints_log - wifes_daily_pints_log)"
   ]
  },
  {
   "cell_type": "code",
   "execution_count": 49,
   "id": "df0a02c7-79ca-4899-9ef3-6c1163d1c1f4",
   "metadata": {
    "tags": []
   },
   "outputs": [
    {
     "name": "stdout",
     "output_type": "stream",
     "text": [
      "{0, 24}\n"
     ]
    }
   ],
   "source": [
    "daily_pints_log = {1,2,3,4,5,6,7,8,3,31,2,5,6}\n",
    "wifes_daily_pints_log = {1,3,5,7,3,24,5,7,3,2,0}\n",
    "\n",
    "print(wifes_daily_pints_log - daily_pints_log)"
   ]
  },
  {
   "cell_type": "code",
   "execution_count": 50,
   "id": "008fb692-c4f5-40d8-b7c3-a324df0a772b",
   "metadata": {
    "tags": []
   },
   "outputs": [
    {
     "name": "stdout",
     "output_type": "stream",
     "text": [
      "{0, 4, 6, 8, 24, 31}\n"
     ]
    }
   ],
   "source": [
    "daily_pints_log = {1,2,3,4,5,6,7,8,3,31,2,5,6}\n",
    "wifes_daily_pints_log = {1,3,5,7,3,24,5,7,3,2,0}\n",
    "\n",
    "print(daily_pints_log ^ wifes_daily_pints_log)"
   ]
  },
  {
   "cell_type": "code",
   "execution_count": null,
   "id": "59f1b166-aaa3-4b0f-af71-783bbac34853",
   "metadata": {},
   "outputs": [],
   "source": [
    "# 5. Dictionaries\n",
    "# key/Value pair"
   ]
  },
  {
   "cell_type": "code",
   "execution_count": 53,
   "id": "5d1ab22b-06e3-487a-8c9d-4b8063ee1b0c",
   "metadata": {
    "tags": []
   },
   "outputs": [
    {
     "data": {
      "text/plain": [
       "dict"
      ]
     },
     "execution_count": 53,
     "metadata": {},
     "output_type": "execute_result"
    }
   ],
   "source": [
    "dict_cream = {'name' : 'Alex Freberg', 'Weekly intake' : 3, 'favourite ice creams': ['mcc', 'chocolate']}\n",
    "\n",
    "type(dict_cream)"
   ]
  },
  {
   "cell_type": "code",
   "execution_count": 55,
   "id": "a9431af5-593e-4c6d-8d2e-e5e073355ddc",
   "metadata": {
    "tags": []
   },
   "outputs": [
    {
     "name": "stdout",
     "output_type": "stream",
     "text": [
      "{'name': 'Alex Freberg', 'Weekly intake': 3, 'favourite ice creams': ['mcc', 'chocolate']}\n"
     ]
    }
   ],
   "source": [
    "dict_cream = {'name' : 'Alex Freberg', 'Weekly intake' : 3, 'favourite ice creams': ['mcc', 'chocolate']}\n",
    "print(dict_cream)"
   ]
  },
  {
   "cell_type": "code",
   "execution_count": 57,
   "id": "b94bc80e-4d54-4cf9-89e5-cf2281e0172b",
   "metadata": {
    "tags": []
   },
   "outputs": [
    {
     "data": {
      "text/plain": [
       "dict_values(['Alex Freberg', 3, ['mcc', 'chocolate']])"
      ]
     },
     "execution_count": 57,
     "metadata": {},
     "output_type": "execute_result"
    }
   ],
   "source": [
    "dict_cream = {'name' : 'Alex Freberg', 'Weekly intake' : 3, 'favourite ice creams': ['mcc', 'chocolate']}\n",
    "dict_cream.values()"
   ]
  },
  {
   "cell_type": "code",
   "execution_count": 58,
   "id": "ddbfd02f-cd52-4027-8935-2a8dd50e3846",
   "metadata": {
    "tags": []
   },
   "outputs": [
    {
     "data": {
      "text/plain": [
       "dict_keys(['name', 'Weekly intake', 'favourite ice creams'])"
      ]
     },
     "execution_count": 58,
     "metadata": {},
     "output_type": "execute_result"
    }
   ],
   "source": [
    "dict_cream = {'name' : 'Alex Freberg', 'Weekly intake' : 3, 'favourite ice creams': ['mcc', 'chocolate']}\n",
    "dict_cream.keys()"
   ]
  },
  {
   "cell_type": "code",
   "execution_count": 59,
   "id": "90917fc8-d623-4ebe-a193-0bba29a96c72",
   "metadata": {
    "tags": []
   },
   "outputs": [
    {
     "data": {
      "text/plain": [
       "dict_items([('name', 'Alex Freberg'), ('Weekly intake', 3), ('favourite ice creams', ['mcc', 'chocolate'])])"
      ]
     },
     "execution_count": 59,
     "metadata": {},
     "output_type": "execute_result"
    }
   ],
   "source": [
    "dict_cream = {'name' : 'Alex Freberg', 'Weekly intake' : 3, 'favourite ice creams': ['mcc', 'chocolate']}\n",
    "dict_cream.items()"
   ]
  },
  {
   "cell_type": "code",
   "execution_count": 60,
   "id": "7c449cd1-3b30-493d-bdc2-361dd8d1e9c4",
   "metadata": {
    "tags": []
   },
   "outputs": [
    {
     "data": {
      "text/plain": [
       "'Alex Freberg'"
      ]
     },
     "execution_count": 60,
     "metadata": {},
     "output_type": "execute_result"
    }
   ],
   "source": [
    "dict_cream['name']"
   ]
  },
  {
   "cell_type": "code",
   "execution_count": 61,
   "id": "09a56eb3-e97f-4fce-a2a6-3831ba597b22",
   "metadata": {
    "tags": []
   },
   "outputs": [
    {
     "name": "stdout",
     "output_type": "stream",
     "text": [
      "{'name': 'Christine Freberg', 'Weekly intake': 3, 'favourite ice creams': ['mcc', 'chocolate']}\n"
     ]
    }
   ],
   "source": [
    "dict_cream['name'] = 'Christine Freberg'\n",
    "print(dict_cream)"
   ]
  },
  {
   "cell_type": "code",
   "execution_count": 63,
   "id": "f07fccfe-71f0-4782-b4f5-a253965d050d",
   "metadata": {
    "tags": []
   },
   "outputs": [
    {
     "name": "stdout",
     "output_type": "stream",
     "text": [
      "{'name': 'Christine Freberg', 'Weekly intake': 3, 'favourite ice creams': ['mcc', 'chocolate'], 'weight': 300}\n"
     ]
    }
   ],
   "source": [
    "dict_cream.update ({'name': 'Christine Freberg', 'Weekly intake': 3, 'weight': 300})\n",
    "print(dict_cream)\n"
   ]
  },
  {
   "cell_type": "code",
   "execution_count": 66,
   "id": "761369b0-9843-450c-b87f-3a3cc2ff04fe",
   "metadata": {
    "tags": []
   },
   "outputs": [
    {
     "name": "stdout",
     "output_type": "stream",
     "text": [
      "{'name': 'Christine Freberg', 'Weekly intake': 10, 'favourite ice creams': ['mcc', 'chocolate'], 'weight': 300}\n"
     ]
    }
   ],
   "source": [
    "dict_cream.update ({'name': 'Christine Freberg', 'Weekly intake': 10, 'weight': 300})\n",
    "print(dict_cream)\n",
    "\n"
   ]
  },
  {
   "cell_type": "code",
   "execution_count": 67,
   "id": "0759411d-3b22-436d-affe-b48cd391f77d",
   "metadata": {
    "tags": []
   },
   "outputs": [
    {
     "name": "stdout",
     "output_type": "stream",
     "text": [
      "{'name': 'Christine Freberg', 'Weekly intake': 10, 'favourite ice creams': ['mcc', 'chocolate']}\n"
     ]
    }
   ],
   "source": [
    "del dict_cream['weight']\n",
    "print(dict_cream)"
   ]
  },
  {
   "cell_type": "code",
   "execution_count": 2,
   "id": "5d531625-872f-4260-9c43-64f98a5abf10",
   "metadata": {},
   "outputs": [
    {
     "name": "stdout",
     "output_type": "stream",
     "text": [
      "poonam Garg\n"
     ]
    }
   ],
   "source": [
    "A = \"poonam\"\n",
    "B = \"Garg\"\n",
    "print(A,B)"
   ]
  },
  {
   "cell_type": "code",
   "execution_count": null,
   "id": "abc8252e-a3dc-45a5-9129-77dd55c882f8",
   "metadata": {},
   "outputs": [],
   "source": []
  }
 ],
 "metadata": {
  "kernelspec": {
   "display_name": "Python 3 (ipykernel)",
   "language": "python",
   "name": "python3"
  },
  "language_info": {
   "codemirror_mode": {
    "name": "ipython",
    "version": 3
   },
   "file_extension": ".py",
   "mimetype": "text/x-python",
   "name": "python",
   "nbconvert_exporter": "python",
   "pygments_lexer": "ipython3",
   "version": "3.11.5"
  }
 },
 "nbformat": 4,
 "nbformat_minor": 5
}
