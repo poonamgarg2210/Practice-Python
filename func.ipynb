{
 "cells": [
  {
   "cell_type": "code",
   "execution_count": null,
   "id": "a603a4bb-735e-4903-9711-4c683772f6c6",
   "metadata": {},
   "outputs": [],
   "source": [
    "# input function"
   ]
  },
  {
   "cell_type": "code",
   "execution_count": 9,
   "id": "89a5a0c0-547c-44fc-b631-02277d4895d9",
   "metadata": {},
   "outputs": [
    {
     "name": "stdin",
     "output_type": "stream",
     "text": [
      "What is your name? :  Poonam\n"
     ]
    }
   ],
   "source": [
    "name = input(\"What is your name? : \")"
   ]
  },
  {
   "cell_type": "code",
   "execution_count": 2,
   "id": "09585526-51f4-4d74-bb4e-99609a53c64a",
   "metadata": {},
   "outputs": [
    {
     "name": "stdout",
     "output_type": "stream",
     "text": [
      "Poonam\n"
     ]
    }
   ],
   "source": [
    "print (name)"
   ]
  },
  {
   "cell_type": "code",
   "execution_count": 8,
   "id": "b5f6d1da-90b9-457c-a227-6aea3cdd1341",
   "metadata": {},
   "outputs": [
    {
     "name": "stdout",
     "output_type": "stream",
     "text": [
      "Hello Poonam\n"
     ]
    }
   ],
   "source": [
    "print (\"Hello \" + name)  #Adding(Concatenation) two strings with +"
   ]
  },
  {
   "cell_type": "code",
   "execution_count": null,
   "id": "01e458a6-31a3-46ca-85ee-2fed69814170",
   "metadata": {},
   "outputs": [],
   "source": []
  }
 ],
 "metadata": {
  "kernelspec": {
   "display_name": "Python 3 (ipykernel)",
   "language": "python",
   "name": "python3"
  },
  "language_info": {
   "codemirror_mode": {
    "name": "ipython",
    "version": 3
   },
   "file_extension": ".py",
   "mimetype": "text/x-python",
   "name": "python",
   "nbconvert_exporter": "python",
   "pygments_lexer": "ipython3",
   "version": "3.11.5"
  }
 },
 "nbformat": 4,
 "nbformat_minor": 5
}
