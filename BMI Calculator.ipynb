{
 "cells": [
  {
   "cell_type": "code",
   "execution_count": null,
   "id": "6992ac37",
   "metadata": {},
   "outputs": [],
   "source": [
    "#BMI = (weight in pounds x 703) / (height in inches x height in inches)"
   ]
  },
  {
   "cell_type": "code",
   "execution_count": null,
   "id": "2877ef29",
   "metadata": {},
   "outputs": [],
   "source": [
    "we need to convert weight and height(strings) into int to calculate"
   ]
  },
  {
   "cell_type": "code",
   "execution_count": 4,
   "id": "b73480ad",
   "metadata": {},
   "outputs": [
    {
     "name": "stdout",
     "output_type": "stream",
     "text": [
      "Enter your weight in pounds: 170\n",
      "Enter your height in inches: 69\n"
     ]
    }
   ],
   "source": [
    "weight = input(\"Enter your weight in pounds: \")\n",
    "height = input(\"Enter your height in inches: \")\n",
    "\n"
   ]
  },
  {
   "cell_type": "code",
   "execution_count": 6,
   "id": "4191422d",
   "metadata": {},
   "outputs": [
    {
     "name": "stdout",
     "output_type": "stream",
     "text": [
      "Enter your weight in pounds: 170\n",
      "Enter your height in inches: 69\n",
      "25.101869355177485\n"
     ]
    }
   ],
   "source": [
    "weight = int(input(\"Enter your weight in pounds: \"))\n",
    "height = int(input(\"Enter your height in inches: \"))\n",
    "\n",
    "BMI = (weight * 703) / (height * height)\n",
    "print(BMI)\n",
    "\n"
   ]
  },
  {
   "cell_type": "code",
   "execution_count": null,
   "id": "d1bd48c6",
   "metadata": {},
   "outputs": [],
   "source": [
    "under 18.5 - Underweight - Minimal\n",
    "18.5-24.9  - Normalweight - Minimal\n",
    "25-29.9 - Overweight - Increased\n",
    "30-34.9 - Obese - High\n",
    "35-39.9 - Severely Obese - Very High\n",
    "40 and over - Morbidely Obese - Extremely High"
   ]
  },
  {
   "cell_type": "code",
   "execution_count": 9,
   "id": "4e915bea",
   "metadata": {},
   "outputs": [
    {
     "name": "stdout",
     "output_type": "stream",
     "text": [
      "Enter valid inputs\n"
     ]
    }
   ],
   "source": [
    "if BMI>0:\n",
    "    if(BMI<18.5):\n",
    "        print(\"You are Underweight.\")\n",
    "    else:\n",
    "        print(\"Enter valid inputs\")"
   ]
  },
  {
   "cell_type": "code",
   "execution_count": 10,
   "id": "59cea760",
   "metadata": {},
   "outputs": [
    {
     "name": "stdout",
     "output_type": "stream",
     "text": [
      "You are Overweight.\n"
     ]
    }
   ],
   "source": [
    "if (BMI>0):\n",
    "    if(BMI<18.5):\n",
    "        print(\"You are Underweight.\")\n",
    "    elif(BMI<=24.9):\n",
    "        print(\"You are Normalweight.\")\n",
    "    elif(BMI<=29.9):\n",
    "        print(\"You are Overweight.\")\n",
    "    elif(BMI<=34.9):\n",
    "        print(\"You are Obese.\")\n",
    "    elif(BMI<=39.9):\n",
    "        print(\"You are Severely Obese.\")\n",
    "    else:\n",
    "        print(\"Enter valid inputs\")"
   ]
  },
  {
   "cell_type": "code",
   "execution_count": 11,
   "id": "bba916ed",
   "metadata": {},
   "outputs": [
    {
     "name": "stdout",
     "output_type": "stream",
     "text": [
      "Enter your name: Alex\n",
      "Enter your weight in pounds: 170\n",
      "Enter your height in inches: 69\n",
      "25.101869355177485\n"
     ]
    }
   ],
   "source": [
    "name = input(\"Enter your name: \")\n",
    "weight = int(input(\"Enter your weight in pounds: \"))\n",
    "height = int(input(\"Enter your height in inches: \"))\n",
    "\n",
    "BMI = (weight * 703) / (height * height)\n",
    "print(BMI)\n"
   ]
  },
  {
   "cell_type": "code",
   "execution_count": 14,
   "id": "0169e31b",
   "metadata": {},
   "outputs": [
    {
     "name": "stdout",
     "output_type": "stream",
     "text": [
      "Alex, You are Overweight.\n"
     ]
    }
   ],
   "source": [
    "if (BMI>0):\n",
    "    if(BMI<18.5):\n",
    "        print(name +\", You are Underweight.\")\n",
    "    elif(BMI<=24.9):\n",
    "        print(name +\", You are Normal weight.\")\n",
    "    elif(BMI<=29.9):\n",
    "        print(name +\", You are Overweight.\")\n",
    "    elif(BMI<=34.9):\n",
    "        print(name +\", You are Obese.\")\n",
    "    elif(BMI<=39.9):\n",
    "        print(name +\", You are Severely Obese.\")\n",
    "    else:\n",
    "        print(name +\", You are Morbidly Obese.\")"
   ]
  },
  {
   "cell_type": "code",
   "execution_count": 15,
   "id": "b923011e",
   "metadata": {},
   "outputs": [
    {
     "name": "stdout",
     "output_type": "stream",
     "text": [
      "Enter your name: Alex\n",
      "Enter your weight in pounds: 170\n",
      "Enter your height in inches: 69\n",
      "25.101869355177485\n",
      "Alex, You are Overweight. You need to excercise more and stop sitting and writing so many python tutorials\n"
     ]
    }
   ],
   "source": [
    "name = input(\"Enter your name: \")\n",
    "weight = int(input(\"Enter your weight in pounds: \"))\n",
    "height = int(input(\"Enter your height in inches: \"))\n",
    "\n",
    "BMI = (weight * 703) / (height * height)\n",
    "print(BMI)\n",
    "\n",
    "if (BMI>0):\n",
    "    if(BMI<18.5):\n",
    "        print(name +\", You are Underweight.\")\n",
    "    elif(BMI<=24.9):\n",
    "        print(name +\", You are Normal weight.\")\n",
    "    elif(BMI<=29.9):\n",
    "        print(name +\", You are Overweight. You need to excercise more and stop sitting and writing so many python tutorials\")\n",
    "    elif(BMI<=34.9):\n",
    "        print(name +\", You are Obese.\")\n",
    "    elif(BMI<=39.9):\n",
    "        print(name +\", You are Severely Obese.\")\n",
    "    else:\n",
    "        print(name +\", You are Morbidly Obese.\")\n",
    "else:\n",
    "    print(\"Enter your valid input\")\n"
   ]
  },
  {
   "cell_type": "code",
   "execution_count": null,
   "id": "77b7ed48",
   "metadata": {},
   "outputs": [],
   "source": []
  },
  {
   "cell_type": "code",
   "execution_count": null,
   "id": "9a7d3fda",
   "metadata": {},
   "outputs": [],
   "source": []
  },
  {
   "cell_type": "code",
   "execution_count": null,
   "id": "2eb3cf6a",
   "metadata": {},
   "outputs": [],
   "source": []
  },
  {
   "cell_type": "code",
   "execution_count": null,
   "id": "2a62e80c",
   "metadata": {},
   "outputs": [],
   "source": []
  },
  {
   "cell_type": "code",
   "execution_count": null,
   "id": "3615d994",
   "metadata": {},
   "outputs": [],
   "source": []
  }
 ],
 "metadata": {
  "kernelspec": {
   "display_name": "Python 3 (ipykernel)",
   "language": "python",
   "name": "python3"
  },
  "language_info": {
   "codemirror_mode": {
    "name": "ipython",
    "version": 3
   },
   "file_extension": ".py",
   "mimetype": "text/x-python",
   "name": "python",
   "nbconvert_exporter": "python",
   "pygments_lexer": "ipython3",
   "version": "3.11.3"
  }
 },
 "nbformat": 4,
 "nbformat_minor": 5
}
