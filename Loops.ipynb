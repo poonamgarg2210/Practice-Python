{
 "cells": [
  {
   "cell_type": "code",
   "execution_count": null,
   "id": "367f6f6b",
   "metadata": {},
   "outputs": [],
   "source": [
    "# For Loop "
   ]
  },
  {
   "cell_type": "code",
   "execution_count": 7,
   "id": "83154a87",
   "metadata": {},
   "outputs": [
    {
     "name": "stdout",
     "output_type": "stream",
     "text": [
      "1\n",
      "2\n",
      "3\n",
      "4\n",
      "5\n"
     ]
    }
   ],
   "source": [
    "integers = [1,2,3,4,5]\n",
    "for number in integers:\n",
    "    print(number)\n"
   ]
  },
  {
   "cell_type": "code",
   "execution_count": 10,
   "id": "a8cb5f41",
   "metadata": {},
   "outputs": [
    {
     "name": "stdout",
     "output_type": "stream",
     "text": [
      "yep!\n",
      "yep!\n",
      "yep!\n",
      "yep!\n",
      "yep!\n"
     ]
    }
   ],
   "source": [
    "for number in integers:\n",
    "    print('yep!')\n"
   ]
  },
  {
   "cell_type": "code",
   "execution_count": null,
   "id": "ec3c57f9",
   "metadata": {},
   "outputs": [],
   "source": [
    "integers = [1,2,3,4,5]\n"
   ]
  },
  {
   "cell_type": "code",
   "execution_count": 12,
   "id": "cf27be60",
   "metadata": {},
   "outputs": [
    {
     "name": "stdout",
     "output_type": "stream",
     "text": [
      "2\n",
      "4\n",
      "6\n",
      "8\n",
      "10\n"
     ]
    }
   ],
   "source": [
    "for jelly in integers:\n",
    "    print(jelly + jelly)\n"
   ]
  },
  {
   "cell_type": "code",
   "execution_count": 13,
   "id": "4f61f5c2",
   "metadata": {},
   "outputs": [],
   "source": [
    "ice_cream_dict = {'name' : 'Alex Freberg', 'Weekly intake' : 3, 'favourite ice creams': ['mcc', 'chocolate']}\n"
   ]
  },
  {
   "cell_type": "code",
   "execution_count": 14,
   "id": "57f6c56b",
   "metadata": {},
   "outputs": [
    {
     "name": "stdout",
     "output_type": "stream",
     "text": [
      "Alex Freberg\n",
      "3\n",
      "['mcc', 'chocolate']\n"
     ]
    }
   ],
   "source": [
    "for cream in ice_cream_dict.values():\n",
    "    print (cream)"
   ]
  },
  {
   "cell_type": "code",
   "execution_count": 15,
   "id": "c0959697",
   "metadata": {},
   "outputs": [
    {
     "name": "stdout",
     "output_type": "stream",
     "text": [
      "name -> Alex Freberg\n",
      "Weekly intake -> 3\n",
      "favourite ice creams -> ['mcc', 'chocolate']\n"
     ]
    }
   ],
   "source": [
    "for key, value in ice_cream_dict.items():\n",
    "    print (key, '->' ,value)"
   ]
  },
  {
   "cell_type": "code",
   "execution_count": null,
   "id": "d1463095",
   "metadata": {},
   "outputs": [],
   "source": [
    "# Nested for loops ( a for loop within a for loop )"
   ]
  },
  {
   "cell_type": "code",
   "execution_count": 19,
   "id": "a17bff37",
   "metadata": {},
   "outputs": [],
   "source": [
    "flavours = ['Vanila', 'Chocolate', 'Cookie dough']\n",
    "toppings = ['Hot Fudge', 'Oreos', 'Marshmallows']"
   ]
  },
  {
   "cell_type": "code",
   "execution_count": 20,
   "id": "cfb63c79",
   "metadata": {},
   "outputs": [
    {
     "name": "stdout",
     "output_type": "stream",
     "text": [
      "Vanila topped with Hot Fudge\n",
      "Vanila topped with Oreos\n",
      "Vanila topped with Marshmallows\n",
      "Chocolate topped with Hot Fudge\n",
      "Chocolate topped with Oreos\n",
      "Chocolate topped with Marshmallows\n",
      "Cookie dough topped with Hot Fudge\n",
      "Cookie dough topped with Oreos\n",
      "Cookie dough topped with Marshmallows\n"
     ]
    }
   ],
   "source": [
    "for one in flavours:\n",
    "    for two in toppings:\n",
    "        print (one, 'topped with', two)"
   ]
  },
  {
   "cell_type": "code",
   "execution_count": null,
   "id": "936dba70",
   "metadata": {},
   "outputs": [],
   "source": []
  },
  {
   "cell_type": "code",
   "execution_count": null,
   "id": "075b32bb",
   "metadata": {},
   "outputs": [],
   "source": []
  },
  {
   "cell_type": "code",
   "execution_count": null,
   "id": "07eefd56",
   "metadata": {},
   "outputs": [],
   "source": []
  },
  {
   "cell_type": "code",
   "execution_count": null,
   "id": "707d70fb",
   "metadata": {},
   "outputs": [],
   "source": []
  },
  {
   "cell_type": "code",
   "execution_count": null,
   "id": "72e4648b",
   "metadata": {},
   "outputs": [],
   "source": []
  }
 ],
 "metadata": {
  "kernelspec": {
   "display_name": "Python 3 (ipykernel)",
   "language": "python",
   "name": "python3"
  },
  "language_info": {
   "codemirror_mode": {
    "name": "ipython",
    "version": 3
   },
   "file_extension": ".py",
   "mimetype": "text/x-python",
   "name": "python",
   "nbconvert_exporter": "python",
   "pygments_lexer": "ipython3",
   "version": "3.11.3"
  }
 },
 "nbformat": 4,
 "nbformat_minor": 5
}
