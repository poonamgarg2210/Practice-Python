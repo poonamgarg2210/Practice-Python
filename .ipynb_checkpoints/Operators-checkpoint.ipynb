{
 "cells": [
  {
   "cell_type": "code",
   "execution_count": null,
   "id": "c7219934-b16c-463b-82f3-377155d2ea0d",
   "metadata": {},
   "outputs": [],
   "source": [
    "# Operators \n",
    "== Equal\n",
    "!= Not Equal \n",
    "> Greater than\n",
    "< Less Than \n",
    ">= Greater than or equal to\n",
    "<= Less than or equal to"
   ]
  },
  {
   "cell_type": "code",
   "execution_count": 1,
   "id": "2a5f8679-e7a3-4c57-906f-119d72c7a8c8",
   "metadata": {
    "tags": []
   },
   "outputs": [
    {
     "ename": "SyntaxError",
     "evalue": "cannot assign to literal here. Maybe you meant '==' instead of '='? (1637406045.py, line 1)",
     "output_type": "error",
     "traceback": [
      "\u001b[1;36m  Cell \u001b[1;32mIn[1], line 1\u001b[1;36m\u001b[0m\n\u001b[1;33m    10 = 10\u001b[0m\n\u001b[1;37m    ^\u001b[0m\n\u001b[1;31mSyntaxError\u001b[0m\u001b[1;31m:\u001b[0m cannot assign to literal here. Maybe you meant '==' instead of '='?\n"
     ]
    }
   ],
   "source": [
    "10 = 10 "
   ]
  },
  {
   "cell_type": "code",
   "execution_count": 2,
   "id": "90a011d0-08c3-4ac1-8b80-c3c64fae6a17",
   "metadata": {
    "tags": []
   },
   "outputs": [
    {
     "data": {
      "text/plain": [
       "True"
      ]
     },
     "execution_count": 2,
     "metadata": {},
     "output_type": "execute_result"
    }
   ],
   "source": [
    "10==10"
   ]
  },
  {
   "cell_type": "code",
   "execution_count": 3,
   "id": "8b753a60-8ff0-492c-82e0-bda39ed0ac5f",
   "metadata": {
    "tags": []
   },
   "outputs": [
    {
     "data": {
      "text/plain": [
       "True"
      ]
     },
     "execution_count": 3,
     "metadata": {},
     "output_type": "execute_result"
    }
   ],
   "source": [
    "10!=50"
   ]
  },
  {
   "cell_type": "code",
   "execution_count": 7,
   "id": "ba275d43-d136-44ea-a84b-937621957103",
   "metadata": {
    "tags": []
   },
   "outputs": [
    {
     "data": {
      "text/plain": [
       "False"
      ]
     },
     "execution_count": 7,
     "metadata": {},
     "output_type": "execute_result"
    }
   ],
   "source": [
    "10==50"
   ]
  },
  {
   "cell_type": "code",
   "execution_count": 6,
   "id": "30d65564-8696-438f-bd9a-420079b2fd5f",
   "metadata": {
    "tags": []
   },
   "outputs": [
    {
     "data": {
      "text/plain": [
       "False"
      ]
     },
     "execution_count": 6,
     "metadata": {},
     "output_type": "execute_result"
    }
   ],
   "source": [
    "'vanila' == 'chocolate'"
   ]
  },
  {
   "cell_type": "code",
   "execution_count": 8,
   "id": "58fc0ee3-1432-4aa8-a256-bca71af08d50",
   "metadata": {
    "tags": []
   },
   "outputs": [
    {
     "data": {
      "text/plain": [
       "True"
      ]
     },
     "execution_count": 8,
     "metadata": {},
     "output_type": "execute_result"
    }
   ],
   "source": [
    "'vanila'!= 'choclate'"
   ]
  },
  {
   "cell_type": "code",
   "execution_count": 9,
   "id": "34b27bea-35a7-47ed-bd9f-1298129fc1b2",
   "metadata": {
    "tags": []
   },
   "outputs": [
    {
     "data": {
      "text/plain": [
       "False"
      ]
     },
     "execution_count": 9,
     "metadata": {},
     "output_type": "execute_result"
    }
   ],
   "source": [
    "x='vanila'\n",
    "y='chocolate'\n",
    "x==y"
   ]
  },
  {
   "cell_type": "code",
   "execution_count": 10,
   "id": "8cdbc79a-01d5-4dab-908e-296d074ba35e",
   "metadata": {
    "tags": []
   },
   "outputs": [
    {
     "data": {
      "text/plain": [
       "True"
      ]
     },
     "execution_count": 10,
     "metadata": {},
     "output_type": "execute_result"
    }
   ],
   "source": [
    "x='vanila'\n",
    "y='chocolate'\n",
    "x!=y"
   ]
  },
  {
   "cell_type": "code",
   "execution_count": null,
   "id": "e8e71004-61ca-4e35-8c8f-0ffede3d6e40",
   "metadata": {},
   "outputs": [],
   "source": [
    "# Logical Operators \n",
    "and\n",
    "or\n",
    "not\n"
   ]
  },
  {
   "cell_type": "code",
   "execution_count": 12,
   "id": "1201f816-f087-41e4-9441-9e119e3b9e3f",
   "metadata": {
    "tags": []
   },
   "outputs": [
    {
     "data": {
      "text/plain": [
       "False"
      ]
     },
     "execution_count": 12,
     "metadata": {},
     "output_type": "execute_result"
    }
   ],
   "source": [
    "(10 > 50) and (50 > 10)"
   ]
  },
  {
   "cell_type": "code",
   "execution_count": 13,
   "id": "2a5c669f-e5d1-4bdf-9906-62995abe0676",
   "metadata": {
    "tags": []
   },
   "outputs": [
    {
     "data": {
      "text/plain": [
       "True"
      ]
     },
     "execution_count": 13,
     "metadata": {},
     "output_type": "execute_result"
    }
   ],
   "source": [
    "(10 > 50) or (50 > 10)"
   ]
  },
  {
   "cell_type": "code",
   "execution_count": 14,
   "id": "57c814a5-cae7-4647-9f79-ba38b6560fcf",
   "metadata": {
    "tags": []
   },
   "outputs": [
    {
     "data": {
      "text/plain": [
       "True"
      ]
     },
     "execution_count": 14,
     "metadata": {},
     "output_type": "execute_result"
    }
   ],
   "source": [
    "('vanila' > 'Chocolate') or (50 > 10) #because V>C in alphabets "
   ]
  },
  {
   "cell_type": "code",
   "execution_count": 15,
   "id": "63d574a3-78d2-426c-8a34-2aee1bf0275b",
   "metadata": {
    "tags": []
   },
   "outputs": [
    {
     "data": {
      "text/plain": [
       "False"
      ]
     },
     "execution_count": 15,
     "metadata": {},
     "output_type": "execute_result"
    }
   ],
   "source": [
    "not(50 > 10)"
   ]
  },
  {
   "cell_type": "code",
   "execution_count": null,
   "id": "d187f54d-5241-45bb-982f-a3f1550491af",
   "metadata": {},
   "outputs": [],
   "source": [
    "# Membership Operators\n",
    "in\n",
    "not in "
   ]
  },
  {
   "cell_type": "code",
   "execution_count": 17,
   "id": "47dbd9d3-bad0-460f-89ea-a83742db71e6",
   "metadata": {
    "tags": []
   },
   "outputs": [
    {
     "data": {
      "text/plain": [
       "True"
      ]
     },
     "execution_count": 17,
     "metadata": {},
     "output_type": "execute_result"
    }
   ],
   "source": [
    "ice_cream = 'I love ice cream'\n",
    "'love' in ice_cream"
   ]
  },
  {
   "cell_type": "code",
   "execution_count": 18,
   "id": "b920e9ba-a72b-4f95-b1eb-5a9119acaca4",
   "metadata": {
    "tags": []
   },
   "outputs": [
    {
     "data": {
      "text/plain": [
       "True"
      ]
     },
     "execution_count": 18,
     "metadata": {},
     "output_type": "execute_result"
    }
   ],
   "source": [
    "ice_cream = 'I love ice cream'\n",
    "'love' in 'I love ice cream'"
   ]
  },
  {
   "cell_type": "code",
   "execution_count": 20,
   "id": "bb467e2c-85b3-493f-9575-f7b087f8d18d",
   "metadata": {
    "tags": []
   },
   "outputs": [
    {
     "data": {
      "text/plain": [
       "False"
      ]
     },
     "execution_count": 20,
     "metadata": {},
     "output_type": "execute_result"
    }
   ],
   "source": [
    "scoops = [1.2,3,4,5]\n",
    "2 in scoops"
   ]
  },
  {
   "cell_type": "code",
   "execution_count": 21,
   "id": "e52e509a-a86a-4c74-864d-c98228779e64",
   "metadata": {
    "tags": []
   },
   "outputs": [
    {
     "data": {
      "text/plain": [
       "False"
      ]
     },
     "execution_count": 21,
     "metadata": {},
     "output_type": "execute_result"
    }
   ],
   "source": [
    "scoops = [1.2,3,4,5]\n",
    "6 in scoops"
   ]
  },
  {
   "cell_type": "code",
   "execution_count": 22,
   "id": "d33825db-0cfe-4d97-9f3e-6cf820357601",
   "metadata": {
    "tags": []
   },
   "outputs": [
    {
     "data": {
      "text/plain": [
       "True"
      ]
     },
     "execution_count": 22,
     "metadata": {},
     "output_type": "execute_result"
    }
   ],
   "source": [
    "scoops = [1.2,3,4,5]\n",
    "wanted_scoops = 8\n",
    "wanted_scoops not in scoops\n"
   ]
  },
  {
   "cell_type": "code",
   "execution_count": 23,
   "id": "17a41d2e-0320-44ef-b093-d5cf88196dfb",
   "metadata": {
    "tags": []
   },
   "outputs": [
    {
     "data": {
      "text/plain": [
       "False"
      ]
     },
     "execution_count": 23,
     "metadata": {},
     "output_type": "execute_result"
    }
   ],
   "source": [
    "scoops = [1.2,3,4,5]\n",
    "wanted_scoops = 8\n",
    "wanted_scoops in scoops\n"
   ]
  },
  {
   "cell_type": "code",
   "execution_count": null,
   "id": "98ff72b0-11af-4d48-a3eb-fd34b0748d67",
   "metadata": {},
   "outputs": [],
   "source": []
  }
 ],
 "metadata": {
  "kernelspec": {
   "display_name": "Python 3 (ipykernel)",
   "language": "python",
   "name": "python3"
  },
  "language_info": {
   "codemirror_mode": {
    "name": "ipython",
    "version": 3
   },
   "file_extension": ".py",
   "mimetype": "text/x-python",
   "name": "python",
   "nbconvert_exporter": "python",
   "pygments_lexer": "ipython3",
   "version": "3.11.3"
  }
 },
 "nbformat": 4,
 "nbformat_minor": 5
}
