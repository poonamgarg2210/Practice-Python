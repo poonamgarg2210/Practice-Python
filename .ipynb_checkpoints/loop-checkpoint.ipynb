{
 "cells": [
  {
   "cell_type": "code",
   "execution_count": null,
   "id": "105c4031-3254-43f0-bc4b-48f1d98ef352",
   "metadata": {},
   "outputs": [],
   "source": [
    "# Print all the numbers from 1 to 10 using loop "
   ]
  },
  {
   "cell_type": "code",
   "execution_count": null,
   "id": "9cfba8b3-2ccd-498d-a513-ceaf744fe194",
   "metadata": {},
   "outputs": [],
   "source": [
    "i = 1 \n",
    "while i <= 10:\n",
    "    print(i)\n",
    "    i += 1\n",
    "    "
   ]
  },
  {
   "cell_type": "code",
   "execution_count": null,
   "id": "64194725-7471-4285-acc0-080b2e5dd301",
   "metadata": {},
   "outputs": [],
   "source": [
    "i = 1 \n",
    "while i <= 10:\n",
    "    print(i, end = \" \")\n",
    "    i += 1\n"
   ]
  },
  {
   "cell_type": "code",
   "execution_count": null,
   "id": "0872c621-cdba-4c57-b471-b20b480b0192",
   "metadata": {},
   "outputs": [],
   "source": [
    "# Print all the even numbers from 0 to 10 using loop "
   ]
  },
  {
   "cell_type": "code",
   "execution_count": null,
   "id": "a7af424a-96e7-421c-ad0c-70844d2feafc",
   "metadata": {},
   "outputs": [],
   "source": [
    "i = 0\n",
    "while i <= 10:\n",
    "    if i % 2 == 0:\n",
    "        print(i)\n",
    "    i += 1\n",
    "        \n"
   ]
  },
  {
   "cell_type": "code",
   "execution_count": null,
   "id": "55e3947f-d5a3-472e-85f6-9215aa46e528",
   "metadata": {},
   "outputs": [],
   "source": [
    "i = 0\n",
    "while i <= 10:\n",
    "    if i % 2 == 0:\n",
    "        print(i)\n",
    "    i += 1\n"
   ]
  },
  {
   "cell_type": "code",
   "execution_count": null,
   "id": "8bc578eb-84ee-4ca8-9cba-53882414cb1a",
   "metadata": {},
   "outputs": [],
   "source": []
  },
  {
   "cell_type": "code",
   "execution_count": null,
   "id": "80e4ee24-53cd-4c22-b8dd-c6b3af2193d8",
   "metadata": {},
   "outputs": [],
   "source": []
  },
  {
   "cell_type": "code",
   "execution_count": null,
   "id": "ac152b35-b5a2-4ae7-ab1b-c5d6ccfa1edb",
   "metadata": {},
   "outputs": [],
   "source": []
  },
  {
   "cell_type": "code",
   "execution_count": null,
   "id": "aee8e12a-08f7-4f25-9511-d4733a814eb1",
   "metadata": {},
   "outputs": [],
   "source": []
  },
  {
   "cell_type": "code",
   "execution_count": null,
   "id": "12068d52-783b-40d8-85da-179dddb8ccc3",
   "metadata": {},
   "outputs": [],
   "source": []
  }
 ],
 "metadata": {
  "kernelspec": {
   "display_name": "Python 3 (ipykernel)",
   "language": "python",
   "name": "python3"
  },
  "language_info": {
   "codemirror_mode": {
    "name": "ipython",
    "version": 3
   },
   "file_extension": ".py",
   "mimetype": "text/x-python",
   "name": "python",
   "nbconvert_exporter": "python",
   "pygments_lexer": "ipython3",
   "version": "3.11.5"
  }
 },
 "nbformat": 4,
 "nbformat_minor": 5
}
