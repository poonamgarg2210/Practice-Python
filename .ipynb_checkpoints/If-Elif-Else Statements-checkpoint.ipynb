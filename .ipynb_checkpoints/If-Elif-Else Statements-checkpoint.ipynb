{
 "cells": [
  {
   "cell_type": "code",
   "execution_count": null,
   "id": "70d1b78e-dc1d-4356-a5cd-cbea05004c81",
   "metadata": {},
   "outputs": [],
   "source": [
    "# If - Elif - Else Statements"
   ]
  },
  {
   "cell_type": "code",
   "execution_count": 5,
   "id": "3539826d-9b5e-4878-8885-f388fbbc9ce3",
   "metadata": {
    "tags": []
   },
   "outputs": [
    {
     "name": "stdout",
     "output_type": "stream",
     "text": [
      "It worked!\n"
     ]
    }
   ],
   "source": [
    "if 25 > 10:\n",
    "    print ('It worked!')"
   ]
  },
  {
   "cell_type": "code",
   "execution_count": 7,
   "id": "5647b0b6-5023-4e57-ba5a-1aff8658a31b",
   "metadata": {
    "tags": []
   },
   "outputs": [
    {
     "name": "stdout",
     "output_type": "stream",
     "text": [
      "It did not work...\n"
     ]
    }
   ],
   "source": [
    "if 25 < 10:\n",
    "    print ('It worked!')\n",
    "else:\n",
    "    print ('It did not work...')"
   ]
  },
  {
   "cell_type": "code",
   "execution_count": 8,
   "id": "24e2f1b9-875a-4891-ad31-0e5e56ae9a1c",
   "metadata": {
    "tags": []
   },
   "outputs": [
    {
     "name": "stdout",
     "output_type": "stream",
     "text": [
      "It worked!\n"
     ]
    }
   ],
   "source": [
    "if 25 > 10:\n",
    "    print ('It worked!')\n",
    "else:\n",
    "    print ('It did not work...')"
   ]
  },
  {
   "cell_type": "code",
   "execution_count": 9,
   "id": "ea099786-1730-4129-bbf0-840952584222",
   "metadata": {
    "tags": []
   },
   "outputs": [
    {
     "name": "stdout",
     "output_type": "stream",
     "text": [
      "elif worked!\n"
     ]
    }
   ],
   "source": [
    "if 25 < 10:\n",
    "    print ('It worked!')\n",
    "elif 25 < 30:\n",
    "    print ('elif worked!')\n",
    "else:\n",
    "    print ('It did not work...')"
   ]
  },
  {
   "cell_type": "code",
   "execution_count": 11,
   "id": "d0f5b606-2b30-4217-aa84-d5ed1cdea9ad",
   "metadata": {
    "tags": []
   },
   "outputs": [
    {
     "name": "stdout",
     "output_type": "stream",
     "text": [
      "elif 3 worked!\n"
     ]
    }
   ],
   "source": [
    "if 25 < 10:\n",
    "    print ('It worked!')\n",
    "elif 25 < 20:\n",
    "    print ('elif worked!')\n",
    "elif 25 < 21:\n",
    "    print ('elif 2 worked!')\n",
    "elif 25 < 40:\n",
    "    print ('elif 3 worked!')\n",
    "elif 25 < 50:\n",
    "    print ('elif 4 worked!')    \n",
    "else:\n",
    "    print ('It did not work...')"
   ]
  },
  {
   "cell_type": "code",
   "execution_count": 12,
   "id": "83aa7b5b-7138-4c31-9e39-31322784e5f4",
   "metadata": {
    "tags": []
   },
   "outputs": [
    {
     "name": "stdout",
     "output_type": "stream",
     "text": [
      "It worked!\n"
     ]
    }
   ],
   "source": [
    "if (25 < 10) or (1<3):\n",
    "    print ('It worked!')\n",
    "elif 25 < 20:\n",
    "    print ('elif worked!')\n",
    "elif 25 < 21:\n",
    "    print ('elif 2 worked!')\n",
    "elif 25 < 40:\n",
    "    print ('elif 3 worked!')\n",
    "elif 25 < 50:\n",
    "    print ('elif 4 worked!')    \n",
    "else:\n",
    "    print ('It did not work...')"
   ]
  },
  {
   "cell_type": "code",
   "execution_count": 13,
   "id": "40f89498-9c4c-4e2f-b6d3-c4231d114f74",
   "metadata": {
    "tags": []
   },
   "outputs": [
    {
     "name": "stdout",
     "output_type": "stream",
     "text": [
      "It did not work\n"
     ]
    }
   ],
   "source": [
    "print( 'It worked') if 10>30 else print( 'It did not work')"
   ]
  },
  {
   "cell_type": "code",
   "execution_count": 14,
   "id": "badfd8c5-0059-4457-892c-9cd5e4913e75",
   "metadata": {
    "tags": []
   },
   "outputs": [
    {
     "name": "stdout",
     "output_type": "stream",
     "text": [
      "It worked!\n",
      "This nested if statement worked\n"
     ]
    }
   ],
   "source": [
    "if (25 < 10) or (1<3):\n",
    "    print ('It worked!')\n",
    "if 10>5   :\n",
    "    print ('This nested if statement worked')\n",
    "elif 25 < 20:\n",
    "    print ('elif worked!')\n",
    "elif 25 < 21:\n",
    "    print ('elif 2 worked!')\n",
    "elif 25 < 40:\n",
    "    print ('elif 3 worked!')\n",
    "elif 25 < 50:\n",
    "    print ('elif 4 worked!')    \n",
    "else:\n",
    "    print ('It did not work...')"
   ]
  },
  {
   "cell_type": "code",
   "execution_count": null,
   "id": "0ed20de9-7e35-41c0-b271-85106b0f9017",
   "metadata": {},
   "outputs": [],
   "source": []
  }
 ],
 "metadata": {
  "kernelspec": {
   "display_name": "Python 3 (ipykernel)",
   "language": "python",
   "name": "python3"
  },
  "language_info": {
   "codemirror_mode": {
    "name": "ipython",
    "version": 3
   },
   "file_extension": ".py",
   "mimetype": "text/x-python",
   "name": "python",
   "nbconvert_exporter": "python",
   "pygments_lexer": "ipython3",
   "version": "3.11.3"
  }
 },
 "nbformat": 4,
 "nbformat_minor": 5
}
