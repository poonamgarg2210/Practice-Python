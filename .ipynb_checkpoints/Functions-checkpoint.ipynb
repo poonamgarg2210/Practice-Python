{
 "cells": [
  {
   "cell_type": "code",
   "execution_count": 1,
   "id": "4be1cfb0",
   "metadata": {},
   "outputs": [],
   "source": [
    "def first_function(): \n",
    "    print('we did it')"
   ]
  },
  {
   "cell_type": "code",
   "execution_count": null,
   "id": "de91643a",
   "metadata": {},
   "outputs": [],
   "source": [
    "it will not give output. for output we need to call it as below:"
   ]
  },
  {
   "cell_type": "code",
   "execution_count": 2,
   "id": "732d5199",
   "metadata": {},
   "outputs": [
    {
     "name": "stdout",
     "output_type": "stream",
     "text": [
      "we did it\n"
     ]
    }
   ],
   "source": [
    "first_function()"
   ]
  },
  {
   "cell_type": "code",
   "execution_count": 3,
   "id": "18369b2f",
   "metadata": {},
   "outputs": [],
   "source": [
    "def number_squared(number):\n",
    "    print(number**2)\n"
   ]
  },
  {
   "cell_type": "code",
   "execution_count": 4,
   "id": "572031e6",
   "metadata": {},
   "outputs": [
    {
     "name": "stdout",
     "output_type": "stream",
     "text": [
      "25\n"
     ]
    }
   ],
   "source": [
    "number_squared(5)"
   ]
  },
  {
   "cell_type": "code",
   "execution_count": null,
   "id": "6d7c7474",
   "metadata": {},
   "outputs": [],
   "source": [
    "# you can pass multiple arguments separating by a coma(,)\n",
    "# if yor are passing two arguments(i.e. number,power), then you must have two numbers in calling functions(i.e.5,3)\n"
   ]
  },
  {
   "cell_type": "code",
   "execution_count": 5,
   "id": "440e12b9",
   "metadata": {},
   "outputs": [],
   "source": [
    "def number_squared_cust(number,power):\n",
    "    print(number**power)\n"
   ]
  },
  {
   "cell_type": "code",
   "execution_count": 7,
   "id": "3294da6d",
   "metadata": {},
   "outputs": [
    {
     "name": "stdout",
     "output_type": "stream",
     "text": [
      "125\n"
     ]
    }
   ],
   "source": [
    "number_squared_cust(5,3)\n",
    "   "
   ]
  },
  {
   "cell_type": "code",
   "execution_count": null,
   "id": "3f55f0c9",
   "metadata": {},
   "outputs": [],
   "source": [
    "# Arbitrary arguments- if you dont dont know how many arguments you are passing then you you are not need to specify it at that time. you can specify it later during function call "
   ]
  },
  {
   "cell_type": "code",
   "execution_count": 8,
   "id": "19c9d635",
   "metadata": {},
   "outputs": [],
   "source": [
    "def number_args(*number):\n",
    "    print(number[0]*number[1])\n"
   ]
  },
  {
   "cell_type": "code",
   "execution_count": 9,
   "id": "dce82973",
   "metadata": {},
   "outputs": [
    {
     "name": "stdout",
     "output_type": "stream",
     "text": [
      "30\n"
     ]
    }
   ],
   "source": [
    "number_args(5,6,1,2,8)  # taking 5 and 6. this is actually a tuple"
   ]
  },
  {
   "cell_type": "code",
   "execution_count": null,
   "id": "ce82c002",
   "metadata": {},
   "outputs": [],
   "source": [
    "args_tuple = (5,6,1,2,8)\n",
    "\n",
    "def number_args(*number):\n",
    "    print(number[0]*number[1])\n"
   ]
  },
  {
   "cell_type": "code",
   "execution_count": 10,
   "id": "a90d47ca",
   "metadata": {},
   "outputs": [
    {
     "ename": "NameError",
     "evalue": "name 'args_tuple' is not defined",
     "output_type": "error",
     "traceback": [
      "\u001b[1;31m---------------------------------------------------------------------------\u001b[0m",
      "\u001b[1;31mNameError\u001b[0m                                 Traceback (most recent call last)",
      "Cell \u001b[1;32mIn[10], line 1\u001b[0m\n\u001b[1;32m----> 1\u001b[0m number_args(args_tuple)\n",
      "\u001b[1;31mNameError\u001b[0m: name 'args_tuple' is not defined"
     ]
    }
   ],
   "source": [
    "number_args(args_tuple) # this will fail, you will have to put a * like you did in above calling function"
   ]
  },
  {
   "cell_type": "code",
   "execution_count": 12,
   "id": "ffd9db30",
   "metadata": {},
   "outputs": [],
   "source": [
    "args_tuple = (5,6,1,2,8)\n",
    "\n",
    "def number_args(*number):\n",
    "    print(number[0]*number[1])\n"
   ]
  },
  {
   "cell_type": "code",
   "execution_count": 13,
   "id": "71bc435d",
   "metadata": {},
   "outputs": [
    {
     "name": "stdout",
     "output_type": "stream",
     "text": [
      "30\n"
     ]
    }
   ],
   "source": [
    "number_args(*args_tuple) # this will work"
   ]
  },
  {
   "cell_type": "code",
   "execution_count": null,
   "id": "aecd8a26",
   "metadata": {},
   "outputs": [],
   "source": [
    "# Keyword argument - you specify arguments earlier at the defining stage it is kind of similar but you can be more specific while\n",
    " calling it so that we can assign which number to which position instead of automatically relating to the defined function. i.e."
   ]
  },
  {
   "cell_type": "code",
   "execution_count": 14,
   "id": "f3019974",
   "metadata": {},
   "outputs": [],
   "source": [
    "def number_squared_cust(number,power):\n",
    "    print(number**power)\n"
   ]
  },
  {
   "cell_type": "code",
   "execution_count": 16,
   "id": "42953a07",
   "metadata": {},
   "outputs": [
    {
     "name": "stdout",
     "output_type": "stream",
     "text": [
      "243\n"
     ]
    }
   ],
   "source": [
    "number_squared_cust(power = 5, number = 3)"
   ]
  },
  {
   "cell_type": "code",
   "execution_count": null,
   "id": "cbf2b0f5",
   "metadata": {},
   "outputs": [],
   "source": [
    "# Arbitrary keyword function"
   ]
  },
  {
   "cell_type": "code",
   "execution_count": null,
   "id": "e6252a2a",
   "metadata": {},
   "outputs": [],
   "source": [
    "def number_args(*number) - arbitrary function\n",
    "def number_kwrgs(**number) - arbitrary keyword function if we are passing an arbitrary function as we dont know how many arguments we will be passing"
   ]
  },
  {
   "cell_type": "code",
   "execution_count": 20,
   "id": "010722c2",
   "metadata": {},
   "outputs": [],
   "source": [
    "def number_kwrgs(**number):\n",
    "    print('My number is:' + number['integer'])"
   ]
  },
  {
   "cell_type": "code",
   "execution_count": 21,
   "id": "fdaa82e6",
   "metadata": {},
   "outputs": [
    {
     "name": "stdout",
     "output_type": "stream",
     "text": [
      "My number is:2309\n"
     ]
    }
   ],
   "source": [
    "number_kwrgs(integer = '2309')"
   ]
  },
  {
   "cell_type": "code",
   "execution_count": null,
   "id": "1928c2b9",
   "metadata": {},
   "outputs": [],
   "source": [
    "# we can add also "
   ]
  },
  {
   "cell_type": "code",
   "execution_count": 27,
   "id": "02af0f73",
   "metadata": {},
   "outputs": [],
   "source": [
    "def number_kwrgs(**number):\n",
    "    print('My number is:' + number['integer'] + 'My other number :' + number['integer2'])"
   ]
  },
  {
   "cell_type": "code",
   "execution_count": 30,
   "id": "b1b5a3a3",
   "metadata": {},
   "outputs": [
    {
     "name": "stdout",
     "output_type": "stream",
     "text": [
      "My number is:2309My other number :309\n"
     ]
    }
   ],
   "source": [
    "number_kwrgs(integer = '2309', integer2 = '309')"
   ]
  },
  {
   "cell_type": "code",
   "execution_count": null,
   "id": "e475a849",
   "metadata": {},
   "outputs": [],
   "source": []
  },
  {
   "cell_type": "code",
   "execution_count": null,
   "id": "51f60cb0",
   "metadata": {},
   "outputs": [],
   "source": []
  },
  {
   "cell_type": "code",
   "execution_count": null,
   "id": "e79496e1",
   "metadata": {},
   "outputs": [],
   "source": []
  }
 ],
 "metadata": {
  "kernelspec": {
   "display_name": "Python 3 (ipykernel)",
   "language": "python",
   "name": "python3"
  },
  "language_info": {
   "codemirror_mode": {
    "name": "ipython",
    "version": 3
   },
   "file_extension": ".py",
   "mimetype": "text/x-python",
   "name": "python",
   "nbconvert_exporter": "python",
   "pygments_lexer": "ipython3",
   "version": "3.11.3"
  }
 },
 "nbformat": 4,
 "nbformat_minor": 5
}
